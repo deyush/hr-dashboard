{
 "cells": [
  {
   "cell_type": "markdown",
   "metadata": {},
   "source": [
    "# HR Dashboard - Data Cleaning\n",
    "## Employee Master Dataset\n",
    "\n",
    "This notebook performs data cleaning and wrangling on the Employee_Master dataset."
   ]
  },
  {
   "cell_type": "markdown",
   "metadata": {},
   "source": [
    "### Import Libraries"
   ]
  },
  {
   "cell_type": "code",
   "execution_count": 43,
   "metadata": {},
   "outputs": [],
   "source": [
    "import pandas as pd\n",
    "import numpy as np\n",
    "import matplotlib.pyplot as plt\n",
    "import warnings\n",
    "warnings.filterwarnings('ignore')"
   ]
  },
  {
   "cell_type": "markdown",
   "metadata": {},
   "source": [
    "### Load Raw Data"
   ]
  },
  {
   "cell_type": "code",
   "execution_count": 44,
   "metadata": {},
   "outputs": [
    {
     "name": "stdout",
     "output_type": "stream",
     "text": [
      "Original dataset shape: (2000, 12)\n"
     ]
    },
    {
     "data": {
      "text/html": [
       "<div>\n",
       "<style scoped>\n",
       "    .dataframe tbody tr th:only-of-type {\n",
       "        vertical-align: middle;\n",
       "    }\n",
       "\n",
       "    .dataframe tbody tr th {\n",
       "        vertical-align: top;\n",
       "    }\n",
       "\n",
       "    .dataframe thead th {\n",
       "        text-align: right;\n",
       "    }\n",
       "</style>\n",
       "<table border=\"1\" class=\"dataframe\">\n",
       "  <thead>\n",
       "    <tr style=\"text-align: right;\">\n",
       "      <th></th>\n",
       "      <th>EmployeeID</th>\n",
       "      <th>FullName</th>\n",
       "      <th>Department</th>\n",
       "      <th>JobTitle</th>\n",
       "      <th>Email</th>\n",
       "      <th>Gender</th>\n",
       "      <th>HireDate</th>\n",
       "      <th>TerminationDate</th>\n",
       "      <th>Salary</th>\n",
       "      <th>ManagerID</th>\n",
       "      <th>PerformanceRating</th>\n",
       "      <th>Status</th>\n",
       "    </tr>\n",
       "  </thead>\n",
       "  <tbody>\n",
       "    <tr>\n",
       "      <th>0</th>\n",
       "      <td>PNR-1001</td>\n",
       "      <td>Aarav Taylor</td>\n",
       "      <td>IT Support</td>\n",
       "      <td>Help Desk Specialist</td>\n",
       "      <td>employee.1001@pnrao.com</td>\n",
       "      <td>NaN</td>\n",
       "      <td>2021-05-08</td>\n",
       "      <td></td>\n",
       "      <td>79378.0</td>\n",
       "      <td>NaN</td>\n",
       "      <td>NaN</td>\n",
       "      <td>Active</td>\n",
       "    </tr>\n",
       "    <tr>\n",
       "      <th>1</th>\n",
       "      <td>PNR-1002</td>\n",
       "      <td>Emma Jones</td>\n",
       "      <td>Quality Control</td>\n",
       "      <td>NaN</td>\n",
       "      <td>employee.1002@pnrao.com</td>\n",
       "      <td>Female</td>\n",
       "      <td>2019-11-13</td>\n",
       "      <td>NaN</td>\n",
       "      <td>69570.0</td>\n",
       "      <td>PNR-1714</td>\n",
       "      <td>4.0</td>\n",
       "      <td>Active</td>\n",
       "    </tr>\n",
       "    <tr>\n",
       "      <th>2</th>\n",
       "      <td>PNR-1002</td>\n",
       "      <td>Emma Jones</td>\n",
       "      <td>Quality Control</td>\n",
       "      <td>QC Inspector</td>\n",
       "      <td>employee.1002@pnrao.com</td>\n",
       "      <td>Female</td>\n",
       "      <td>2019-11-13</td>\n",
       "      <td>NaN</td>\n",
       "      <td>69570.0</td>\n",
       "      <td>PNR-1714</td>\n",
       "      <td>4.0</td>\n",
       "      <td>Active</td>\n",
       "    </tr>\n",
       "    <tr>\n",
       "      <th>3</th>\n",
       "      <td>PNR-1004</td>\n",
       "      <td>Rohan Jones</td>\n",
       "      <td>Human Resources</td>\n",
       "      <td>HR Coordinator</td>\n",
       "      <td>employee.1004@pnrao.com</td>\n",
       "      <td>Female</td>\n",
       "      <td>2020-02-11</td>\n",
       "      <td>NaN</td>\n",
       "      <td>61572.0</td>\n",
       "      <td>NaN</td>\n",
       "      <td>4.0</td>\n",
       "      <td>NaN</td>\n",
       "    </tr>\n",
       "    <tr>\n",
       "      <th>4</th>\n",
       "      <td>PNR-1004</td>\n",
       "      <td>Rohan Jones</td>\n",
       "      <td>Human Resources</td>\n",
       "      <td>HR Coordinator</td>\n",
       "      <td>employee.1004@pnrao.com</td>\n",
       "      <td>Female</td>\n",
       "      <td>2020-02-11</td>\n",
       "      <td>NaN</td>\n",
       "      <td>61572.0</td>\n",
       "      <td>PNR-1925</td>\n",
       "      <td>4.0</td>\n",
       "      <td>Active</td>\n",
       "    </tr>\n",
       "    <tr>\n",
       "      <th>5</th>\n",
       "      <td>PNR-1006</td>\n",
       "      <td>NaN</td>\n",
       "      <td>Logistics</td>\n",
       "      <td>Warehouse Associate</td>\n",
       "      <td>employee.1006@pnrao.com</td>\n",
       "      <td>NaN</td>\n",
       "      <td>2025-02-09</td>\n",
       "      <td>NaN</td>\n",
       "      <td>60796.0</td>\n",
       "      <td>PNR-1690</td>\n",
       "      <td>2.0</td>\n",
       "      <td>Active</td>\n",
       "    </tr>\n",
       "    <tr>\n",
       "      <th>6</th>\n",
       "      <td>PNR-1007</td>\n",
       "      <td>John Smith</td>\n",
       "      <td>Marketing</td>\n",
       "      <td>Marketing Coordinator</td>\n",
       "      <td>employee.1007@pnrao.com</td>\n",
       "      <td>Female</td>\n",
       "      <td>2023-08-21</td>\n",
       "      <td>NaN</td>\n",
       "      <td>76107.0</td>\n",
       "      <td>PNR-2219</td>\n",
       "      <td>NaN</td>\n",
       "      <td>Active</td>\n",
       "    </tr>\n",
       "    <tr>\n",
       "      <th>7</th>\n",
       "      <td>PNR-1008</td>\n",
       "      <td>Chris Jones</td>\n",
       "      <td>Research &amp; Development</td>\n",
       "      <td>Lab Technician</td>\n",
       "      <td>employee.1008@pnrao.com</td>\n",
       "      <td>NaN</td>\n",
       "      <td>2023-07-27</td>\n",
       "      <td>NaN</td>\n",
       "      <td>79117.0</td>\n",
       "      <td>PNR-1441</td>\n",
       "      <td>3.0</td>\n",
       "      <td>Active</td>\n",
       "    </tr>\n",
       "    <tr>\n",
       "      <th>8</th>\n",
       "      <td>PNR-1009</td>\n",
       "      <td>NaN</td>\n",
       "      <td>Human Resources</td>\n",
       "      <td>HR Generalist</td>\n",
       "      <td>employee.1009@pnrao.com</td>\n",
       "      <td>Non-binary</td>\n",
       "      <td>2022-03-17</td>\n",
       "      <td>NaN</td>\n",
       "      <td>59818.0</td>\n",
       "      <td>PNR-1847</td>\n",
       "      <td>5.0</td>\n",
       "      <td>Active</td>\n",
       "    </tr>\n",
       "    <tr>\n",
       "      <th>9</th>\n",
       "      <td>PNR-1010</td>\n",
       "      <td>Anika Sharma</td>\n",
       "      <td>Marketing</td>\n",
       "      <td>Marketing Manager</td>\n",
       "      <td>employee.1010@pnrao.com</td>\n",
       "      <td>Non-binary</td>\n",
       "      <td>NaN</td>\n",
       "      <td>2028-05-06</td>\n",
       "      <td>133925.0</td>\n",
       "      <td></td>\n",
       "      <td>3.0</td>\n",
       "      <td>Terminated</td>\n",
       "    </tr>\n",
       "  </tbody>\n",
       "</table>\n",
       "</div>"
      ],
      "text/plain": [
       "   EmployeeID      FullName              Department                JobTitle  \\\n",
       "0    PNR-1001  Aarav Taylor              IT Support   Help Desk Specialist    \n",
       "1    PNR-1002    Emma Jones         Quality Control                     NaN   \n",
       "2    PNR-1002    Emma Jones         Quality Control            QC Inspector   \n",
       "3    PNR-1004   Rohan Jones         Human Resources          HR Coordinator   \n",
       "4    PNR-1004   Rohan Jones         Human Resources          HR Coordinator   \n",
       "5   PNR-1006            NaN               Logistics    Warehouse Associate    \n",
       "6   PNR-1007     John Smith               Marketing   Marketing Coordinator   \n",
       "7    PNR-1008   Chris Jones  Research & Development          Lab Technician   \n",
       "8   PNR-1009            NaN         Human Resources          HR Generalist    \n",
       "9    PNR-1010  Anika Sharma               Marketing       Marketing Manager   \n",
       "\n",
       "                       Email      Gender      HireDate TerminationDate  \\\n",
       "0    employee.1001@pnrao.com         NaN   2021-05-08                    \n",
       "1    employee.1002@pnrao.com      Female    2019-11-13             NaN   \n",
       "2    employee.1002@pnrao.com      Female    2019-11-13             NaN   \n",
       "3   employee.1004@pnrao.com       Female    2020-02-11             NaN   \n",
       "4    employee.1004@pnrao.com      Female    2020-02-11             NaN   \n",
       "5    employee.1006@pnrao.com         NaN   2025-02-09              NaN   \n",
       "6    employee.1007@pnrao.com      Female   2023-08-21              NaN   \n",
       "7    employee.1008@pnrao.com         NaN    2023-07-27             NaN   \n",
       "8    employee.1009@pnrao.com  Non-binary    2022-03-17             NaN   \n",
       "9    employee.1010@pnrao.com  Non-binary           NaN      2028-05-06   \n",
       "\n",
       "     Salary   ManagerID  PerformanceRating        Status  \n",
       "0   79378.0         NaN                NaN        Active  \n",
       "1   69570.0   PNR-1714                 4.0        Active  \n",
       "2   69570.0    PNR-1714                4.0        Active  \n",
       "3   61572.0         NaN                4.0           NaN  \n",
       "4   61572.0    PNR-1925                4.0        Active  \n",
       "5   60796.0   PNR-1690                 2.0       Active   \n",
       "6   76107.0    PNR-2219                NaN        Active  \n",
       "7   79117.0    PNR-1441                3.0        Active  \n",
       "8   59818.0    PNR-1847                5.0        Active  \n",
       "9  133925.0                            3.0   Terminated   "
      ]
     },
     "execution_count": 44,
     "metadata": {},
     "output_type": "execute_result"
    }
   ],
   "source": [
    "# Load the Employee Master dataset\n",
    "df = pd.read_csv('../data/raw/Employee_Master.csv')\n",
    "print(f\"Original dataset shape: {df.shape}\")\n",
    "df.head(10)"
   ]
  },
  {
   "cell_type": "markdown",
   "metadata": {},
   "source": [
    "### Initial Data Exploration"
   ]
  },
  {
   "cell_type": "code",
   "execution_count": 45,
   "metadata": {},
   "outputs": [
    {
     "name": "stdout",
     "output_type": "stream",
     "text": [
      "Dataset Info:\n",
      "<class 'pandas.core.frame.DataFrame'>\n",
      "RangeIndex: 2000 entries, 0 to 1999\n",
      "Data columns (total 12 columns):\n",
      " #   Column             Non-Null Count  Dtype  \n",
      "---  ------             --------------  -----  \n",
      " 0   EmployeeID         1778 non-null   object \n",
      " 1   FullName           1759 non-null   object \n",
      " 2   Department         1768 non-null   object \n",
      " 3   JobTitle           1793 non-null   object \n",
      " 4   Email              1779 non-null   object \n",
      " 5   Gender             1789 non-null   object \n",
      " 6   HireDate           1800 non-null   object \n",
      " 7   TerminationDate    454 non-null    object \n",
      " 8   Salary             1820 non-null   float64\n",
      " 9   ManagerID          1407 non-null   object \n",
      " 10  PerformanceRating  1844 non-null   float64\n",
      " 11  Status             1767 non-null   object \n",
      "dtypes: float64(2), object(10)\n",
      "memory usage: 187.6+ KB\n",
      "\n",
      "==================================================\n",
      "\n",
      "Basic Statistics:\n"
     ]
    },
    {
     "data": {
      "text/html": [
       "<div>\n",
       "<style scoped>\n",
       "    .dataframe tbody tr th:only-of-type {\n",
       "        vertical-align: middle;\n",
       "    }\n",
       "\n",
       "    .dataframe tbody tr th {\n",
       "        vertical-align: top;\n",
       "    }\n",
       "\n",
       "    .dataframe thead th {\n",
       "        text-align: right;\n",
       "    }\n",
       "</style>\n",
       "<table border=\"1\" class=\"dataframe\">\n",
       "  <thead>\n",
       "    <tr style=\"text-align: right;\">\n",
       "      <th></th>\n",
       "      <th>Salary</th>\n",
       "      <th>PerformanceRating</th>\n",
       "    </tr>\n",
       "  </thead>\n",
       "  <tbody>\n",
       "    <tr>\n",
       "      <th>count</th>\n",
       "      <td>1820.000000</td>\n",
       "      <td>1844.000000</td>\n",
       "    </tr>\n",
       "    <tr>\n",
       "      <th>mean</th>\n",
       "      <td>91273.081319</td>\n",
       "      <td>3.523861</td>\n",
       "    </tr>\n",
       "    <tr>\n",
       "      <th>std</th>\n",
       "      <td>36164.134219</td>\n",
       "      <td>1.119053</td>\n",
       "    </tr>\n",
       "    <tr>\n",
       "      <th>min</th>\n",
       "      <td>55060.000000</td>\n",
       "      <td>2.000000</td>\n",
       "    </tr>\n",
       "    <tr>\n",
       "      <th>25%</th>\n",
       "      <td>65727.500000</td>\n",
       "      <td>3.000000</td>\n",
       "    </tr>\n",
       "    <tr>\n",
       "      <th>50%</th>\n",
       "      <td>76243.000000</td>\n",
       "      <td>4.000000</td>\n",
       "    </tr>\n",
       "    <tr>\n",
       "      <th>75%</th>\n",
       "      <td>120660.250000</td>\n",
       "      <td>5.000000</td>\n",
       "    </tr>\n",
       "    <tr>\n",
       "      <th>max</th>\n",
       "      <td>179521.000000</td>\n",
       "      <td>5.000000</td>\n",
       "    </tr>\n",
       "  </tbody>\n",
       "</table>\n",
       "</div>"
      ],
      "text/plain": [
       "              Salary  PerformanceRating\n",
       "count    1820.000000        1844.000000\n",
       "mean    91273.081319           3.523861\n",
       "std     36164.134219           1.119053\n",
       "min     55060.000000           2.000000\n",
       "25%     65727.500000           3.000000\n",
       "50%     76243.000000           4.000000\n",
       "75%    120660.250000           5.000000\n",
       "max    179521.000000           5.000000"
      ]
     },
     "execution_count": 45,
     "metadata": {},
     "output_type": "execute_result"
    }
   ],
   "source": [
    "# Display basic information\n",
    "print(\"Dataset Info:\")\n",
    "df.info()\n",
    "print(\"\\n\" + \"=\"*50)\n",
    "print(\"\\nBasic Statistics:\")\n",
    "df.describe()"
   ]
  },
  {
   "cell_type": "code",
   "execution_count": 46,
   "metadata": {},
   "outputs": [
    {
     "name": "stdout",
     "output_type": "stream",
     "text": [
      "Missing Values:\n",
      "                   Missing_Count  Percentage\n",
      "EmployeeID                   222       11.10\n",
      "FullName                     241       12.05\n",
      "Department                   232       11.60\n",
      "JobTitle                     207       10.35\n",
      "Email                        221       11.05\n",
      "Gender                       211       10.55\n",
      "HireDate                     200       10.00\n",
      "TerminationDate             1546       77.30\n",
      "Salary                       180        9.00\n",
      "ManagerID                    593       29.65\n",
      "PerformanceRating            156        7.80\n",
      "Status                       233       11.65\n"
     ]
    }
   ],
   "source": [
    "# Check for missing values\n",
    "print(\"Missing Values:\")\n",
    "missing = df.isnull().sum()\n",
    "missing_percent = (df.isnull().sum() / len(df)) * 100\n",
    "missing_df = pd.DataFrame({'Missing_Count': missing, 'Percentage': missing_percent})\n",
    "print(missing_df)"
   ]
  },
  {
   "cell_type": "code",
   "execution_count": 47,
   "metadata": {},
   "outputs": [
    {
     "name": "stdout",
     "output_type": "stream",
     "text": [
      "Total duplicate rows: 9\n",
      "Duplicate EmployeeID values: 416\n"
     ]
    }
   ],
   "source": [
    "# Check for duplicates\n",
    "print(f\"Total duplicate rows: {df.duplicated().sum()}\")\n",
    "print(f\"Duplicate EmployeeID values: {df['EmployeeID'].duplicated().sum()}\")"
   ]
  },
  {
   "cell_type": "markdown",
   "metadata": {},
   "source": [
    "---\n",
    "## Data Cleaning Steps"
   ]
  },
  {
   "cell_type": "markdown",
   "metadata": {},
   "source": [
    "### Step 1: Delete Redundant Columns"
   ]
  },
  {
   "cell_type": "code",
   "execution_count": 48,
   "metadata": {},
   "outputs": [
    {
     "name": "stdout",
     "output_type": "stream",
     "text": [
      "All columns are relevant for analysis.\n",
      "Columns: ['EmployeeID', 'FullName', 'Department', 'JobTitle', 'Email', 'Gender', 'HireDate', 'TerminationDate', 'Salary', 'ManagerID', 'PerformanceRating', 'Status']\n"
     ]
    }
   ],
   "source": [
    "# Check for redundant columns\n",
    "# For Employee_Master, all columns appear to be relevant\n",
    "print(\"All columns are relevant for analysis.\")\n",
    "print(f\"Columns: {list(df.columns)}\")"
   ]
  },
  {
   "cell_type": "markdown",
   "metadata": {},
   "source": [
    "### Step 2: Drop / Rename the Columns"
   ]
  },
  {
   "cell_type": "code",
   "execution_count": 49,
   "metadata": {},
   "outputs": [
    {
     "name": "stdout",
     "output_type": "stream",
     "text": [
      "Renamed columns:\n",
      "['employeeid', 'fullname', 'department', 'jobtitle', 'email', 'gender', 'hiredate', 'terminationdate', 'salary', 'managerid', 'performancerating', 'status']\n"
     ]
    }
   ],
   "source": [
    "# Rename columns for consistency (snake_case)\n",
    "df.columns = df.columns.str.lower().str.replace(' ', '_')\n",
    "print(\"Renamed columns:\")\n",
    "print(list(df.columns))"
   ]
  },
  {
   "cell_type": "markdown",
   "metadata": {},
   "source": [
    "### Step 3: Remove Duplicates"
   ]
  },
  {
   "cell_type": "code",
   "execution_count": 50,
   "metadata": {},
   "outputs": [
    {
     "name": "stdout",
     "output_type": "stream",
     "text": [
      "Rows before removing duplicates: 2000\n",
      "Rows after removing duplicates: 1991\n",
      "Duplicates removed: 9\n"
     ]
    }
   ],
   "source": [
    "# Remove duplicate rows\n",
    "print(f\"Rows before removing duplicates: {len(df)}\")\n",
    "df = df.drop_duplicates()\n",
    "print(f\"Rows after removing duplicates: {len(df)}\")\n",
    "print(f\"Duplicates removed: {2000 - len(df)}\")"
   ]
  },
  {
   "cell_type": "markdown",
   "metadata": {},
   "source": [
    "### Step 4: Remove the NaN Values from the Dataset"
   ]
  },
  {
   "cell_type": "code",
   "execution_count": 51,
   "metadata": {},
   "outputs": [
    {
     "name": "stdout",
     "output_type": "stream",
     "text": [
      "Missing values before cleaning:\n",
      "employeeid            222\n",
      "fullname              241\n",
      "department            232\n",
      "jobtitle              207\n",
      "email                 221\n",
      "gender                211\n",
      "hiredate              200\n",
      "terminationdate      1537\n",
      "salary                180\n",
      "managerid             590\n",
      "performancerating     156\n",
      "status                233\n",
      "dtype: int64\n",
      "\n",
      "Total rows: 1991\n"
     ]
    }
   ],
   "source": [
    "# Check missing values before cleaning\n",
    "print(\"Missing values before cleaning:\")\n",
    "print(df.isnull().sum())\n",
    "print(f\"\\nTotal rows: {len(df)}\")"
   ]
  },
  {
   "cell_type": "code",
   "execution_count": 52,
   "metadata": {},
   "outputs": [
    {
     "name": "stdout",
     "output_type": "stream",
     "text": [
      "Rows after removing missing EmployeeID: 1769\n"
     ]
    }
   ],
   "source": [
    "# Remove rows where critical columns are missing\n",
    "# Critical columns: EmployeeID (primary key)\n",
    "df = df.dropna(subset=['employeeid'])\n",
    "print(f\"Rows after removing missing EmployeeID: {len(df)}\")"
   ]
  },
  {
   "cell_type": "code",
   "execution_count": 53,
   "metadata": {},
   "outputs": [
    {
     "name": "stdout",
     "output_type": "stream",
     "text": [
      "Rows after removing missing essential information: 1019\n"
     ]
    }
   ],
   "source": [
    "# Handle missing values in other columns\n",
    "# TerminationDate: Missing values are valid (active employees)\n",
    "# ManagerID: Missing values are valid (top-level executives)\n",
    "# PerformanceRating: Missing values are valid (new employees)\n",
    "\n",
    "# Remove rows missing essential employee information\n",
    "essential_cols = ['fullname', 'department', 'jobtitle', 'hiredate', 'status']\n",
    "df = df.dropna(subset=essential_cols)\n",
    "print(f\"Rows after removing missing essential information: {len(df)}\")"
   ]
  },
  {
   "cell_type": "code",
   "execution_count": 54,
   "metadata": {},
   "outputs": [
    {
     "name": "stdout",
     "output_type": "stream",
     "text": [
      "\n",
      "Missing values after initial cleaning:\n",
      "employeeid             0\n",
      "fullname               0\n",
      "department             0\n",
      "jobtitle               0\n",
      "email                 84\n",
      "gender                 0\n",
      "hiredate               0\n",
      "terminationdate      791\n",
      "salary                79\n",
      "managerid            288\n",
      "performancerating     65\n",
      "status                 0\n",
      "dtype: int64\n"
     ]
    }
   ],
   "source": [
    "# Fill missing Gender with 'Unknown'\n",
    "df['gender'] = df['gender'].fillna('Unknown')\n",
    "print(\"\\nMissing values after initial cleaning:\")\n",
    "print(df.isnull().sum())"
   ]
  },
  {
   "cell_type": "markdown",
   "metadata": {},
   "source": [
    "### Step 5: Clean Individual Columns"
   ]
  },
  {
   "cell_type": "markdown",
   "metadata": {},
   "source": [
    "#### 5.1 Clean EmployeeID Column"
   ]
  },
  {
   "cell_type": "code",
   "execution_count": 55,
   "metadata": {},
   "outputs": [
    {
     "name": "stdout",
     "output_type": "stream",
     "text": [
      "Sample EmployeeID values:\n",
      "0       PNR-1001\n",
      "2       PNR-1002\n",
      "4       PNR-1004\n",
      "6      PNR-1007 \n",
      "7       PNR-1008\n",
      "12      PNR-1013\n",
      "16      PNR-1017\n",
      "17      PNR-1017\n",
      "18      PNR-1018\n",
      "19      PNR-1020\n",
      "20      PNR-1021\n",
      "25      PNR-1025\n",
      "26      PNR-1026\n",
      "28      PNR-1028\n",
      "32      PNR-1033\n",
      "33      PNR-1033\n",
      "34      PNR-1035\n",
      "36      PNR-1036\n",
      "39      PNR-1040\n",
      "42      PNR-1043\n",
      "Name: employeeid, dtype: object\n",
      "\n",
      "Unique employees: 938\n"
     ]
    }
   ],
   "source": [
    "# Check EmployeeID format\n",
    "print(\"Sample EmployeeID values:\")\n",
    "print(df['employeeid'].head(20))\n",
    "print(f\"\\nUnique employees: {df['employeeid'].nunique()}\")"
   ]
  },
  {
   "cell_type": "code",
   "execution_count": 56,
   "metadata": {},
   "outputs": [
    {
     "name": "stdout",
     "output_type": "stream",
     "text": [
      "Duplicate EmployeeIDs: 100\n",
      "Rows after removing duplicates: 919\n"
     ]
    }
   ],
   "source": [
    "# Remove whitespace and check for duplicates\n",
    "df['employeeid'] = df['employeeid'].str.strip()\n",
    "duplicate_count = df['employeeid'].duplicated().sum()\n",
    "print(f\"Duplicate EmployeeIDs: {duplicate_count}\")\n",
    "if duplicate_count > 0:\n",
    "    df = df.drop_duplicates(subset=['employeeid'], keep='last')\n",
    "    print(f\"Rows after removing duplicates: {len(df)}\")"
   ]
  },
  {
   "cell_type": "markdown",
   "metadata": {},
   "source": [
    "#### 5.2 Clean FullName Column"
   ]
  },
  {
   "cell_type": "code",
   "execution_count": 57,
   "metadata": {},
   "outputs": [
    {
     "name": "stdout",
     "output_type": "stream",
     "text": [
      "FullName cleaned\n"
     ]
    }
   ],
   "source": [
    "# Clean FullName\n",
    "df['fullname'] = df['fullname'].str.strip().str.title()\n",
    "print(\"FullName cleaned\")"
   ]
  },
  {
   "cell_type": "markdown",
   "metadata": {},
   "source": [
    "#### 5.3 Clean Department Column"
   ]
  },
  {
   "cell_type": "code",
   "execution_count": 58,
   "metadata": {},
   "outputs": [
    {
     "name": "stdout",
     "output_type": "stream",
     "text": [
      "Department value counts (before):\n",
      "department\n",
      "Logistics                   104\n",
      "Quality Control             101\n",
      "Production                   98\n",
      "Human Resources              94\n",
      "Marketing                    91\n",
      "Research & Development       88\n",
      "IT Support                   87\n",
      "Sales                        86\n",
      "Finance                      81\n",
      " Sales                       18\n",
      " Production                  14\n",
      " Human Resources             12\n",
      " IT Support                  11\n",
      " Research & Development      10\n",
      " Quality Control              7\n",
      " Logistics                    7\n",
      " Finance                      6\n",
      " Marketing                    4\n",
      "Name: count, dtype: int64\n"
     ]
    }
   ],
   "source": [
    "# Check Department values\n",
    "print(\"Department value counts (before):\")\n",
    "print(df['department'].value_counts())"
   ]
  },
  {
   "cell_type": "code",
   "execution_count": 59,
   "metadata": {},
   "outputs": [
    {
     "name": "stdout",
     "output_type": "stream",
     "text": [
      "\n",
      "Department value counts (after):\n",
      "department\n",
      "Production                112\n",
      "Logistics                 111\n",
      "Quality Control           108\n",
      "Human Resources           106\n",
      "Sales                     104\n",
      "It Support                 98\n",
      "Research & Development     98\n",
      "Marketing                  95\n",
      "Finance                    87\n",
      "Name: count, dtype: int64\n"
     ]
    }
   ],
   "source": [
    "# Clean Department\n",
    "df['department'] = df['department'].str.strip().str.title()\n",
    "print(\"\\nDepartment value counts (after):\")\n",
    "print(df['department'].value_counts())"
   ]
  },
  {
   "cell_type": "markdown",
   "metadata": {},
   "source": [
    "#### 5.4 Clean JobTitle Column"
   ]
  },
  {
   "cell_type": "code",
   "execution_count": 60,
   "metadata": {},
   "outputs": [
    {
     "name": "stdout",
     "output_type": "stream",
     "text": [
      "JobTitle cleaned\n"
     ]
    }
   ],
   "source": [
    "# Clean JobTitle\n",
    "df['jobtitle'] = df['jobtitle'].str.strip().str.title()\n",
    "print(\"JobTitle cleaned\")"
   ]
  },
  {
   "cell_type": "markdown",
   "metadata": {},
   "source": [
    "#### 5.5 Clean Email Column"
   ]
  },
  {
   "cell_type": "code",
   "execution_count": 61,
   "metadata": {},
   "outputs": [
    {
     "name": "stdout",
     "output_type": "stream",
     "text": [
      "Missing emails: 0\n"
     ]
    }
   ],
   "source": [
    "# Clean Email\n",
    "df['email'] = df['email'].str.strip().str.lower()\n",
    "\n",
    "# Generate missing emails\n",
    "def generate_email(row):\n",
    "    if pd.isnull(row['email']):\n",
    "        name_parts = row['fullname'].lower().split()\n",
    "        if len(name_parts) >= 2:\n",
    "            return f\"{name_parts[0]}.{name_parts[-1]}@company.com\"\n",
    "        return f\"{row['employeeid'].lower()}@company.com\"\n",
    "    return row['email']\n",
    "\n",
    "df['email'] = df.apply(generate_email, axis=1)\n",
    "print(f\"Missing emails: {df['email'].isnull().sum()}\")"
   ]
  },
  {
   "cell_type": "markdown",
   "metadata": {},
   "source": [
    "#### 5.6 Clean Gender Column"
   ]
  },
  {
   "cell_type": "code",
   "execution_count": 62,
   "metadata": {},
   "outputs": [
    {
     "name": "stdout",
     "output_type": "stream",
     "text": [
      "Gender value counts:\n",
      "gender\n",
      "Female        279\n",
      "Male          279\n",
      "Non-Binary    277\n",
      "Unknown        84\n",
      "Name: count, dtype: int64\n"
     ]
    }
   ],
   "source": [
    "# Clean Gender\n",
    "df['gender'] = df['gender'].str.strip().str.title()\n",
    "print(\"Gender value counts:\")\n",
    "print(df['gender'].value_counts())"
   ]
  },
  {
   "cell_type": "markdown",
   "metadata": {},
   "source": [
    "#### 5.7 Clean HireDate Column"
   ]
  },
  {
   "cell_type": "code",
   "execution_count": 63,
   "metadata": {},
   "outputs": [
    {
     "name": "stdout",
     "output_type": "stream",
     "text": [
      "Date range: 2018-01-02 00:00:00 to 2025-10-27 00:00:00\n",
      "Invalid dates: 0\n"
     ]
    }
   ],
   "source": [
    "# Convert HireDate to datetime\n",
    "df['hiredate'] = df['hiredate'].str.strip()\n",
    "df['hiredate'] = pd.to_datetime(df['hiredate'], errors='coerce')\n",
    "print(f\"Date range: {df['hiredate'].min()} to {df['hiredate'].max()}\")\n",
    "print(f\"Invalid dates: {df['hiredate'].isnull().sum()}\")"
   ]
  },
  {
   "cell_type": "code",
   "execution_count": 64,
   "metadata": {},
   "outputs": [
    {
     "name": "stdout",
     "output_type": "stream",
     "text": [
      "Removed 0 rows with invalid dates\n"
     ]
    }
   ],
   "source": [
    "# Remove invalid hire dates\n",
    "rows_before = len(df)\n",
    "df = df.dropna(subset=['hiredate'])\n",
    "print(f\"Removed {rows_before - len(df)} rows with invalid dates\")"
   ]
  },
  {
   "cell_type": "code",
   "execution_count": 65,
   "metadata": {},
   "outputs": [
    {
     "name": "stdout",
     "output_type": "stream",
     "text": [
      "Extracted hire date features\n"
     ]
    }
   ],
   "source": [
    "# Extract date features\n",
    "df['hire_year'] = df['hiredate'].dt.year\n",
    "df['hire_month'] = df['hiredate'].dt.month\n",
    "df['hire_quarter'] = df['hiredate'].dt.quarter\n",
    "print(\"Extracted hire date features\")"
   ]
  },
  {
   "cell_type": "markdown",
   "metadata": {},
   "source": [
    "#### 5.8 Clean TerminationDate Column"
   ]
  },
  {
   "cell_type": "code",
   "execution_count": 66,
   "metadata": {},
   "outputs": [
    {
     "name": "stdout",
     "output_type": "stream",
     "text": [
      "Terminated employees: 122\n"
     ]
    }
   ],
   "source": [
    "# Convert TerminationDate (missing values are valid)\n",
    "df['terminationdate'] = df['terminationdate'].str.strip()\n",
    "df['terminationdate'] = pd.to_datetime(df['terminationdate'], errors='coerce')\n",
    "print(f\"Terminated employees: {df['terminationdate'].notnull().sum()}\")"
   ]
  },
  {
   "cell_type": "code",
   "execution_count": 67,
   "metadata": {},
   "outputs": [
    {
     "name": "stdout",
     "output_type": "stream",
     "text": [
      "Extracted termination date features\n"
     ]
    }
   ],
   "source": [
    "# Extract termination features\n",
    "df['termination_year'] = df['terminationdate'].dt.year\n",
    "df['termination_month'] = df['terminationdate'].dt.month\n",
    "df['termination_quarter'] = df['terminationdate'].dt.quarter\n",
    "print(\"Extracted termination date features\")"
   ]
  },
  {
   "cell_type": "markdown",
   "metadata": {},
   "source": [
    "#### 5.9 Clean Salary Column"
   ]
  },
  {
   "cell_type": "code",
   "execution_count": 68,
   "metadata": {},
   "outputs": [
    {
     "name": "stdout",
     "output_type": "stream",
     "text": [
      "Salary statistics:\n",
      "count       850.000000\n",
      "mean      91374.548235\n",
      "std       36012.977513\n",
      "min       55110.000000\n",
      "25%       65668.000000\n",
      "50%       76384.000000\n",
      "75%      120616.250000\n",
      "max      179381.000000\n",
      "Name: salary, dtype: float64\n",
      "\n",
      "Negative/zero salaries: 0\n"
     ]
    }
   ],
   "source": [
    "# Check Salary\n",
    "print(\"Salary statistics:\")\n",
    "print(df['salary'].describe())\n",
    "print(f\"\\nNegative/zero salaries: {((df['salary'] <= 0) & df['salary'].notnull()).sum()}\")"
   ]
  },
  {
   "cell_type": "code",
   "execution_count": 69,
   "metadata": {},
   "outputs": [
    {
     "name": "stdout",
     "output_type": "stream",
     "text": [
      "Rows after removing invalid salaries: 919\n"
     ]
    }
   ],
   "source": [
    "# Remove invalid salaries\n",
    "df = df[(df['salary'] > 0) | (df['salary'].isnull())]\n",
    "print(f\"Rows after removing invalid salaries: {len(df)}\")"
   ]
  },
  {
   "cell_type": "code",
   "execution_count": 70,
   "metadata": {},
   "outputs": [
    {
     "name": "stdout",
     "output_type": "stream",
     "text": [
      "Missing salaries: 0\n"
     ]
    }
   ],
   "source": [
    "# Fill missing salaries with median by department and job\n",
    "if df['salary'].isnull().sum() > 0:\n",
    "    df['salary'] = df.groupby(['department', 'jobtitle'])['salary'].transform(\n",
    "        lambda x: x.fillna(x.median())\n",
    "    )\n",
    "    df['salary'] = df['salary'].fillna(df['salary'].median())\n",
    "print(f\"Missing salaries: {df['salary'].isnull().sum()}\")"
   ]
  },
  {
   "cell_type": "markdown",
   "metadata": {},
   "source": [
    "#### 5.10 Clean ManagerID Column"
   ]
  },
  {
   "cell_type": "code",
   "execution_count": 71,
   "metadata": {},
   "outputs": [
    {
     "name": "stdout",
     "output_type": "stream",
     "text": [
      "Missing ManagerID: 261 (valid for executives)\n"
     ]
    }
   ],
   "source": [
    "# Clean ManagerID (missing is valid for executives)\n",
    "df['managerid'] = df['managerid'].str.strip()\n",
    "print(f\"Missing ManagerID: {df['managerid'].isnull().sum()} (valid for executives)\")"
   ]
  },
  {
   "cell_type": "markdown",
   "metadata": {},
   "source": [
    "#### 5.11 Clean PerformanceRating Column"
   ]
  },
  {
   "cell_type": "code",
   "execution_count": 72,
   "metadata": {},
   "outputs": [
    {
     "name": "stdout",
     "output_type": "stream",
     "text": [
      "PerformanceRating statistics:\n",
      "count    864.000000\n",
      "mean       3.506944\n",
      "std        1.126916\n",
      "min        2.000000\n",
      "25%        2.000000\n",
      "50%        3.500000\n",
      "75%        5.000000\n",
      "max        5.000000\n",
      "Name: performancerating, dtype: float64\n",
      "\n",
      "Missing: 55 (valid for new employees)\n"
     ]
    }
   ],
   "source": [
    "# Check PerformanceRating\n",
    "print(\"PerformanceRating statistics:\")\n",
    "print(df['performancerating'].describe())\n",
    "print(f\"\\nMissing: {df['performancerating'].isnull().sum()} (valid for new employees)\")"
   ]
  },
  {
   "cell_type": "code",
   "execution_count": 73,
   "metadata": {},
   "outputs": [
    {
     "name": "stdout",
     "output_type": "stream",
     "text": [
      "Invalid ratings: 0\n"
     ]
    }
   ],
   "source": [
    "# Remove invalid ratings (outside 1-5)\n",
    "invalid = ((df['performancerating'] < 1) | (df['performancerating'] > 5)) & df['performancerating'].notnull()\n",
    "print(f\"Invalid ratings: {invalid.sum()}\")\n",
    "if invalid.sum() > 0:\n",
    "    df = df[~invalid]\n",
    "    print(f\"Rows after removing invalid ratings: {len(df)}\")"
   ]
  },
  {
   "cell_type": "markdown",
   "metadata": {},
   "source": [
    "#### 5.12 Clean Status Column"
   ]
  },
  {
   "cell_type": "code",
   "execution_count": 74,
   "metadata": {},
   "outputs": [
    {
     "name": "stdout",
     "output_type": "stream",
     "text": [
      "Status (before):\n",
      "status\n",
      "Active          710\n",
      "Terminated      123\n",
      " Active          74\n",
      " Terminated      12\n",
      "Name: count, dtype: int64\n"
     ]
    }
   ],
   "source": [
    "# Check Status\n",
    "print(\"Status (before):\")\n",
    "print(df['status'].value_counts(dropna=False))"
   ]
  },
  {
   "cell_type": "code",
   "execution_count": 75,
   "metadata": {},
   "outputs": [
    {
     "name": "stdout",
     "output_type": "stream",
     "text": [
      "\n",
      "Status (after):\n",
      "status\n",
      "Active        784\n",
      "Terminated    135\n",
      "Name: count, dtype: int64\n"
     ]
    }
   ],
   "source": [
    "# Clean Status\n",
    "df['status'] = df['status'].str.strip().str.title()\n",
    "print(\"\\nStatus (after):\")\n",
    "print(df['status'].value_counts())"
   ]
  },
  {
   "cell_type": "markdown",
   "metadata": {},
   "source": [
    "### Step 6: Check for Some More Transformations"
   ]
  },
  {
   "cell_type": "markdown",
   "metadata": {},
   "source": [
    "#### 6.1 Create Calculated Columns"
   ]
  },
  {
   "cell_type": "code",
   "execution_count": 76,
   "metadata": {},
   "outputs": [
    {
     "name": "stdout",
     "output_type": "stream",
     "text": [
      "Tenure statistics:\n",
      "count    919.000000\n",
      "mean       3.811991\n",
      "std        2.227046\n",
      "min        0.010000\n",
      "25%        1.875000\n",
      "50%        3.740000\n",
      "75%        5.695000\n",
      "max        7.810000\n",
      "Name: tenure_years, dtype: float64\n"
     ]
    }
   ],
   "source": [
    "# Calculate tenure\n",
    "from datetime import datetime\n",
    "current_date = pd.Timestamp(datetime.now())\n",
    "\n",
    "df['tenure_days'] = df.apply(\n",
    "    lambda row: (row['terminationdate'] - row['hiredate']).days \n",
    "    if pd.notnull(row['terminationdate']) \n",
    "    else (current_date - row['hiredate']).days,\n",
    "    axis=1\n",
    ")\n",
    "df['tenure_years'] = (df['tenure_days'] / 365.25).round(2)\n",
    "print(\"Tenure statistics:\")\n",
    "print(df['tenure_years'].describe())"
   ]
  },
  {
   "cell_type": "code",
   "execution_count": 77,
   "metadata": {},
   "outputs": [
    {
     "name": "stdout",
     "output_type": "stream",
     "text": [
      "\n",
      "Tenure band distribution:\n",
      "tenure_band\n",
      "0-1 years     123\n",
      "1-3 years     250\n",
      "3-5 years     237\n",
      "5-10 years    309\n",
      "10+ years       0\n",
      "Name: count, dtype: int64\n"
     ]
    }
   ],
   "source": [
    "# Create tenure bands\n",
    "df['tenure_band'] = pd.cut(\n",
    "    df['tenure_years'],\n",
    "    bins=[0, 1, 3, 5, 10, 100],\n",
    "    labels=['0-1 years', '1-3 years', '3-5 years', '5-10 years', '10+ years']\n",
    ")\n",
    "print(\"\\nTenure band distribution:\")\n",
    "print(df['tenure_band'].value_counts().sort_index())"
   ]
  },
  {
   "cell_type": "code",
   "execution_count": 78,
   "metadata": {},
   "outputs": [
    {
     "name": "stdout",
     "output_type": "stream",
     "text": [
      "Created 'performance_category' feature\n",
      "\n",
      "Performance category distribution:\n",
      "performance_category\n",
      "Below Average    217\n",
      "Average          215\n",
      "Good             209\n",
      "Excellent        223\n",
      "Name: count, dtype: int64\n"
     ]
    }
   ],
   "source": [
    "# Create performance rating categories\n",
    "df['performance_category'] = pd.cut(\n",
    "    df['performancerating'],\n",
    "    bins=[0, 2, 3, 4, 5],\n",
    "    labels=['Below Average', 'Average', 'Good', 'Excellent'],\n",
    "    include_lowest=True\n",
    ")\n",
    "print(\"Created 'performance_category' feature\")\n",
    "print(\"\\nPerformance category distribution:\")\n",
    "print(df['performance_category'].value_counts().sort_index())"
   ]
  },
  {
   "cell_type": "code",
   "execution_count": 79,
   "metadata": {},
   "outputs": [
    {
     "name": "stdout",
     "output_type": "stream",
     "text": [
      "Created 'department_size' feature\n",
      "\n",
      "Department sizes:\n",
      "department\n",
      "Production                112\n",
      "Logistics                 111\n",
      "Quality Control           108\n",
      "Human Resources           106\n",
      "Sales                     104\n",
      "It Support                 98\n",
      "Research & Development     98\n",
      "Marketing                  95\n",
      "Finance                    87\n",
      "Name: department_size, dtype: int64\n"
     ]
    }
   ],
   "source": [
    "# Calculate department size (headcount per department)\n",
    "df['department_size'] = df.groupby('department')['employeeid'].transform('count')\n",
    "print(\"Created 'department_size' feature\")\n",
    "print(\"\\nDepartment sizes:\")\n",
    "print(df.groupby('department')['department_size'].first().sort_values(ascending=False))"
   ]
  },
  {
   "cell_type": "code",
   "execution_count": 80,
   "metadata": {},
   "outputs": [
    {
     "name": "stdout",
     "output_type": "stream",
     "text": [
      "Created 'manager_span_of_control' feature\n",
      "\n",
      "Managers with largest teams:\n",
      "managerid\n",
      "            18\n",
      "PNR-1134     5\n",
      "PNR-1942     5\n",
      "PNR-2421     5\n",
      "PNR-1519     5\n",
      "PNR-2765     4\n",
      "PNR-1912     4\n",
      "PNR-1410     4\n",
      "PNR-2437     4\n",
      "PNR-1339     4\n",
      "dtype: int64\n"
     ]
    }
   ],
   "source": [
    "# Calculate manager span of control (direct reports per manager)\n",
    "manager_span = df[df['managerid'].notnull()].groupby('managerid').size()\n",
    "df['manager_span_of_control'] = df['managerid'].map(manager_span)\n",
    "df['manager_span_of_control'] = df['manager_span_of_control'].fillna(0).astype(int)\n",
    "\n",
    "print(\"Created 'manager_span_of_control' feature\")\n",
    "print(f\"\\nManagers with largest teams:\")\n",
    "print(manager_span.sort_values(ascending=False).head(10))"
   ]
  },
  {
   "cell_type": "code",
   "execution_count": 81,
   "metadata": {},
   "outputs": [
    {
     "name": "stdout",
     "output_type": "stream",
     "text": [
      "Created binary flag features:\n",
      "- is_active, is_terminated\n",
      "- has_manager, has_performance_rating\n",
      "\n",
      "Active employees: 784\n",
      "Terminated employees: 135\n"
     ]
    }
   ],
   "source": [
    "# Create binary flags for analysis\n",
    "df['is_active'] = (df['status'] == 'Active').astype(int)\n",
    "df['is_terminated'] = (df['status'] == 'Terminated').astype(int)\n",
    "df['has_manager'] = df['managerid'].notnull().astype(int)\n",
    "df['has_performance_rating'] = df['performancerating'].notnull().astype(int)\n",
    "\n",
    "print(\"Created binary flag features:\")\n",
    "print(\"- is_active, is_terminated\")\n",
    "print(\"- has_manager, has_performance_rating\")\n",
    "print(f\"\\nActive employees: {df['is_active'].sum()}\")\n",
    "print(f\"Terminated employees: {df['is_terminated'].sum()}\")"
   ]
  },
  {
   "cell_type": "code",
   "execution_count": 82,
   "metadata": {},
   "outputs": [
    {
     "name": "stdout",
     "output_type": "stream",
     "text": [
      "Created salary comparison features:\n",
      "- dept_avg_salary, job_avg_salary\n",
      "- salary_vs_dept_avg, salary_vs_job_avg\n",
      "\n",
      "Salary vs department average statistics:\n",
      "count    919.000000\n",
      "mean      -0.000033\n",
      "std       30.522451\n",
      "min      -54.550000\n",
      "25%      -23.595000\n",
      "50%       -3.780000\n",
      "75%       19.305000\n",
      "max       91.940000\n",
      "Name: salary_vs_dept_avg, dtype: float64\n"
     ]
    }
   ],
   "source": [
    "# Calculate average salary by department and job title\n",
    "df['dept_avg_salary'] = df.groupby('department')['salary'].transform('mean').round(2)\n",
    "df['job_avg_salary'] = df.groupby('jobtitle')['salary'].transform('mean').round(2)\n",
    "\n",
    "# Calculate salary position relative to peers\n",
    "df['salary_vs_dept_avg'] = ((df['salary'] - df['dept_avg_salary']) / df['dept_avg_salary'] * 100).round(2)\n",
    "df['salary_vs_job_avg'] = ((df['salary'] - df['job_avg_salary']) / df['job_avg_salary'] * 100).round(2)\n",
    "\n",
    "print(\"Created salary comparison features:\")\n",
    "print(\"- dept_avg_salary, job_avg_salary\")\n",
    "print(\"- salary_vs_dept_avg, salary_vs_job_avg\")\n",
    "print(f\"\\nSalary vs department average statistics:\")\n",
    "print(df['salary_vs_dept_avg'].describe())"
   ]
  },
  {
   "cell_type": "code",
   "execution_count": 83,
   "metadata": {},
   "outputs": [
    {
     "name": "stdout",
     "output_type": "stream",
     "text": [
      "Created 'seniority_level' feature\n",
      "\n",
      "Seniority level distribution:\n",
      "seniority_level\n",
      "Junior       241\n",
      "Mid-Level    369\n",
      "Senior       309\n",
      "Executive      0\n",
      "Name: count, dtype: int64\n"
     ]
    }
   ],
   "source": [
    "# Create seniority level based on tenure\n",
    "df['seniority_level'] = pd.cut(\n",
    "    df['tenure_years'],\n",
    "    bins=[0, 2, 5, 10, 100],\n",
    "    labels=['Junior', 'Mid-Level', 'Senior', 'Executive'],\n",
    "    include_lowest=True\n",
    ")\n",
    "print(\"Created 'seniority_level' feature\")\n",
    "print(\"\\nSeniority level distribution:\")\n",
    "print(df['seniority_level'].value_counts().sort_index())"
   ]
  },
  {
   "cell_type": "code",
   "execution_count": 84,
   "metadata": {},
   "outputs": [
    {
     "name": "stdout",
     "output_type": "stream",
     "text": [
      "Created attrition features:\n",
      "- tenure_at_termination\n",
      "- early_attrition (left within 1 year)\n",
      "\n",
      "Early attrition count: 11\n"
     ]
    }
   ],
   "source": [
    "# Create attrition risk indicators (for terminated employees)\n",
    "if df['is_terminated'].sum() > 0:\n",
    "    df['tenure_at_termination'] = df.apply(\n",
    "        lambda row: (row['terminationdate'] - row['hiredate']).days / 365.25 \n",
    "        if pd.notnull(row['terminationdate']) else None,\n",
    "        axis=1\n",
    "    )\n",
    "    \n",
    "    # Flag early attrition (left within first year)\n",
    "    df['early_attrition'] = ((df['tenure_at_termination'] < 1) & (df['is_terminated'] == 1)).astype(int)\n",
    "    \n",
    "    print(\"Created attrition features:\")\n",
    "    print(\"- tenure_at_termination\")\n",
    "    print(\"- early_attrition (left within 1 year)\")\n",
    "    print(f\"\\nEarly attrition count: {df['early_attrition'].sum()}\")\n",
    "else:\n",
    "    print(\"No terminated employees in dataset\")"
   ]
  },
  {
   "cell_type": "code",
   "execution_count": 85,
   "metadata": {},
   "outputs": [
    {
     "name": "stdout",
     "output_type": "stream",
     "text": [
      "\n",
      "Salary band distribution:\n",
      "salary_band\n",
      "<60K          94\n",
      "60K-80K      465\n",
      "80K-100K     110\n",
      "100K-150K    132\n",
      "150K+        118\n",
      "Name: count, dtype: int64\n"
     ]
    }
   ],
   "source": [
    "# Create salary bands\n",
    "df['salary_band'] = pd.cut(\n",
    "    df['salary'],\n",
    "    bins=[0, 60000, 80000, 100000, 150000, 300000],\n",
    "    labels=['<60K', '60K-80K', '80K-100K', '100K-150K', '150K+']\n",
    ")\n",
    "print(\"\\nSalary band distribution:\")\n",
    "print(df['salary_band'].value_counts().sort_index())"
   ]
  },
  {
   "cell_type": "markdown",
   "metadata": {},
   "source": [
    "#### 6.2 Data Validation"
   ]
  },
  {
   "cell_type": "code",
   "execution_count": 86,
   "metadata": {},
   "outputs": [
    {
     "name": "stdout",
     "output_type": "stream",
     "text": [
      "Terminated without date: 13\n",
      "Active with date: 0\n"
     ]
    }
   ],
   "source": [
    "# Validate status vs termination date\n",
    "terminated_no_date = df[(df['status'] == 'Terminated') & (df['terminationdate'].isnull())]\n",
    "active_with_date = df[(df['status'] == 'Active') & (df['terminationdate'].notnull())]\n",
    "print(f\"Terminated without date: {len(terminated_no_date)}\")\n",
    "print(f\"Active with date: {len(active_with_date)}\")"
   ]
  },
  {
   "cell_type": "code",
   "execution_count": 87,
   "metadata": {},
   "outputs": [
    {
     "name": "stdout",
     "output_type": "stream",
     "text": [
      "\n",
      "Fixed inconsistencies\n",
      "\n",
      "Final Status:\n",
      "status\n",
      "Active        797\n",
      "Terminated    122\n",
      "Name: count, dtype: int64\n"
     ]
    }
   ],
   "source": [
    "# Fix inconsistencies\n",
    "df.loc[(df['status'] == 'Terminated') & (df['terminationdate'].isnull()), 'status'] = 'Active'\n",
    "df.loc[(df['status'] == 'Active') & (df['terminationdate'].notnull()), 'status'] = 'Terminated'\n",
    "print(\"\\nFixed inconsistencies\")\n",
    "print(\"\\nFinal Status:\")\n",
    "print(df['status'].value_counts())"
   ]
  },
  {
   "cell_type": "markdown",
   "metadata": {},
   "source": [
    "#### 6.3 Sort Data"
   ]
  },
  {
   "cell_type": "code",
   "execution_count": 88,
   "metadata": {},
   "outputs": [
    {
     "name": "stdout",
     "output_type": "stream",
     "text": [
      "Data sorted by EmployeeID\n"
     ]
    },
    {
     "data": {
      "text/html": [
       "<div>\n",
       "<style scoped>\n",
       "    .dataframe tbody tr th:only-of-type {\n",
       "        vertical-align: middle;\n",
       "    }\n",
       "\n",
       "    .dataframe tbody tr th {\n",
       "        vertical-align: top;\n",
       "    }\n",
       "\n",
       "    .dataframe thead th {\n",
       "        text-align: right;\n",
       "    }\n",
       "</style>\n",
       "<table border=\"1\" class=\"dataframe\">\n",
       "  <thead>\n",
       "    <tr style=\"text-align: right;\">\n",
       "      <th></th>\n",
       "      <th>employeeid</th>\n",
       "      <th>fullname</th>\n",
       "      <th>department</th>\n",
       "      <th>jobtitle</th>\n",
       "      <th>email</th>\n",
       "      <th>gender</th>\n",
       "      <th>hiredate</th>\n",
       "      <th>terminationdate</th>\n",
       "      <th>salary</th>\n",
       "      <th>managerid</th>\n",
       "      <th>...</th>\n",
       "      <th>has_manager</th>\n",
       "      <th>has_performance_rating</th>\n",
       "      <th>dept_avg_salary</th>\n",
       "      <th>job_avg_salary</th>\n",
       "      <th>salary_vs_dept_avg</th>\n",
       "      <th>salary_vs_job_avg</th>\n",
       "      <th>seniority_level</th>\n",
       "      <th>tenure_at_termination</th>\n",
       "      <th>early_attrition</th>\n",
       "      <th>salary_band</th>\n",
       "    </tr>\n",
       "  </thead>\n",
       "  <tbody>\n",
       "    <tr>\n",
       "      <th>0</th>\n",
       "      <td>PNR-1001</td>\n",
       "      <td>Aarav Taylor</td>\n",
       "      <td>It Support</td>\n",
       "      <td>Help Desk Specialist</td>\n",
       "      <td>employee.1001@pnrao.com</td>\n",
       "      <td>Unknown</td>\n",
       "      <td>2021-05-08</td>\n",
       "      <td>NaT</td>\n",
       "      <td>79378.0</td>\n",
       "      <td>NaN</td>\n",
       "      <td>...</td>\n",
       "      <td>0</td>\n",
       "      <td>0</td>\n",
       "      <td>96490.20</td>\n",
       "      <td>70990.91</td>\n",
       "      <td>-17.73</td>\n",
       "      <td>11.81</td>\n",
       "      <td>Mid-Level</td>\n",
       "      <td>NaN</td>\n",
       "      <td>0</td>\n",
       "      <td>60K-80K</td>\n",
       "    </tr>\n",
       "    <tr>\n",
       "      <th>1</th>\n",
       "      <td>PNR-1002</td>\n",
       "      <td>Emma Jones</td>\n",
       "      <td>Quality Control</td>\n",
       "      <td>Qc Inspector</td>\n",
       "      <td>employee.1002@pnrao.com</td>\n",
       "      <td>Female</td>\n",
       "      <td>2019-11-13</td>\n",
       "      <td>NaT</td>\n",
       "      <td>69570.0</td>\n",
       "      <td>PNR-1714</td>\n",
       "      <td>...</td>\n",
       "      <td>1</td>\n",
       "      <td>1</td>\n",
       "      <td>109570.66</td>\n",
       "      <td>70667.88</td>\n",
       "      <td>-36.51</td>\n",
       "      <td>-1.55</td>\n",
       "      <td>Senior</td>\n",
       "      <td>NaN</td>\n",
       "      <td>0</td>\n",
       "      <td>60K-80K</td>\n",
       "    </tr>\n",
       "    <tr>\n",
       "      <th>2</th>\n",
       "      <td>PNR-1004</td>\n",
       "      <td>Rohan Jones</td>\n",
       "      <td>Human Resources</td>\n",
       "      <td>Hr Coordinator</td>\n",
       "      <td>employee.1004@pnrao.com</td>\n",
       "      <td>Female</td>\n",
       "      <td>2020-02-11</td>\n",
       "      <td>NaT</td>\n",
       "      <td>61572.0</td>\n",
       "      <td>PNR-1925</td>\n",
       "      <td>...</td>\n",
       "      <td>1</td>\n",
       "      <td>1</td>\n",
       "      <td>68801.09</td>\n",
       "      <td>68340.05</td>\n",
       "      <td>-10.51</td>\n",
       "      <td>-9.90</td>\n",
       "      <td>Senior</td>\n",
       "      <td>NaN</td>\n",
       "      <td>0</td>\n",
       "      <td>60K-80K</td>\n",
       "    </tr>\n",
       "    <tr>\n",
       "      <th>3</th>\n",
       "      <td>PNR-1007</td>\n",
       "      <td>John Smith</td>\n",
       "      <td>Marketing</td>\n",
       "      <td>Marketing Coordinator</td>\n",
       "      <td>employee.1007@pnrao.com</td>\n",
       "      <td>Female</td>\n",
       "      <td>2023-08-21</td>\n",
       "      <td>NaT</td>\n",
       "      <td>76107.0</td>\n",
       "      <td>PNR-2219</td>\n",
       "      <td>...</td>\n",
       "      <td>1</td>\n",
       "      <td>0</td>\n",
       "      <td>93037.96</td>\n",
       "      <td>72400.67</td>\n",
       "      <td>-18.20</td>\n",
       "      <td>5.12</td>\n",
       "      <td>Mid-Level</td>\n",
       "      <td>NaN</td>\n",
       "      <td>0</td>\n",
       "      <td>60K-80K</td>\n",
       "    </tr>\n",
       "    <tr>\n",
       "      <th>4</th>\n",
       "      <td>PNR-1008</td>\n",
       "      <td>Chris Jones</td>\n",
       "      <td>Research &amp; Development</td>\n",
       "      <td>Lab Technician</td>\n",
       "      <td>employee.1008@pnrao.com</td>\n",
       "      <td>Unknown</td>\n",
       "      <td>2023-07-27</td>\n",
       "      <td>NaT</td>\n",
       "      <td>79117.0</td>\n",
       "      <td>PNR-1441</td>\n",
       "      <td>...</td>\n",
       "      <td>1</td>\n",
       "      <td>1</td>\n",
       "      <td>85614.79</td>\n",
       "      <td>69766.00</td>\n",
       "      <td>-7.59</td>\n",
       "      <td>13.40</td>\n",
       "      <td>Mid-Level</td>\n",
       "      <td>NaN</td>\n",
       "      <td>0</td>\n",
       "      <td>60K-80K</td>\n",
       "    </tr>\n",
       "    <tr>\n",
       "      <th>5</th>\n",
       "      <td>PNR-1013</td>\n",
       "      <td>Chris Singh</td>\n",
       "      <td>Sales</td>\n",
       "      <td>Account Manager</td>\n",
       "      <td>employee.1013@pnrao.com</td>\n",
       "      <td>Male</td>\n",
       "      <td>2020-11-24</td>\n",
       "      <td>NaT</td>\n",
       "      <td>176073.0</td>\n",
       "      <td>NaN</td>\n",
       "      <td>...</td>\n",
       "      <td>0</td>\n",
       "      <td>1</td>\n",
       "      <td>121525.81</td>\n",
       "      <td>151582.00</td>\n",
       "      <td>44.89</td>\n",
       "      <td>16.16</td>\n",
       "      <td>Mid-Level</td>\n",
       "      <td>NaN</td>\n",
       "      <td>0</td>\n",
       "      <td>150K+</td>\n",
       "    </tr>\n",
       "    <tr>\n",
       "      <th>6</th>\n",
       "      <td>PNR-1017</td>\n",
       "      <td>Saanvi Sharma</td>\n",
       "      <td>Finance</td>\n",
       "      <td>Accountant</td>\n",
       "      <td>employee.1017@pnrao.com</td>\n",
       "      <td>Female</td>\n",
       "      <td>2021-02-26</td>\n",
       "      <td>NaT</td>\n",
       "      <td>83620.0</td>\n",
       "      <td>PNR-1533</td>\n",
       "      <td>...</td>\n",
       "      <td>1</td>\n",
       "      <td>1</td>\n",
       "      <td>69535.21</td>\n",
       "      <td>69549.67</td>\n",
       "      <td>20.26</td>\n",
       "      <td>20.23</td>\n",
       "      <td>Mid-Level</td>\n",
       "      <td>NaN</td>\n",
       "      <td>0</td>\n",
       "      <td>80K-100K</td>\n",
       "    </tr>\n",
       "    <tr>\n",
       "      <th>7</th>\n",
       "      <td>PNR-1018</td>\n",
       "      <td>Olivia Jones</td>\n",
       "      <td>Finance</td>\n",
       "      <td>Controller</td>\n",
       "      <td>employee.1018@pnrao.com</td>\n",
       "      <td>Male</td>\n",
       "      <td>2023-08-14</td>\n",
       "      <td>NaT</td>\n",
       "      <td>78927.0</td>\n",
       "      <td>PNR-2098</td>\n",
       "      <td>...</td>\n",
       "      <td>1</td>\n",
       "      <td>1</td>\n",
       "      <td>69535.21</td>\n",
       "      <td>68783.80</td>\n",
       "      <td>13.51</td>\n",
       "      <td>14.75</td>\n",
       "      <td>Mid-Level</td>\n",
       "      <td>NaN</td>\n",
       "      <td>0</td>\n",
       "      <td>60K-80K</td>\n",
       "    </tr>\n",
       "    <tr>\n",
       "      <th>8</th>\n",
       "      <td>PNR-1020</td>\n",
       "      <td>Aditya Kumar</td>\n",
       "      <td>Production</td>\n",
       "      <td>Line Supervisor</td>\n",
       "      <td>employee.1020@pnrao.com</td>\n",
       "      <td>Unknown</td>\n",
       "      <td>2022-02-25</td>\n",
       "      <td>NaT</td>\n",
       "      <td>68866.0</td>\n",
       "      <td>NaN</td>\n",
       "      <td>...</td>\n",
       "      <td>0</td>\n",
       "      <td>1</td>\n",
       "      <td>102837.83</td>\n",
       "      <td>69824.22</td>\n",
       "      <td>-33.03</td>\n",
       "      <td>-1.37</td>\n",
       "      <td>Mid-Level</td>\n",
       "      <td>NaN</td>\n",
       "      <td>0</td>\n",
       "      <td>60K-80K</td>\n",
       "    </tr>\n",
       "    <tr>\n",
       "      <th>9</th>\n",
       "      <td>PNR-1021</td>\n",
       "      <td>Olivia Williams</td>\n",
       "      <td>It Support</td>\n",
       "      <td>It Technician</td>\n",
       "      <td>employee.1021@pnrao.com</td>\n",
       "      <td>Female</td>\n",
       "      <td>2022-11-30</td>\n",
       "      <td>NaT</td>\n",
       "      <td>81467.0</td>\n",
       "      <td>PNR-1947</td>\n",
       "      <td>...</td>\n",
       "      <td>1</td>\n",
       "      <td>1</td>\n",
       "      <td>96490.20</td>\n",
       "      <td>71783.83</td>\n",
       "      <td>-15.57</td>\n",
       "      <td>13.49</td>\n",
       "      <td>Mid-Level</td>\n",
       "      <td>NaN</td>\n",
       "      <td>0</td>\n",
       "      <td>80K-100K</td>\n",
       "    </tr>\n",
       "  </tbody>\n",
       "</table>\n",
       "<p>10 rows × 36 columns</p>\n",
       "</div>"
      ],
      "text/plain": [
       "  employeeid         fullname              department               jobtitle  \\\n",
       "0   PNR-1001     Aarav Taylor              It Support   Help Desk Specialist   \n",
       "1   PNR-1002       Emma Jones         Quality Control           Qc Inspector   \n",
       "2   PNR-1004      Rohan Jones         Human Resources         Hr Coordinator   \n",
       "3   PNR-1007       John Smith               Marketing  Marketing Coordinator   \n",
       "4   PNR-1008      Chris Jones  Research & Development         Lab Technician   \n",
       "5   PNR-1013      Chris Singh                   Sales        Account Manager   \n",
       "6   PNR-1017    Saanvi Sharma                 Finance             Accountant   \n",
       "7   PNR-1018     Olivia Jones                 Finance             Controller   \n",
       "8   PNR-1020     Aditya Kumar              Production        Line Supervisor   \n",
       "9   PNR-1021  Olivia Williams              It Support          It Technician   \n",
       "\n",
       "                     email   gender   hiredate terminationdate    salary  \\\n",
       "0  employee.1001@pnrao.com  Unknown 2021-05-08             NaT   79378.0   \n",
       "1  employee.1002@pnrao.com   Female 2019-11-13             NaT   69570.0   \n",
       "2  employee.1004@pnrao.com   Female 2020-02-11             NaT   61572.0   \n",
       "3  employee.1007@pnrao.com   Female 2023-08-21             NaT   76107.0   \n",
       "4  employee.1008@pnrao.com  Unknown 2023-07-27             NaT   79117.0   \n",
       "5  employee.1013@pnrao.com     Male 2020-11-24             NaT  176073.0   \n",
       "6  employee.1017@pnrao.com   Female 2021-02-26             NaT   83620.0   \n",
       "7  employee.1018@pnrao.com     Male 2023-08-14             NaT   78927.0   \n",
       "8  employee.1020@pnrao.com  Unknown 2022-02-25             NaT   68866.0   \n",
       "9  employee.1021@pnrao.com   Female 2022-11-30             NaT   81467.0   \n",
       "\n",
       "  managerid  ...  has_manager has_performance_rating  dept_avg_salary  \\\n",
       "0       NaN  ...            0                      0         96490.20   \n",
       "1  PNR-1714  ...            1                      1        109570.66   \n",
       "2  PNR-1925  ...            1                      1         68801.09   \n",
       "3  PNR-2219  ...            1                      0         93037.96   \n",
       "4  PNR-1441  ...            1                      1         85614.79   \n",
       "5       NaN  ...            0                      1        121525.81   \n",
       "6  PNR-1533  ...            1                      1         69535.21   \n",
       "7  PNR-2098  ...            1                      1         69535.21   \n",
       "8       NaN  ...            0                      1        102837.83   \n",
       "9  PNR-1947  ...            1                      1         96490.20   \n",
       "\n",
       "   job_avg_salary  salary_vs_dept_avg  salary_vs_job_avg  seniority_level  \\\n",
       "0        70990.91              -17.73              11.81        Mid-Level   \n",
       "1        70667.88              -36.51              -1.55           Senior   \n",
       "2        68340.05              -10.51              -9.90           Senior   \n",
       "3        72400.67              -18.20               5.12        Mid-Level   \n",
       "4        69766.00               -7.59              13.40        Mid-Level   \n",
       "5       151582.00               44.89              16.16        Mid-Level   \n",
       "6        69549.67               20.26              20.23        Mid-Level   \n",
       "7        68783.80               13.51              14.75        Mid-Level   \n",
       "8        69824.22              -33.03              -1.37        Mid-Level   \n",
       "9        71783.83              -15.57              13.49        Mid-Level   \n",
       "\n",
       "   tenure_at_termination  early_attrition  salary_band  \n",
       "0                    NaN                0      60K-80K  \n",
       "1                    NaN                0      60K-80K  \n",
       "2                    NaN                0      60K-80K  \n",
       "3                    NaN                0      60K-80K  \n",
       "4                    NaN                0      60K-80K  \n",
       "5                    NaN                0        150K+  \n",
       "6                    NaN                0     80K-100K  \n",
       "7                    NaN                0      60K-80K  \n",
       "8                    NaN                0      60K-80K  \n",
       "9                    NaN                0     80K-100K  \n",
       "\n",
       "[10 rows x 36 columns]"
      ]
     },
     "execution_count": 88,
     "metadata": {},
     "output_type": "execute_result"
    }
   ],
   "source": [
    "# Sort by EmployeeID\n",
    "df = df.sort_values('employeeid').reset_index(drop=True)\n",
    "print(\"Data sorted by EmployeeID\")\n",
    "df.head(10)"
   ]
  },
  {
   "cell_type": "markdown",
   "metadata": {},
   "source": [
    "#### 6.4 Final Data Quality Check"
   ]
  },
  {
   "cell_type": "code",
   "execution_count": 89,
   "metadata": {},
   "outputs": [
    {
     "name": "stdout",
     "output_type": "stream",
     "text": [
      "============================================================\n",
      "FINAL DATA QUALITY SUMMARY\n",
      "============================================================\n",
      "\n",
      "Final shape: (919, 36)\n",
      "\n",
      "Columns: ['employeeid', 'fullname', 'department', 'jobtitle', 'email', 'gender', 'hiredate', 'terminationdate', 'salary', 'managerid', 'performancerating', 'status', 'hire_year', 'hire_month', 'hire_quarter', 'termination_year', 'termination_month', 'termination_quarter', 'tenure_days', 'tenure_years', 'tenure_band', 'performance_category', 'department_size', 'manager_span_of_control', 'is_active', 'is_terminated', 'has_manager', 'has_performance_rating', 'dept_avg_salary', 'job_avg_salary', 'salary_vs_dept_avg', 'salary_vs_job_avg', 'seniority_level', 'tenure_at_termination', 'early_attrition', 'salary_band']\n",
      "\n",
      "Missing values:\n",
      "employeeid                   0\n",
      "fullname                     0\n",
      "department                   0\n",
      "jobtitle                     0\n",
      "email                        0\n",
      "gender                       0\n",
      "hiredate                     0\n",
      "terminationdate            797\n",
      "salary                       0\n",
      "managerid                  261\n",
      "performancerating           55\n",
      "status                       0\n",
      "hire_year                    0\n",
      "hire_month                   0\n",
      "hire_quarter                 0\n",
      "termination_year           797\n",
      "termination_month          797\n",
      "termination_quarter        797\n",
      "tenure_days                  0\n",
      "tenure_years                 0\n",
      "tenure_band                  0\n",
      "performance_category        55\n",
      "department_size              0\n",
      "manager_span_of_control      0\n",
      "is_active                    0\n",
      "is_terminated                0\n",
      "has_manager                  0\n",
      "has_performance_rating       0\n",
      "dept_avg_salary              0\n",
      "job_avg_salary               0\n",
      "salary_vs_dept_avg           0\n",
      "salary_vs_job_avg            0\n",
      "seniority_level              0\n",
      "tenure_at_termination      797\n",
      "early_attrition              0\n",
      "salary_band                  0\n",
      "dtype: int64\n",
      "\n",
      "Duplicates: 0\n",
      "\n",
      "Data types:\n",
      "employeeid                         object\n",
      "fullname                           object\n",
      "department                         object\n",
      "jobtitle                           object\n",
      "email                              object\n",
      "gender                             object\n",
      "hiredate                   datetime64[ns]\n",
      "terminationdate            datetime64[ns]\n",
      "salary                            float64\n",
      "managerid                          object\n",
      "performancerating                 float64\n",
      "status                             object\n",
      "hire_year                           int32\n",
      "hire_month                          int32\n",
      "hire_quarter                        int32\n",
      "termination_year                  float64\n",
      "termination_month                 float64\n",
      "termination_quarter               float64\n",
      "tenure_days                         int64\n",
      "tenure_years                      float64\n",
      "tenure_band                      category\n",
      "performance_category             category\n",
      "department_size                     int64\n",
      "manager_span_of_control             int32\n",
      "is_active                           int32\n",
      "is_terminated                       int32\n",
      "has_manager                         int32\n",
      "has_performance_rating              int32\n",
      "dept_avg_salary                   float64\n",
      "job_avg_salary                    float64\n",
      "salary_vs_dept_avg                float64\n",
      "salary_vs_job_avg                 float64\n",
      "seniority_level                  category\n",
      "tenure_at_termination             float64\n",
      "early_attrition                     int32\n",
      "salary_band                      category\n",
      "dtype: object\n"
     ]
    }
   ],
   "source": [
    "# Final summary\n",
    "print(\"=\" * 60)\n",
    "print(\"FINAL DATA QUALITY SUMMARY\")\n",
    "print(\"=\" * 60)\n",
    "print(f\"\\nFinal shape: {df.shape}\")\n",
    "print(f\"\\nColumns: {list(df.columns)}\")\n",
    "print(f\"\\nMissing values:\")\n",
    "print(df.isnull().sum())\n",
    "print(f\"\\nDuplicates: {df.duplicated().sum()}\")\n",
    "print(f\"\\nData types:\")\n",
    "print(df.dtypes)"
   ]
  },
  {
   "cell_type": "code",
   "execution_count": 90,
   "metadata": {},
   "outputs": [
    {
     "name": "stdout",
     "output_type": "stream",
     "text": [
      "\n",
      "Cleaned data sample:\n"
     ]
    },
    {
     "data": {
      "text/html": [
       "<div>\n",
       "<style scoped>\n",
       "    .dataframe tbody tr th:only-of-type {\n",
       "        vertical-align: middle;\n",
       "    }\n",
       "\n",
       "    .dataframe tbody tr th {\n",
       "        vertical-align: top;\n",
       "    }\n",
       "\n",
       "    .dataframe thead th {\n",
       "        text-align: right;\n",
       "    }\n",
       "</style>\n",
       "<table border=\"1\" class=\"dataframe\">\n",
       "  <thead>\n",
       "    <tr style=\"text-align: right;\">\n",
       "      <th></th>\n",
       "      <th>employeeid</th>\n",
       "      <th>fullname</th>\n",
       "      <th>department</th>\n",
       "      <th>jobtitle</th>\n",
       "      <th>email</th>\n",
       "      <th>gender</th>\n",
       "      <th>hiredate</th>\n",
       "      <th>terminationdate</th>\n",
       "      <th>salary</th>\n",
       "      <th>managerid</th>\n",
       "      <th>...</th>\n",
       "      <th>has_manager</th>\n",
       "      <th>has_performance_rating</th>\n",
       "      <th>dept_avg_salary</th>\n",
       "      <th>job_avg_salary</th>\n",
       "      <th>salary_vs_dept_avg</th>\n",
       "      <th>salary_vs_job_avg</th>\n",
       "      <th>seniority_level</th>\n",
       "      <th>tenure_at_termination</th>\n",
       "      <th>early_attrition</th>\n",
       "      <th>salary_band</th>\n",
       "    </tr>\n",
       "  </thead>\n",
       "  <tbody>\n",
       "    <tr>\n",
       "      <th>0</th>\n",
       "      <td>PNR-1001</td>\n",
       "      <td>Aarav Taylor</td>\n",
       "      <td>It Support</td>\n",
       "      <td>Help Desk Specialist</td>\n",
       "      <td>employee.1001@pnrao.com</td>\n",
       "      <td>Unknown</td>\n",
       "      <td>2021-05-08</td>\n",
       "      <td>NaT</td>\n",
       "      <td>79378.0</td>\n",
       "      <td>NaN</td>\n",
       "      <td>...</td>\n",
       "      <td>0</td>\n",
       "      <td>0</td>\n",
       "      <td>96490.20</td>\n",
       "      <td>70990.91</td>\n",
       "      <td>-17.73</td>\n",
       "      <td>11.81</td>\n",
       "      <td>Mid-Level</td>\n",
       "      <td>NaN</td>\n",
       "      <td>0</td>\n",
       "      <td>60K-80K</td>\n",
       "    </tr>\n",
       "    <tr>\n",
       "      <th>1</th>\n",
       "      <td>PNR-1002</td>\n",
       "      <td>Emma Jones</td>\n",
       "      <td>Quality Control</td>\n",
       "      <td>Qc Inspector</td>\n",
       "      <td>employee.1002@pnrao.com</td>\n",
       "      <td>Female</td>\n",
       "      <td>2019-11-13</td>\n",
       "      <td>NaT</td>\n",
       "      <td>69570.0</td>\n",
       "      <td>PNR-1714</td>\n",
       "      <td>...</td>\n",
       "      <td>1</td>\n",
       "      <td>1</td>\n",
       "      <td>109570.66</td>\n",
       "      <td>70667.88</td>\n",
       "      <td>-36.51</td>\n",
       "      <td>-1.55</td>\n",
       "      <td>Senior</td>\n",
       "      <td>NaN</td>\n",
       "      <td>0</td>\n",
       "      <td>60K-80K</td>\n",
       "    </tr>\n",
       "    <tr>\n",
       "      <th>2</th>\n",
       "      <td>PNR-1004</td>\n",
       "      <td>Rohan Jones</td>\n",
       "      <td>Human Resources</td>\n",
       "      <td>Hr Coordinator</td>\n",
       "      <td>employee.1004@pnrao.com</td>\n",
       "      <td>Female</td>\n",
       "      <td>2020-02-11</td>\n",
       "      <td>NaT</td>\n",
       "      <td>61572.0</td>\n",
       "      <td>PNR-1925</td>\n",
       "      <td>...</td>\n",
       "      <td>1</td>\n",
       "      <td>1</td>\n",
       "      <td>68801.09</td>\n",
       "      <td>68340.05</td>\n",
       "      <td>-10.51</td>\n",
       "      <td>-9.90</td>\n",
       "      <td>Senior</td>\n",
       "      <td>NaN</td>\n",
       "      <td>0</td>\n",
       "      <td>60K-80K</td>\n",
       "    </tr>\n",
       "    <tr>\n",
       "      <th>3</th>\n",
       "      <td>PNR-1007</td>\n",
       "      <td>John Smith</td>\n",
       "      <td>Marketing</td>\n",
       "      <td>Marketing Coordinator</td>\n",
       "      <td>employee.1007@pnrao.com</td>\n",
       "      <td>Female</td>\n",
       "      <td>2023-08-21</td>\n",
       "      <td>NaT</td>\n",
       "      <td>76107.0</td>\n",
       "      <td>PNR-2219</td>\n",
       "      <td>...</td>\n",
       "      <td>1</td>\n",
       "      <td>0</td>\n",
       "      <td>93037.96</td>\n",
       "      <td>72400.67</td>\n",
       "      <td>-18.20</td>\n",
       "      <td>5.12</td>\n",
       "      <td>Mid-Level</td>\n",
       "      <td>NaN</td>\n",
       "      <td>0</td>\n",
       "      <td>60K-80K</td>\n",
       "    </tr>\n",
       "    <tr>\n",
       "      <th>4</th>\n",
       "      <td>PNR-1008</td>\n",
       "      <td>Chris Jones</td>\n",
       "      <td>Research &amp; Development</td>\n",
       "      <td>Lab Technician</td>\n",
       "      <td>employee.1008@pnrao.com</td>\n",
       "      <td>Unknown</td>\n",
       "      <td>2023-07-27</td>\n",
       "      <td>NaT</td>\n",
       "      <td>79117.0</td>\n",
       "      <td>PNR-1441</td>\n",
       "      <td>...</td>\n",
       "      <td>1</td>\n",
       "      <td>1</td>\n",
       "      <td>85614.79</td>\n",
       "      <td>69766.00</td>\n",
       "      <td>-7.59</td>\n",
       "      <td>13.40</td>\n",
       "      <td>Mid-Level</td>\n",
       "      <td>NaN</td>\n",
       "      <td>0</td>\n",
       "      <td>60K-80K</td>\n",
       "    </tr>\n",
       "    <tr>\n",
       "      <th>5</th>\n",
       "      <td>PNR-1013</td>\n",
       "      <td>Chris Singh</td>\n",
       "      <td>Sales</td>\n",
       "      <td>Account Manager</td>\n",
       "      <td>employee.1013@pnrao.com</td>\n",
       "      <td>Male</td>\n",
       "      <td>2020-11-24</td>\n",
       "      <td>NaT</td>\n",
       "      <td>176073.0</td>\n",
       "      <td>NaN</td>\n",
       "      <td>...</td>\n",
       "      <td>0</td>\n",
       "      <td>1</td>\n",
       "      <td>121525.81</td>\n",
       "      <td>151582.00</td>\n",
       "      <td>44.89</td>\n",
       "      <td>16.16</td>\n",
       "      <td>Mid-Level</td>\n",
       "      <td>NaN</td>\n",
       "      <td>0</td>\n",
       "      <td>150K+</td>\n",
       "    </tr>\n",
       "    <tr>\n",
       "      <th>6</th>\n",
       "      <td>PNR-1017</td>\n",
       "      <td>Saanvi Sharma</td>\n",
       "      <td>Finance</td>\n",
       "      <td>Accountant</td>\n",
       "      <td>employee.1017@pnrao.com</td>\n",
       "      <td>Female</td>\n",
       "      <td>2021-02-26</td>\n",
       "      <td>NaT</td>\n",
       "      <td>83620.0</td>\n",
       "      <td>PNR-1533</td>\n",
       "      <td>...</td>\n",
       "      <td>1</td>\n",
       "      <td>1</td>\n",
       "      <td>69535.21</td>\n",
       "      <td>69549.67</td>\n",
       "      <td>20.26</td>\n",
       "      <td>20.23</td>\n",
       "      <td>Mid-Level</td>\n",
       "      <td>NaN</td>\n",
       "      <td>0</td>\n",
       "      <td>80K-100K</td>\n",
       "    </tr>\n",
       "    <tr>\n",
       "      <th>7</th>\n",
       "      <td>PNR-1018</td>\n",
       "      <td>Olivia Jones</td>\n",
       "      <td>Finance</td>\n",
       "      <td>Controller</td>\n",
       "      <td>employee.1018@pnrao.com</td>\n",
       "      <td>Male</td>\n",
       "      <td>2023-08-14</td>\n",
       "      <td>NaT</td>\n",
       "      <td>78927.0</td>\n",
       "      <td>PNR-2098</td>\n",
       "      <td>...</td>\n",
       "      <td>1</td>\n",
       "      <td>1</td>\n",
       "      <td>69535.21</td>\n",
       "      <td>68783.80</td>\n",
       "      <td>13.51</td>\n",
       "      <td>14.75</td>\n",
       "      <td>Mid-Level</td>\n",
       "      <td>NaN</td>\n",
       "      <td>0</td>\n",
       "      <td>60K-80K</td>\n",
       "    </tr>\n",
       "    <tr>\n",
       "      <th>8</th>\n",
       "      <td>PNR-1020</td>\n",
       "      <td>Aditya Kumar</td>\n",
       "      <td>Production</td>\n",
       "      <td>Line Supervisor</td>\n",
       "      <td>employee.1020@pnrao.com</td>\n",
       "      <td>Unknown</td>\n",
       "      <td>2022-02-25</td>\n",
       "      <td>NaT</td>\n",
       "      <td>68866.0</td>\n",
       "      <td>NaN</td>\n",
       "      <td>...</td>\n",
       "      <td>0</td>\n",
       "      <td>1</td>\n",
       "      <td>102837.83</td>\n",
       "      <td>69824.22</td>\n",
       "      <td>-33.03</td>\n",
       "      <td>-1.37</td>\n",
       "      <td>Mid-Level</td>\n",
       "      <td>NaN</td>\n",
       "      <td>0</td>\n",
       "      <td>60K-80K</td>\n",
       "    </tr>\n",
       "    <tr>\n",
       "      <th>9</th>\n",
       "      <td>PNR-1021</td>\n",
       "      <td>Olivia Williams</td>\n",
       "      <td>It Support</td>\n",
       "      <td>It Technician</td>\n",
       "      <td>employee.1021@pnrao.com</td>\n",
       "      <td>Female</td>\n",
       "      <td>2022-11-30</td>\n",
       "      <td>NaT</td>\n",
       "      <td>81467.0</td>\n",
       "      <td>PNR-1947</td>\n",
       "      <td>...</td>\n",
       "      <td>1</td>\n",
       "      <td>1</td>\n",
       "      <td>96490.20</td>\n",
       "      <td>71783.83</td>\n",
       "      <td>-15.57</td>\n",
       "      <td>13.49</td>\n",
       "      <td>Mid-Level</td>\n",
       "      <td>NaN</td>\n",
       "      <td>0</td>\n",
       "      <td>80K-100K</td>\n",
       "    </tr>\n",
       "  </tbody>\n",
       "</table>\n",
       "<p>10 rows × 36 columns</p>\n",
       "</div>"
      ],
      "text/plain": [
       "  employeeid         fullname              department               jobtitle  \\\n",
       "0   PNR-1001     Aarav Taylor              It Support   Help Desk Specialist   \n",
       "1   PNR-1002       Emma Jones         Quality Control           Qc Inspector   \n",
       "2   PNR-1004      Rohan Jones         Human Resources         Hr Coordinator   \n",
       "3   PNR-1007       John Smith               Marketing  Marketing Coordinator   \n",
       "4   PNR-1008      Chris Jones  Research & Development         Lab Technician   \n",
       "5   PNR-1013      Chris Singh                   Sales        Account Manager   \n",
       "6   PNR-1017    Saanvi Sharma                 Finance             Accountant   \n",
       "7   PNR-1018     Olivia Jones                 Finance             Controller   \n",
       "8   PNR-1020     Aditya Kumar              Production        Line Supervisor   \n",
       "9   PNR-1021  Olivia Williams              It Support          It Technician   \n",
       "\n",
       "                     email   gender   hiredate terminationdate    salary  \\\n",
       "0  employee.1001@pnrao.com  Unknown 2021-05-08             NaT   79378.0   \n",
       "1  employee.1002@pnrao.com   Female 2019-11-13             NaT   69570.0   \n",
       "2  employee.1004@pnrao.com   Female 2020-02-11             NaT   61572.0   \n",
       "3  employee.1007@pnrao.com   Female 2023-08-21             NaT   76107.0   \n",
       "4  employee.1008@pnrao.com  Unknown 2023-07-27             NaT   79117.0   \n",
       "5  employee.1013@pnrao.com     Male 2020-11-24             NaT  176073.0   \n",
       "6  employee.1017@pnrao.com   Female 2021-02-26             NaT   83620.0   \n",
       "7  employee.1018@pnrao.com     Male 2023-08-14             NaT   78927.0   \n",
       "8  employee.1020@pnrao.com  Unknown 2022-02-25             NaT   68866.0   \n",
       "9  employee.1021@pnrao.com   Female 2022-11-30             NaT   81467.0   \n",
       "\n",
       "  managerid  ...  has_manager has_performance_rating  dept_avg_salary  \\\n",
       "0       NaN  ...            0                      0         96490.20   \n",
       "1  PNR-1714  ...            1                      1        109570.66   \n",
       "2  PNR-1925  ...            1                      1         68801.09   \n",
       "3  PNR-2219  ...            1                      0         93037.96   \n",
       "4  PNR-1441  ...            1                      1         85614.79   \n",
       "5       NaN  ...            0                      1        121525.81   \n",
       "6  PNR-1533  ...            1                      1         69535.21   \n",
       "7  PNR-2098  ...            1                      1         69535.21   \n",
       "8       NaN  ...            0                      1        102837.83   \n",
       "9  PNR-1947  ...            1                      1         96490.20   \n",
       "\n",
       "   job_avg_salary  salary_vs_dept_avg  salary_vs_job_avg  seniority_level  \\\n",
       "0        70990.91              -17.73              11.81        Mid-Level   \n",
       "1        70667.88              -36.51              -1.55           Senior   \n",
       "2        68340.05              -10.51              -9.90           Senior   \n",
       "3        72400.67              -18.20               5.12        Mid-Level   \n",
       "4        69766.00               -7.59              13.40        Mid-Level   \n",
       "5       151582.00               44.89              16.16        Mid-Level   \n",
       "6        69549.67               20.26              20.23        Mid-Level   \n",
       "7        68783.80               13.51              14.75        Mid-Level   \n",
       "8        69824.22              -33.03              -1.37        Mid-Level   \n",
       "9        71783.83              -15.57              13.49        Mid-Level   \n",
       "\n",
       "   tenure_at_termination  early_attrition  salary_band  \n",
       "0                    NaN                0      60K-80K  \n",
       "1                    NaN                0      60K-80K  \n",
       "2                    NaN                0      60K-80K  \n",
       "3                    NaN                0      60K-80K  \n",
       "4                    NaN                0      60K-80K  \n",
       "5                    NaN                0        150K+  \n",
       "6                    NaN                0     80K-100K  \n",
       "7                    NaN                0      60K-80K  \n",
       "8                    NaN                0      60K-80K  \n",
       "9                    NaN                0     80K-100K  \n",
       "\n",
       "[10 rows x 36 columns]"
      ]
     },
     "execution_count": 90,
     "metadata": {},
     "output_type": "execute_result"
    }
   ],
   "source": [
    "# Display cleaned data\n",
    "print(\"\\nCleaned data sample:\")\n",
    "df.head(10)"
   ]
  },
  {
   "cell_type": "markdown",
   "metadata": {},
   "source": [
    "### Save Cleaned Data"
   ]
  },
  {
   "cell_type": "code",
   "execution_count": 91,
   "metadata": {},
   "outputs": [
    {
     "name": "stdout",
     "output_type": "stream",
     "text": [
      "Cleaned data saved to: ../data/processed/Employee_Master_cleaned.csv\n",
      "Total records: 919\n"
     ]
    }
   ],
   "source": [
    "# Save to processed folder\n",
    "output_path = '../data/processed/Employee_Master_cleaned.csv'\n",
    "df.to_csv(output_path, index=False)\n",
    "print(f\"Cleaned data saved to: {output_path}\")\n",
    "print(f\"Total records: {len(df)}\")"
   ]
  },
  {
   "cell_type": "markdown",
   "metadata": {},
   "source": [
    "---\n",
    "## Summary\n",
    "\n",
    "### Data Cleaning & Feature Engineering Completed Successfully!\n",
    "\n",
    "**Steps Performed:**\n",
    "1. ✅ Checked for redundant columns (none found)\n",
    "2. ✅ Renamed columns to snake_case format\n",
    "3. ✅ Removed duplicates (including duplicate EmployeeIDs)\n",
    "4. ✅ Handled missing values appropriately\n",
    "5. ✅ Cleaned all individual columns:\n",
    "   - EmployeeID, FullName, Department, JobTitle\n",
    "   - Email (generated missing emails)\n",
    "   - Gender, HireDate, TerminationDate\n",
    "   - Salary (imputed missing values), ManagerID\n",
    "   - PerformanceRating, Status\n",
    "6. ✅ **Created transformations & feature engineering:**\n",
    "   - **Date features**: hire/termination year, month, quarter\n",
    "   - **Tenure calculations**: days, years, bands (0-1, 1-3, 3-5, 5-10, 10+ years)\n",
    "   - **Salary features**: bands (<60K to 150K+), department/job averages, salary vs peers\n",
    "   - **Performance categories**: Below Average, Average, Good, Excellent\n",
    "   - **Department metrics**: department size (headcount)\n",
    "   - **Manager metrics**: span of control (direct reports)\n",
    "   - **Binary flags**: is_active, is_terminated, has_manager, has_performance_rating\n",
    "   - **Seniority levels**: Junior, Mid-Level, Senior, Executive\n",
    "   - **Attrition features**: tenure at termination, early attrition flag\n",
    "   - **Data validation**: fixed status/termination date inconsistencies\n",
    "\n",
    "**Feature Summary:**\n",
    "- Original columns: 12\n",
    "- Final columns: 35+\n",
    "- New features created: 23+\n",
    "\n",
    "**Next Steps:**\n",
    "- Clean remaining datasets (Headcount, Leave_Attendance, Recruitment_Funnel)\n",
    "- Merge with Compensation_History for comprehensive employee analysis\n",
    "- Perform exploratory data analysis\n",
    "- Create Power BI dashboard"
   ]
  }
 ],
 "metadata": {
  "kernelspec": {
   "display_name": "base",
   "language": "python",
   "name": "python3"
  },
  "language_info": {
   "codemirror_mode": {
    "name": "ipython",
    "version": 3
   },
   "file_extension": ".py",
   "mimetype": "text/x-python",
   "name": "python",
   "nbconvert_exporter": "python",
   "pygments_lexer": "ipython3",
   "version": "3.12.7"
  }
 },
 "nbformat": 4,
 "nbformat_minor": 4
}
