{
 "cells": [
  {
   "cell_type": "markdown",
   "metadata": {},
   "source": [
    "# HR Dashboard - Data Cleaning\n",
    "## Headcount Dataset\n",
    "\n",
    "This notebook performs data cleaning, wrangling, and feature engineering on the Headcount dataset."
   ]
  },
  {
   "cell_type": "markdown",
   "metadata": {},
   "source": [
    "### Import Libraries"
   ]
  },
  {
   "cell_type": "code",
   "execution_count": 1,
   "metadata": {},
   "outputs": [],
   "source": [
    "import pandas as pd\n",
    "import numpy as np\n",
    "import matplotlib.pyplot as plt\n",
    "import warnings\n",
    "warnings.filterwarnings('ignore')"
   ]
  },
  {
   "cell_type": "markdown",
   "metadata": {},
   "source": [
    "### Load Raw Data"
   ]
  },
  {
   "cell_type": "code",
   "execution_count": 2,
   "metadata": {},
   "outputs": [
    {
     "name": "stdout",
     "output_type": "stream",
     "text": [
      "Original dataset shape: (846, 7)\n"
     ]
    },
    {
     "data": {
      "text/html": [
       "<div>\n",
       "<style scoped>\n",
       "    .dataframe tbody tr th:only-of-type {\n",
       "        vertical-align: middle;\n",
       "    }\n",
       "\n",
       "    .dataframe tbody tr th {\n",
       "        vertical-align: top;\n",
       "    }\n",
       "\n",
       "    .dataframe thead th {\n",
       "        text-align: right;\n",
       "    }\n",
       "</style>\n",
       "<table border=\"1\" class=\"dataframe\">\n",
       "  <thead>\n",
       "    <tr style=\"text-align: right;\">\n",
       "      <th></th>\n",
       "      <th>RecordID</th>\n",
       "      <th>MonthEnd</th>\n",
       "      <th>Department</th>\n",
       "      <th>Headcount</th>\n",
       "      <th>Hires</th>\n",
       "      <th>Terminations</th>\n",
       "      <th>AttritionRate</th>\n",
       "    </tr>\n",
       "  </thead>\n",
       "  <tbody>\n",
       "    <tr>\n",
       "      <th>0</th>\n",
       "      <td>HC-1</td>\n",
       "      <td>2018-01-30</td>\n",
       "      <td>Sales</td>\n",
       "      <td>1</td>\n",
       "      <td>1</td>\n",
       "      <td>0</td>\n",
       "      <td>0.0</td>\n",
       "    </tr>\n",
       "    <tr>\n",
       "      <th>1</th>\n",
       "      <td>HC-2</td>\n",
       "      <td>2018-01-30</td>\n",
       "      <td>Marketing</td>\n",
       "      <td>1</td>\n",
       "      <td>1</td>\n",
       "      <td>0</td>\n",
       "      <td>0.0</td>\n",
       "    </tr>\n",
       "    <tr>\n",
       "      <th>2</th>\n",
       "      <td>HC-3</td>\n",
       "      <td>2018-01-30</td>\n",
       "      <td>Production</td>\n",
       "      <td>2</td>\n",
       "      <td>2</td>\n",
       "      <td>0</td>\n",
       "      <td>0.0</td>\n",
       "    </tr>\n",
       "    <tr>\n",
       "      <th>3</th>\n",
       "      <td>HC-4</td>\n",
       "      <td>2018-01-30</td>\n",
       "      <td>Human Resources</td>\n",
       "      <td>2</td>\n",
       "      <td>2</td>\n",
       "      <td>0</td>\n",
       "      <td>0.0</td>\n",
       "    </tr>\n",
       "    <tr>\n",
       "      <th>4</th>\n",
       "      <td>HC-5</td>\n",
       "      <td>2018-01-30</td>\n",
       "      <td>Finance</td>\n",
       "      <td>1</td>\n",
       "      <td>1</td>\n",
       "      <td>0</td>\n",
       "      <td>0.0</td>\n",
       "    </tr>\n",
       "    <tr>\n",
       "      <th>5</th>\n",
       "      <td>HC-6</td>\n",
       "      <td>2018-01-30</td>\n",
       "      <td>IT Support</td>\n",
       "      <td>4</td>\n",
       "      <td>4</td>\n",
       "      <td>0</td>\n",
       "      <td>0.0</td>\n",
       "    </tr>\n",
       "    <tr>\n",
       "      <th>6</th>\n",
       "      <td>HC-7</td>\n",
       "      <td>2018-01-30</td>\n",
       "      <td>Quality Control</td>\n",
       "      <td>3</td>\n",
       "      <td>3</td>\n",
       "      <td>0</td>\n",
       "      <td>0.0</td>\n",
       "    </tr>\n",
       "    <tr>\n",
       "      <th>7</th>\n",
       "      <td>HC-8</td>\n",
       "      <td>2018-01-30</td>\n",
       "      <td>Logistics</td>\n",
       "      <td>2</td>\n",
       "      <td>2</td>\n",
       "      <td>0</td>\n",
       "      <td>0.0</td>\n",
       "    </tr>\n",
       "    <tr>\n",
       "      <th>8</th>\n",
       "      <td>HC-9</td>\n",
       "      <td>2018-01-30</td>\n",
       "      <td>Research &amp; Development</td>\n",
       "      <td>6</td>\n",
       "      <td>6</td>\n",
       "      <td>0</td>\n",
       "      <td>0.0</td>\n",
       "    </tr>\n",
       "    <tr>\n",
       "      <th>9</th>\n",
       "      <td>HC-10</td>\n",
       "      <td>2018-02-27</td>\n",
       "      <td>Sales</td>\n",
       "      <td>3</td>\n",
       "      <td>2</td>\n",
       "      <td>0</td>\n",
       "      <td>0.0</td>\n",
       "    </tr>\n",
       "  </tbody>\n",
       "</table>\n",
       "</div>"
      ],
      "text/plain": [
       "  RecordID    MonthEnd              Department  Headcount  Hires  \\\n",
       "0     HC-1  2018-01-30                   Sales          1      1   \n",
       "1     HC-2  2018-01-30               Marketing          1      1   \n",
       "2     HC-3  2018-01-30              Production          2      2   \n",
       "3     HC-4  2018-01-30         Human Resources          2      2   \n",
       "4     HC-5  2018-01-30                 Finance          1      1   \n",
       "5     HC-6  2018-01-30              IT Support          4      4   \n",
       "6     HC-7  2018-01-30         Quality Control          3      3   \n",
       "7     HC-8  2018-01-30               Logistics          2      2   \n",
       "8     HC-9  2018-01-30  Research & Development          6      6   \n",
       "9    HC-10  2018-02-27                   Sales          3      2   \n",
       "\n",
       "   Terminations  AttritionRate  \n",
       "0             0            0.0  \n",
       "1             0            0.0  \n",
       "2             0            0.0  \n",
       "3             0            0.0  \n",
       "4             0            0.0  \n",
       "5             0            0.0  \n",
       "6             0            0.0  \n",
       "7             0            0.0  \n",
       "8             0            0.0  \n",
       "9             0            0.0  "
      ]
     },
     "execution_count": 2,
     "metadata": {},
     "output_type": "execute_result"
    }
   ],
   "source": [
    "# Load the Headcount dataset\n",
    "df = pd.read_csv('../data/raw/Headcount.csv')\n",
    "print(f\"Original dataset shape: {df.shape}\")\n",
    "df.head(10)"
   ]
  },
  {
   "cell_type": "markdown",
   "metadata": {},
   "source": [
    "### Initial Data Exploration"
   ]
  },
  {
   "cell_type": "code",
   "execution_count": 3,
   "metadata": {},
   "outputs": [
    {
     "name": "stdout",
     "output_type": "stream",
     "text": [
      "Dataset Info:\n",
      "<class 'pandas.core.frame.DataFrame'>\n",
      "RangeIndex: 846 entries, 0 to 845\n",
      "Data columns (total 7 columns):\n",
      " #   Column         Non-Null Count  Dtype  \n",
      "---  ------         --------------  -----  \n",
      " 0   RecordID       846 non-null    object \n",
      " 1   MonthEnd       846 non-null    object \n",
      " 2   Department     846 non-null    object \n",
      " 3   Headcount      846 non-null    int64  \n",
      " 4   Hires          846 non-null    int64  \n",
      " 5   Terminations   846 non-null    int64  \n",
      " 6   AttritionRate  846 non-null    float64\n",
      "dtypes: float64(1), int64(3), object(3)\n",
      "memory usage: 46.4+ KB\n",
      "\n",
      "==================================================\n",
      "\n",
      "Basic Statistics:\n"
     ]
    },
    {
     "data": {
      "text/html": [
       "<div>\n",
       "<style scoped>\n",
       "    .dataframe tbody tr th:only-of-type {\n",
       "        vertical-align: middle;\n",
       "    }\n",
       "\n",
       "    .dataframe tbody tr th {\n",
       "        vertical-align: top;\n",
       "    }\n",
       "\n",
       "    .dataframe thead th {\n",
       "        text-align: right;\n",
       "    }\n",
       "</style>\n",
       "<table border=\"1\" class=\"dataframe\">\n",
       "  <thead>\n",
       "    <tr style=\"text-align: right;\">\n",
       "      <th></th>\n",
       "      <th>Headcount</th>\n",
       "      <th>Hires</th>\n",
       "      <th>Terminations</th>\n",
       "      <th>AttritionRate</th>\n",
       "    </tr>\n",
       "  </thead>\n",
       "  <tbody>\n",
       "    <tr>\n",
       "      <th>count</th>\n",
       "      <td>846.000000</td>\n",
       "      <td>846.000000</td>\n",
       "      <td>846.000000</td>\n",
       "      <td>846.000000</td>\n",
       "    </tr>\n",
       "    <tr>\n",
       "      <th>mean</th>\n",
       "      <td>104.784870</td>\n",
       "      <td>2.364066</td>\n",
       "      <td>0.222222</td>\n",
       "      <td>0.002006</td>\n",
       "    </tr>\n",
       "    <tr>\n",
       "      <th>std</th>\n",
       "      <td>58.849993</td>\n",
       "      <td>1.515938</td>\n",
       "      <td>0.491613</td>\n",
       "      <td>0.004954</td>\n",
       "    </tr>\n",
       "    <tr>\n",
       "      <th>min</th>\n",
       "      <td>1.000000</td>\n",
       "      <td>0.000000</td>\n",
       "      <td>0.000000</td>\n",
       "      <td>0.000000</td>\n",
       "    </tr>\n",
       "    <tr>\n",
       "      <th>25%</th>\n",
       "      <td>55.000000</td>\n",
       "      <td>1.000000</td>\n",
       "      <td>0.000000</td>\n",
       "      <td>0.000000</td>\n",
       "    </tr>\n",
       "    <tr>\n",
       "      <th>50%</th>\n",
       "      <td>107.000000</td>\n",
       "      <td>2.000000</td>\n",
       "      <td>0.000000</td>\n",
       "      <td>0.000000</td>\n",
       "    </tr>\n",
       "    <tr>\n",
       "      <th>75%</th>\n",
       "      <td>157.000000</td>\n",
       "      <td>3.000000</td>\n",
       "      <td>0.000000</td>\n",
       "      <td>0.000000</td>\n",
       "    </tr>\n",
       "    <tr>\n",
       "      <th>max</th>\n",
       "      <td>213.000000</td>\n",
       "      <td>8.000000</td>\n",
       "      <td>2.000000</td>\n",
       "      <td>0.047600</td>\n",
       "    </tr>\n",
       "  </tbody>\n",
       "</table>\n",
       "</div>"
      ],
      "text/plain": [
       "        Headcount       Hires  Terminations  AttritionRate\n",
       "count  846.000000  846.000000    846.000000     846.000000\n",
       "mean   104.784870    2.364066      0.222222       0.002006\n",
       "std     58.849993    1.515938      0.491613       0.004954\n",
       "min      1.000000    0.000000      0.000000       0.000000\n",
       "25%     55.000000    1.000000      0.000000       0.000000\n",
       "50%    107.000000    2.000000      0.000000       0.000000\n",
       "75%    157.000000    3.000000      0.000000       0.000000\n",
       "max    213.000000    8.000000      2.000000       0.047600"
      ]
     },
     "execution_count": 3,
     "metadata": {},
     "output_type": "execute_result"
    }
   ],
   "source": [
    "# Display basic information\n",
    "print(\"Dataset Info:\")\n",
    "df.info()\n",
    "print(\"\\n\" + \"=\"*50)\n",
    "print(\"\\nBasic Statistics:\")\n",
    "df.describe()"
   ]
  },
  {
   "cell_type": "code",
   "execution_count": 4,
   "metadata": {},
   "outputs": [
    {
     "name": "stdout",
     "output_type": "stream",
     "text": [
      "Missing Values:\n",
      "               Missing_Count  Percentage\n",
      "RecordID                   0         0.0\n",
      "MonthEnd                   0         0.0\n",
      "Department                 0         0.0\n",
      "Headcount                  0         0.0\n",
      "Hires                      0         0.0\n",
      "Terminations               0         0.0\n",
      "AttritionRate              0         0.0\n"
     ]
    }
   ],
   "source": [
    "# Check for missing values\n",
    "print(\"Missing Values:\")\n",
    "missing = df.isnull().sum()\n",
    "missing_percent = (df.isnull().sum() / len(df)) * 100\n",
    "missing_df = pd.DataFrame({'Missing_Count': missing, 'Percentage': missing_percent})\n",
    "print(missing_df)"
   ]
  },
  {
   "cell_type": "code",
   "execution_count": 5,
   "metadata": {},
   "outputs": [
    {
     "name": "stdout",
     "output_type": "stream",
     "text": [
      "Total duplicate rows: 0\n"
     ]
    }
   ],
   "source": [
    "# Check for duplicates\n",
    "print(f\"Total duplicate rows: {df.duplicated().sum()}\")"
   ]
  },
  {
   "cell_type": "markdown",
   "metadata": {},
   "source": [
    "---\n",
    "## Data Cleaning Steps"
   ]
  },
  {
   "cell_type": "markdown",
   "metadata": {},
   "source": [
    "### Step 1: Delete Redundant Columns"
   ]
  },
  {
   "cell_type": "code",
   "execution_count": 6,
   "metadata": {},
   "outputs": [
    {
     "name": "stdout",
     "output_type": "stream",
     "text": [
      "All columns are relevant for analysis.\n",
      "Columns: ['RecordID', 'MonthEnd', 'Department', 'Headcount', 'Hires', 'Terminations', 'AttritionRate']\n"
     ]
    }
   ],
   "source": [
    "# Check for redundant columns\n",
    "print(\"All columns are relevant for analysis.\")\n",
    "print(f\"Columns: {list(df.columns)}\")"
   ]
  },
  {
   "cell_type": "markdown",
   "metadata": {},
   "source": [
    "### Step 2: Drop / Rename the Columns"
   ]
  },
  {
   "cell_type": "code",
   "execution_count": 7,
   "metadata": {},
   "outputs": [
    {
     "name": "stdout",
     "output_type": "stream",
     "text": [
      "Renamed columns:\n",
      "['recordid', 'monthend', 'department', 'headcount', 'hires', 'terminations', 'attritionrate']\n"
     ]
    }
   ],
   "source": [
    "# Rename columns for consistency (snake_case)\n",
    "df.columns = df.columns.str.lower().str.replace(' ', '_')\n",
    "print(\"Renamed columns:\")\n",
    "print(list(df.columns))"
   ]
  },
  {
   "cell_type": "markdown",
   "metadata": {},
   "source": [
    "### Step 3: Remove Duplicates"
   ]
  },
  {
   "cell_type": "code",
   "execution_count": 8,
   "metadata": {},
   "outputs": [
    {
     "name": "stdout",
     "output_type": "stream",
     "text": [
      "Rows before removing duplicates: 846\n",
      "Rows after removing duplicates: 846\n"
     ]
    }
   ],
   "source": [
    "# Remove duplicate rows\n",
    "print(f\"Rows before removing duplicates: {len(df)}\")\n",
    "df = df.drop_duplicates()\n",
    "print(f\"Rows after removing duplicates: {len(df)}\")"
   ]
  },
  {
   "cell_type": "markdown",
   "metadata": {},
   "source": [
    "### Step 4: Remove the NaN Values from the Dataset"
   ]
  },
  {
   "cell_type": "code",
   "execution_count": 9,
   "metadata": {},
   "outputs": [
    {
     "name": "stdout",
     "output_type": "stream",
     "text": [
      "Missing values:\n",
      "recordid         0\n",
      "monthend         0\n",
      "department       0\n",
      "headcount        0\n",
      "hires            0\n",
      "terminations     0\n",
      "attritionrate    0\n",
      "dtype: int64\n",
      "\n",
      "Total rows: 846\n"
     ]
    }
   ],
   "source": [
    "# Check missing values\n",
    "print(\"Missing values:\")\n",
    "print(df.isnull().sum())\n",
    "print(f\"\\nTotal rows: {len(df)}\")"
   ]
  },
  {
   "cell_type": "code",
   "execution_count": 10,
   "metadata": {},
   "outputs": [
    {
     "name": "stdout",
     "output_type": "stream",
     "text": [
      "No missing values found!\n"
     ]
    }
   ],
   "source": [
    "# Remove rows with missing critical columns\n",
    "if df.isnull().sum().sum() > 0:\n",
    "    df = df.dropna()\n",
    "    print(f\"Rows after removing missing values: {len(df)}\")\n",
    "else:\n",
    "    print(\"No missing values found!\")"
   ]
  },
  {
   "cell_type": "markdown",
   "metadata": {},
   "source": [
    "### Step 5: Clean Individual Columns"
   ]
  },
  {
   "cell_type": "markdown",
   "metadata": {},
   "source": [
    "#### 5.1 Clean RecordID Column"
   ]
  },
  {
   "cell_type": "code",
   "execution_count": 11,
   "metadata": {},
   "outputs": [
    {
     "name": "stdout",
     "output_type": "stream",
     "text": [
      "RecordID cleaned\n"
     ]
    }
   ],
   "source": [
    "# Clean RecordID\n",
    "df['recordid'] = df['recordid'].str.strip()\n",
    "print(\"RecordID cleaned\")"
   ]
  },
  {
   "cell_type": "markdown",
   "metadata": {},
   "source": [
    "#### 5.2 Clean MonthEnd Column"
   ]
  },
  {
   "cell_type": "code",
   "execution_count": 12,
   "metadata": {},
   "outputs": [
    {
     "name": "stdout",
     "output_type": "stream",
     "text": [
      "MonthEnd converted to datetime\n",
      "Date range: 2018-01-30 00:00:00 to 2025-10-30 00:00:00\n"
     ]
    }
   ],
   "source": [
    "# Convert MonthEnd to datetime\n",
    "df['monthend'] = df['monthend'].str.strip()\n",
    "df['monthend'] = pd.to_datetime(df['monthend'], errors='coerce')\n",
    "print(f\"MonthEnd converted to datetime\")\n",
    "print(f\"Date range: {df['monthend'].min()} to {df['monthend'].max()}\")"
   ]
  },
  {
   "cell_type": "code",
   "execution_count": 13,
   "metadata": {},
   "outputs": [
    {
     "name": "stdout",
     "output_type": "stream",
     "text": [
      "Removed 0 rows with invalid dates\n"
     ]
    }
   ],
   "source": [
    "# Remove invalid dates\n",
    "rows_before = len(df)\n",
    "df = df.dropna(subset=['monthend'])\n",
    "print(f\"Removed {rows_before - len(df)} rows with invalid dates\")"
   ]
  },
  {
   "cell_type": "code",
   "execution_count": 14,
   "metadata": {},
   "outputs": [
    {
     "name": "stdout",
     "output_type": "stream",
     "text": [
      "Extracted date features\n"
     ]
    }
   ],
   "source": [
    "# Extract date features\n",
    "df['year'] = df['monthend'].dt.year\n",
    "df['month'] = df['monthend'].dt.month\n",
    "df['quarter'] = df['monthend'].dt.quarter\n",
    "df['month_name'] = df['monthend'].dt.strftime('%B')\n",
    "print(\"Extracted date features\")"
   ]
  },
  {
   "cell_type": "markdown",
   "metadata": {},
   "source": [
    "#### 5.3 Clean Department Column"
   ]
  },
  {
   "cell_type": "code",
   "execution_count": 15,
   "metadata": {},
   "outputs": [
    {
     "name": "stdout",
     "output_type": "stream",
     "text": [
      "Department value counts:\n",
      "department\n",
      "Sales                     94\n",
      "Marketing                 94\n",
      "Production                94\n",
      "Human Resources           94\n",
      "Finance                   94\n",
      "IT Support                94\n",
      "Quality Control           94\n",
      "Logistics                 94\n",
      "Research & Development    94\n",
      "Name: count, dtype: int64\n"
     ]
    }
   ],
   "source": [
    "# Check Department values\n",
    "print(\"Department value counts:\")\n",
    "print(df['department'].value_counts())"
   ]
  },
  {
   "cell_type": "code",
   "execution_count": 16,
   "metadata": {},
   "outputs": [
    {
     "name": "stdout",
     "output_type": "stream",
     "text": [
      "\n",
      "Department cleaned:\n",
      "department\n",
      "Sales                     94\n",
      "Marketing                 94\n",
      "Production                94\n",
      "Human Resources           94\n",
      "Finance                   94\n",
      "It Support                94\n",
      "Quality Control           94\n",
      "Logistics                 94\n",
      "Research & Development    94\n",
      "Name: count, dtype: int64\n"
     ]
    }
   ],
   "source": [
    "# Clean Department\n",
    "df['department'] = df['department'].str.strip().str.title()\n",
    "print(\"\\nDepartment cleaned:\")\n",
    "print(df['department'].value_counts())"
   ]
  },
  {
   "cell_type": "markdown",
   "metadata": {},
   "source": [
    "#### 5.4 Clean Numeric Columns"
   ]
  },
  {
   "cell_type": "code",
   "execution_count": 17,
   "metadata": {},
   "outputs": [
    {
     "name": "stdout",
     "output_type": "stream",
     "text": [
      "Checking for invalid values:\n",
      "Negative Headcount: 0\n",
      "Negative Hires: 0\n",
      "Negative Terminations: 0\n",
      "Invalid AttritionRate: 0\n"
     ]
    }
   ],
   "source": [
    "# Check for negative values\n",
    "print(\"Checking for invalid values:\")\n",
    "print(f\"Negative Headcount: {(df['headcount'] < 0).sum()}\")\n",
    "print(f\"Negative Hires: {(df['hires'] < 0).sum()}\")\n",
    "print(f\"Negative Terminations: {(df['terminations'] < 0).sum()}\")\n",
    "print(f\"Invalid AttritionRate: {((df['attritionrate'] < 0) | (df['attritionrate'] > 100)).sum()}\")"
   ]
  },
  {
   "cell_type": "code",
   "execution_count": 18,
   "metadata": {},
   "outputs": [
    {
     "name": "stdout",
     "output_type": "stream",
     "text": [
      "Rows after removing invalid values: 846\n"
     ]
    }
   ],
   "source": [
    "# Remove invalid values\n",
    "df = df[df['headcount'] >= 0]\n",
    "df = df[df['hires'] >= 0]\n",
    "df = df[df['terminations'] >= 0]\n",
    "df = df[(df['attritionrate'] >= 0) & (df['attritionrate'] <= 100)]\n",
    "print(f\"Rows after removing invalid values: {len(df)}\")"
   ]
  },
  {
   "cell_type": "markdown",
   "metadata": {},
   "source": [
    "### Step 6: Check for Some More Transformations"
   ]
  },
  {
   "cell_type": "markdown",
   "metadata": {},
   "source": [
    "#### 6.1 Create Calculated Columns"
   ]
  },
  {
   "cell_type": "code",
   "execution_count": 19,
   "metadata": {},
   "outputs": [
    {
     "name": "stdout",
     "output_type": "stream",
     "text": [
      "Created 'net_change' column\n"
     ]
    }
   ],
   "source": [
    "# Calculate net change in headcount\n",
    "df['net_change'] = df['hires'] - df['terminations']\n",
    "print(\"Created 'net_change' column\")"
   ]
  },
  {
   "cell_type": "code",
   "execution_count": 20,
   "metadata": {},
   "outputs": [
    {
     "name": "stdout",
     "output_type": "stream",
     "text": [
      "Created 'growth_rate' column\n"
     ]
    }
   ],
   "source": [
    "# Calculate growth rate\n",
    "df['growth_rate'] = ((df['net_change'] / df['headcount']) * 100).round(2)\n",
    "print(\"Created 'growth_rate' column\")"
   ]
  },
  {
   "cell_type": "code",
   "execution_count": 21,
   "metadata": {},
   "outputs": [
    {
     "name": "stdout",
     "output_type": "stream",
     "text": [
      "Created 'turnover_rate' column\n"
     ]
    }
   ],
   "source": [
    "# Calculate turnover rate (if not already accurate)\n",
    "df['turnover_rate'] = ((df['terminations'] / df['headcount']) * 100).round(2)\n",
    "print(\"Created 'turnover_rate' column\")"
   ]
  },
  {
   "cell_type": "code",
   "execution_count": 22,
   "metadata": {},
   "outputs": [
    {
     "name": "stdout",
     "output_type": "stream",
     "text": [
      "Created 'hire_rate' column\n"
     ]
    }
   ],
   "source": [
    "# Calculate hire rate\n",
    "df['hire_rate'] = ((df['hires'] / df['headcount']) * 100).round(2)\n",
    "print(\"Created 'hire_rate' column\")"
   ]
  },
  {
   "cell_type": "markdown",
   "metadata": {},
   "source": [
    "#### 6.2 Create Time-Based Features"
   ]
  },
  {
   "cell_type": "code",
   "execution_count": 23,
   "metadata": {},
   "outputs": [
    {
     "name": "stdout",
     "output_type": "stream",
     "text": [
      "Created 3-month rolling averages\n"
     ]
    }
   ],
   "source": [
    "# Calculate rolling averages (3-month)\n",
    "df = df.sort_values(['department', 'monthend'])\n",
    "df['headcount_3m_avg'] = df.groupby('department')['headcount'].transform(lambda x: x.rolling(3, min_periods=1).mean()).round(0)\n",
    "df['hires_3m_avg'] = df.groupby('department')['hires'].transform(lambda x: x.rolling(3, min_periods=1).mean()).round(1)\n",
    "df['terminations_3m_avg'] = df.groupby('department')['terminations'].transform(lambda x: x.rolling(3, min_periods=1).mean()).round(1)\n",
    "print(\"Created 3-month rolling averages\")"
   ]
  },
  {
   "cell_type": "code",
   "execution_count": 24,
   "metadata": {},
   "outputs": [
    {
     "name": "stdout",
     "output_type": "stream",
     "text": [
      "Created month-over-month change metrics\n"
     ]
    }
   ],
   "source": [
    "# Calculate month-over-month changes\n",
    "df['headcount_mom_change'] = df.groupby('department')['headcount'].diff()\n",
    "df['headcount_mom_change_pct'] = ((df['headcount_mom_change'] / df.groupby('department')['headcount'].shift(1)) * 100).round(2)\n",
    "print(\"Created month-over-month change metrics\")"
   ]
  },
  {
   "cell_type": "markdown",
   "metadata": {},
   "source": [
    "#### 6.3 Create Department-Level Features"
   ]
  },
  {
   "cell_type": "code",
   "execution_count": 25,
   "metadata": {},
   "outputs": [
    {
     "name": "stdout",
     "output_type": "stream",
     "text": [
      "Department statistics:\n",
      "                       headcount          attritionrate hires terminations\n",
      "                            mean  max min          mean   sum          sum\n",
      "department                                                                \n",
      "Finance                    98.29  184   1           0.0   202           18\n",
      "Human Resources           107.81  209   2           0.0   238           29\n",
      "It Support                104.93  189   4           0.0   214           25\n",
      "Logistics                 105.36  205   2           0.0   215           10\n",
      "Marketing                 103.30  191   1           0.0   212           21\n",
      "Production                100.94  213   2           0.0   238           25\n",
      "Quality Control           111.48  205   3           0.0   230           25\n",
      "Research & Development    112.29  212   6           0.0   232           20\n",
      "Sales                      98.68  204   1           0.0   219           15\n"
     ]
    }
   ],
   "source": [
    "# Calculate department metrics\n",
    "dept_stats = df.groupby('department').agg({\n",
    "    'headcount': ['mean', 'max', 'min'],\n",
    "    'attritionrate': 'mean',\n",
    "    'hires': 'sum',\n",
    "    'terminations': 'sum'\n",
    "}).round(2)\n",
    "print(\"Department statistics:\")\n",
    "print(dept_stats)"
   ]
  },
  {
   "cell_type": "code",
   "execution_count": 26,
   "metadata": {},
   "outputs": [
    {
     "name": "stdout",
     "output_type": "stream",
     "text": [
      "\n",
      "Created 'dept_avg_headcount' feature\n"
     ]
    }
   ],
   "source": [
    "# Add department average headcount\n",
    "df['dept_avg_headcount'] = df.groupby('department')['headcount'].transform('mean').round(0)\n",
    "print(\"\\nCreated 'dept_avg_headcount' feature\")"
   ]
  },
  {
   "cell_type": "markdown",
   "metadata": {},
   "source": [
    "#### 6.4 Create Categorical Features"
   ]
  },
  {
   "cell_type": "code",
   "execution_count": 27,
   "metadata": {},
   "outputs": [
    {
     "name": "stdout",
     "output_type": "stream",
     "text": [
      "Created 'headcount_category' feature\n",
      "\n",
      "Headcount category distribution:\n",
      "headcount_category\n",
      "Small (<20)           82\n",
      "Medium (20-50)       115\n",
      "Large (50-100)       195\n",
      "Very Large (100+)    454\n",
      "Name: count, dtype: int64\n"
     ]
    }
   ],
   "source": [
    "# Create headcount size categories\n",
    "df['headcount_category'] = pd.cut(\n",
    "    df['headcount'],\n",
    "    bins=[0, 20, 50, 100, 500],\n",
    "    labels=['Small (<20)', 'Medium (20-50)', 'Large (50-100)', 'Very Large (100+)']\n",
    ")\n",
    "print(\"Created 'headcount_category' feature\")\n",
    "print(\"\\nHeadcount category distribution:\")\n",
    "print(df['headcount_category'].value_counts().sort_index())"
   ]
  },
  {
   "cell_type": "code",
   "execution_count": 28,
   "metadata": {},
   "outputs": [
    {
     "name": "stdout",
     "output_type": "stream",
     "text": [
      "\n",
      "Created 'attrition_risk' feature\n",
      "\n",
      "Attrition risk distribution:\n",
      "attrition_risk\n",
      "Low (<5%)          159\n",
      "Medium (5-10%)       0\n",
      "High (10-15%)        0\n",
      "Critical (>15%)      0\n",
      "Name: count, dtype: int64\n"
     ]
    }
   ],
   "source": [
    "# Create attrition risk categories\n",
    "df['attrition_risk'] = pd.cut(\n",
    "    df['attritionrate'],\n",
    "    bins=[0, 5, 10, 15, 100],\n",
    "    labels=['Low (<5%)', 'Medium (5-10%)', 'High (10-15%)', 'Critical (>15%)']\n",
    ")\n",
    "print(\"\\nCreated 'attrition_risk' feature\")\n",
    "print(\"\\nAttrition risk distribution:\")\n",
    "print(df['attrition_risk'].value_counts().sort_index())"
   ]
  },
  {
   "cell_type": "markdown",
   "metadata": {},
   "source": [
    "#### 6.5 Create Binary Flags"
   ]
  },
  {
   "cell_type": "code",
   "execution_count": 29,
   "metadata": {},
   "outputs": [
    {
     "name": "stdout",
     "output_type": "stream",
     "text": [
      "Created binary flag features\n"
     ]
    }
   ],
   "source": [
    "# Create flags for analysis\n",
    "df['has_hires'] = (df['hires'] > 0).astype(int)\n",
    "df['has_terminations'] = (df['terminations'] > 0).astype(int)\n",
    "df['is_growing'] = (df['net_change'] > 0).astype(int)\n",
    "df['is_shrinking'] = (df['net_change'] < 0).astype(int)\n",
    "print(\"Created binary flag features\")"
   ]
  },
  {
   "cell_type": "markdown",
   "metadata": {},
   "source": [
    "#### 6.6 Sort Data"
   ]
  },
  {
   "cell_type": "code",
   "execution_count": 30,
   "metadata": {},
   "outputs": [
    {
     "name": "stdout",
     "output_type": "stream",
     "text": [
      "Data sorted by Department and MonthEnd\n"
     ]
    },
    {
     "data": {
      "text/html": [
       "<div>\n",
       "<style scoped>\n",
       "    .dataframe tbody tr th:only-of-type {\n",
       "        vertical-align: middle;\n",
       "    }\n",
       "\n",
       "    .dataframe tbody tr th {\n",
       "        vertical-align: top;\n",
       "    }\n",
       "\n",
       "    .dataframe thead th {\n",
       "        text-align: right;\n",
       "    }\n",
       "</style>\n",
       "<table border=\"1\" class=\"dataframe\">\n",
       "  <thead>\n",
       "    <tr style=\"text-align: right;\">\n",
       "      <th></th>\n",
       "      <th>recordid</th>\n",
       "      <th>monthend</th>\n",
       "      <th>department</th>\n",
       "      <th>headcount</th>\n",
       "      <th>hires</th>\n",
       "      <th>terminations</th>\n",
       "      <th>attritionrate</th>\n",
       "      <th>year</th>\n",
       "      <th>month</th>\n",
       "      <th>quarter</th>\n",
       "      <th>...</th>\n",
       "      <th>terminations_3m_avg</th>\n",
       "      <th>headcount_mom_change</th>\n",
       "      <th>headcount_mom_change_pct</th>\n",
       "      <th>dept_avg_headcount</th>\n",
       "      <th>headcount_category</th>\n",
       "      <th>attrition_risk</th>\n",
       "      <th>has_hires</th>\n",
       "      <th>has_terminations</th>\n",
       "      <th>is_growing</th>\n",
       "      <th>is_shrinking</th>\n",
       "    </tr>\n",
       "  </thead>\n",
       "  <tbody>\n",
       "    <tr>\n",
       "      <th>0</th>\n",
       "      <td>HC-5</td>\n",
       "      <td>2018-01-30</td>\n",
       "      <td>Finance</td>\n",
       "      <td>1</td>\n",
       "      <td>1</td>\n",
       "      <td>0</td>\n",
       "      <td>0.0</td>\n",
       "      <td>2018</td>\n",
       "      <td>1</td>\n",
       "      <td>1</td>\n",
       "      <td>...</td>\n",
       "      <td>0.0</td>\n",
       "      <td>NaN</td>\n",
       "      <td>NaN</td>\n",
       "      <td>98.0</td>\n",
       "      <td>Small (&lt;20)</td>\n",
       "      <td>NaN</td>\n",
       "      <td>1</td>\n",
       "      <td>0</td>\n",
       "      <td>1</td>\n",
       "      <td>0</td>\n",
       "    </tr>\n",
       "    <tr>\n",
       "      <th>1</th>\n",
       "      <td>HC-14</td>\n",
       "      <td>2018-02-27</td>\n",
       "      <td>Finance</td>\n",
       "      <td>2</td>\n",
       "      <td>1</td>\n",
       "      <td>0</td>\n",
       "      <td>0.0</td>\n",
       "      <td>2018</td>\n",
       "      <td>2</td>\n",
       "      <td>1</td>\n",
       "      <td>...</td>\n",
       "      <td>0.0</td>\n",
       "      <td>1.0</td>\n",
       "      <td>100.00</td>\n",
       "      <td>98.0</td>\n",
       "      <td>Small (&lt;20)</td>\n",
       "      <td>NaN</td>\n",
       "      <td>1</td>\n",
       "      <td>0</td>\n",
       "      <td>1</td>\n",
       "      <td>0</td>\n",
       "    </tr>\n",
       "    <tr>\n",
       "      <th>2</th>\n",
       "      <td>HC-23</td>\n",
       "      <td>2018-03-30</td>\n",
       "      <td>Finance</td>\n",
       "      <td>9</td>\n",
       "      <td>7</td>\n",
       "      <td>0</td>\n",
       "      <td>0.0</td>\n",
       "      <td>2018</td>\n",
       "      <td>3</td>\n",
       "      <td>1</td>\n",
       "      <td>...</td>\n",
       "      <td>0.0</td>\n",
       "      <td>7.0</td>\n",
       "      <td>350.00</td>\n",
       "      <td>98.0</td>\n",
       "      <td>Small (&lt;20)</td>\n",
       "      <td>NaN</td>\n",
       "      <td>1</td>\n",
       "      <td>0</td>\n",
       "      <td>1</td>\n",
       "      <td>0</td>\n",
       "    </tr>\n",
       "    <tr>\n",
       "      <th>3</th>\n",
       "      <td>HC-32</td>\n",
       "      <td>2018-04-29</td>\n",
       "      <td>Finance</td>\n",
       "      <td>11</td>\n",
       "      <td>2</td>\n",
       "      <td>0</td>\n",
       "      <td>0.0</td>\n",
       "      <td>2018</td>\n",
       "      <td>4</td>\n",
       "      <td>2</td>\n",
       "      <td>...</td>\n",
       "      <td>0.0</td>\n",
       "      <td>2.0</td>\n",
       "      <td>22.22</td>\n",
       "      <td>98.0</td>\n",
       "      <td>Small (&lt;20)</td>\n",
       "      <td>NaN</td>\n",
       "      <td>1</td>\n",
       "      <td>0</td>\n",
       "      <td>1</td>\n",
       "      <td>0</td>\n",
       "    </tr>\n",
       "    <tr>\n",
       "      <th>4</th>\n",
       "      <td>HC-41</td>\n",
       "      <td>2018-05-30</td>\n",
       "      <td>Finance</td>\n",
       "      <td>15</td>\n",
       "      <td>4</td>\n",
       "      <td>0</td>\n",
       "      <td>0.0</td>\n",
       "      <td>2018</td>\n",
       "      <td>5</td>\n",
       "      <td>2</td>\n",
       "      <td>...</td>\n",
       "      <td>0.0</td>\n",
       "      <td>4.0</td>\n",
       "      <td>36.36</td>\n",
       "      <td>98.0</td>\n",
       "      <td>Small (&lt;20)</td>\n",
       "      <td>NaN</td>\n",
       "      <td>1</td>\n",
       "      <td>0</td>\n",
       "      <td>1</td>\n",
       "      <td>0</td>\n",
       "    </tr>\n",
       "    <tr>\n",
       "      <th>5</th>\n",
       "      <td>HC-50</td>\n",
       "      <td>2018-06-29</td>\n",
       "      <td>Finance</td>\n",
       "      <td>18</td>\n",
       "      <td>3</td>\n",
       "      <td>0</td>\n",
       "      <td>0.0</td>\n",
       "      <td>2018</td>\n",
       "      <td>6</td>\n",
       "      <td>2</td>\n",
       "      <td>...</td>\n",
       "      <td>0.0</td>\n",
       "      <td>3.0</td>\n",
       "      <td>20.00</td>\n",
       "      <td>98.0</td>\n",
       "      <td>Small (&lt;20)</td>\n",
       "      <td>NaN</td>\n",
       "      <td>1</td>\n",
       "      <td>0</td>\n",
       "      <td>1</td>\n",
       "      <td>0</td>\n",
       "    </tr>\n",
       "    <tr>\n",
       "      <th>6</th>\n",
       "      <td>HC-59</td>\n",
       "      <td>2018-07-30</td>\n",
       "      <td>Finance</td>\n",
       "      <td>20</td>\n",
       "      <td>2</td>\n",
       "      <td>0</td>\n",
       "      <td>0.0</td>\n",
       "      <td>2018</td>\n",
       "      <td>7</td>\n",
       "      <td>3</td>\n",
       "      <td>...</td>\n",
       "      <td>0.0</td>\n",
       "      <td>2.0</td>\n",
       "      <td>11.11</td>\n",
       "      <td>98.0</td>\n",
       "      <td>Small (&lt;20)</td>\n",
       "      <td>NaN</td>\n",
       "      <td>1</td>\n",
       "      <td>0</td>\n",
       "      <td>1</td>\n",
       "      <td>0</td>\n",
       "    </tr>\n",
       "    <tr>\n",
       "      <th>7</th>\n",
       "      <td>HC-68</td>\n",
       "      <td>2018-08-30</td>\n",
       "      <td>Finance</td>\n",
       "      <td>21</td>\n",
       "      <td>1</td>\n",
       "      <td>0</td>\n",
       "      <td>0.0</td>\n",
       "      <td>2018</td>\n",
       "      <td>8</td>\n",
       "      <td>3</td>\n",
       "      <td>...</td>\n",
       "      <td>0.0</td>\n",
       "      <td>1.0</td>\n",
       "      <td>5.00</td>\n",
       "      <td>98.0</td>\n",
       "      <td>Medium (20-50)</td>\n",
       "      <td>NaN</td>\n",
       "      <td>1</td>\n",
       "      <td>0</td>\n",
       "      <td>1</td>\n",
       "      <td>0</td>\n",
       "    </tr>\n",
       "    <tr>\n",
       "      <th>8</th>\n",
       "      <td>HC-77</td>\n",
       "      <td>2018-09-29</td>\n",
       "      <td>Finance</td>\n",
       "      <td>21</td>\n",
       "      <td>0</td>\n",
       "      <td>0</td>\n",
       "      <td>0.0</td>\n",
       "      <td>2018</td>\n",
       "      <td>9</td>\n",
       "      <td>3</td>\n",
       "      <td>...</td>\n",
       "      <td>0.0</td>\n",
       "      <td>0.0</td>\n",
       "      <td>0.00</td>\n",
       "      <td>98.0</td>\n",
       "      <td>Medium (20-50)</td>\n",
       "      <td>NaN</td>\n",
       "      <td>0</td>\n",
       "      <td>0</td>\n",
       "      <td>0</td>\n",
       "      <td>0</td>\n",
       "    </tr>\n",
       "    <tr>\n",
       "      <th>9</th>\n",
       "      <td>HC-86</td>\n",
       "      <td>2018-10-30</td>\n",
       "      <td>Finance</td>\n",
       "      <td>24</td>\n",
       "      <td>3</td>\n",
       "      <td>0</td>\n",
       "      <td>0.0</td>\n",
       "      <td>2018</td>\n",
       "      <td>10</td>\n",
       "      <td>4</td>\n",
       "      <td>...</td>\n",
       "      <td>0.0</td>\n",
       "      <td>3.0</td>\n",
       "      <td>14.29</td>\n",
       "      <td>98.0</td>\n",
       "      <td>Medium (20-50)</td>\n",
       "      <td>NaN</td>\n",
       "      <td>1</td>\n",
       "      <td>0</td>\n",
       "      <td>1</td>\n",
       "      <td>0</td>\n",
       "    </tr>\n",
       "  </tbody>\n",
       "</table>\n",
       "<p>10 rows × 27 columns</p>\n",
       "</div>"
      ],
      "text/plain": [
       "  recordid   monthend department  headcount  hires  terminations  \\\n",
       "0     HC-5 2018-01-30    Finance          1      1             0   \n",
       "1    HC-14 2018-02-27    Finance          2      1             0   \n",
       "2    HC-23 2018-03-30    Finance          9      7             0   \n",
       "3    HC-32 2018-04-29    Finance         11      2             0   \n",
       "4    HC-41 2018-05-30    Finance         15      4             0   \n",
       "5    HC-50 2018-06-29    Finance         18      3             0   \n",
       "6    HC-59 2018-07-30    Finance         20      2             0   \n",
       "7    HC-68 2018-08-30    Finance         21      1             0   \n",
       "8    HC-77 2018-09-29    Finance         21      0             0   \n",
       "9    HC-86 2018-10-30    Finance         24      3             0   \n",
       "\n",
       "   attritionrate  year  month  quarter  ... terminations_3m_avg  \\\n",
       "0            0.0  2018      1        1  ...                 0.0   \n",
       "1            0.0  2018      2        1  ...                 0.0   \n",
       "2            0.0  2018      3        1  ...                 0.0   \n",
       "3            0.0  2018      4        2  ...                 0.0   \n",
       "4            0.0  2018      5        2  ...                 0.0   \n",
       "5            0.0  2018      6        2  ...                 0.0   \n",
       "6            0.0  2018      7        3  ...                 0.0   \n",
       "7            0.0  2018      8        3  ...                 0.0   \n",
       "8            0.0  2018      9        3  ...                 0.0   \n",
       "9            0.0  2018     10        4  ...                 0.0   \n",
       "\n",
       "   headcount_mom_change  headcount_mom_change_pct  dept_avg_headcount  \\\n",
       "0                   NaN                       NaN                98.0   \n",
       "1                   1.0                    100.00                98.0   \n",
       "2                   7.0                    350.00                98.0   \n",
       "3                   2.0                     22.22                98.0   \n",
       "4                   4.0                     36.36                98.0   \n",
       "5                   3.0                     20.00                98.0   \n",
       "6                   2.0                     11.11                98.0   \n",
       "7                   1.0                      5.00                98.0   \n",
       "8                   0.0                      0.00                98.0   \n",
       "9                   3.0                     14.29                98.0   \n",
       "\n",
       "   headcount_category  attrition_risk  has_hires  has_terminations  \\\n",
       "0         Small (<20)             NaN          1                 0   \n",
       "1         Small (<20)             NaN          1                 0   \n",
       "2         Small (<20)             NaN          1                 0   \n",
       "3         Small (<20)             NaN          1                 0   \n",
       "4         Small (<20)             NaN          1                 0   \n",
       "5         Small (<20)             NaN          1                 0   \n",
       "6         Small (<20)             NaN          1                 0   \n",
       "7      Medium (20-50)             NaN          1                 0   \n",
       "8      Medium (20-50)             NaN          0                 0   \n",
       "9      Medium (20-50)             NaN          1                 0   \n",
       "\n",
       "   is_growing  is_shrinking  \n",
       "0           1             0  \n",
       "1           1             0  \n",
       "2           1             0  \n",
       "3           1             0  \n",
       "4           1             0  \n",
       "5           1             0  \n",
       "6           1             0  \n",
       "7           1             0  \n",
       "8           0             0  \n",
       "9           1             0  \n",
       "\n",
       "[10 rows x 27 columns]"
      ]
     },
     "execution_count": 30,
     "metadata": {},
     "output_type": "execute_result"
    }
   ],
   "source": [
    "# Sort by Department and MonthEnd\n",
    "df = df.sort_values(['department', 'monthend']).reset_index(drop=True)\n",
    "print(\"Data sorted by Department and MonthEnd\")\n",
    "df.head(10)"
   ]
  },
  {
   "cell_type": "markdown",
   "metadata": {},
   "source": [
    "#### 6.7 Final Data Quality Check"
   ]
  },
  {
   "cell_type": "code",
   "execution_count": 31,
   "metadata": {},
   "outputs": [
    {
     "name": "stdout",
     "output_type": "stream",
     "text": [
      "============================================================\n",
      "FINAL DATA QUALITY SUMMARY\n",
      "============================================================\n",
      "\n",
      "Final shape: (846, 27)\n",
      "\n",
      "Columns: ['recordid', 'monthend', 'department', 'headcount', 'hires', 'terminations', 'attritionrate', 'year', 'month', 'quarter', 'month_name', 'net_change', 'growth_rate', 'turnover_rate', 'hire_rate', 'headcount_3m_avg', 'hires_3m_avg', 'terminations_3m_avg', 'headcount_mom_change', 'headcount_mom_change_pct', 'dept_avg_headcount', 'headcount_category', 'attrition_risk', 'has_hires', 'has_terminations', 'is_growing', 'is_shrinking']\n",
      "\n",
      "Missing values:\n",
      "recordid                      0\n",
      "monthend                      0\n",
      "department                    0\n",
      "headcount                     0\n",
      "hires                         0\n",
      "terminations                  0\n",
      "attritionrate                 0\n",
      "year                          0\n",
      "month                         0\n",
      "quarter                       0\n",
      "month_name                    0\n",
      "net_change                    0\n",
      "growth_rate                   0\n",
      "turnover_rate                 0\n",
      "hire_rate                     0\n",
      "headcount_3m_avg              0\n",
      "hires_3m_avg                  0\n",
      "terminations_3m_avg           0\n",
      "headcount_mom_change          9\n",
      "headcount_mom_change_pct      9\n",
      "dept_avg_headcount            0\n",
      "headcount_category            0\n",
      "attrition_risk              687\n",
      "has_hires                     0\n",
      "has_terminations              0\n",
      "is_growing                    0\n",
      "is_shrinking                  0\n",
      "dtype: int64\n",
      "\n",
      "Duplicates: 0\n"
     ]
    }
   ],
   "source": [
    "# Final summary\n",
    "print(\"=\" * 60)\n",
    "print(\"FINAL DATA QUALITY SUMMARY\")\n",
    "print(\"=\" * 60)\n",
    "print(f\"\\nFinal shape: {df.shape}\")\n",
    "print(f\"\\nColumns: {list(df.columns)}\")\n",
    "print(f\"\\nMissing values:\")\n",
    "print(df.isnull().sum())\n",
    "print(f\"\\nDuplicates: {df.duplicated().sum()}\")"
   ]
  },
  {
   "cell_type": "markdown",
   "metadata": {},
   "source": [
    "### Save Cleaned Data"
   ]
  },
  {
   "cell_type": "code",
   "execution_count": 32,
   "metadata": {},
   "outputs": [
    {
     "name": "stdout",
     "output_type": "stream",
     "text": [
      "Cleaned data saved to: ../data/processed/Headcount_cleaned.csv\n",
      "Total records: 846\n"
     ]
    }
   ],
   "source": [
    "# Save to processed folder\n",
    "output_path = '../data/processed/Headcount_cleaned.csv'\n",
    "df.to_csv(output_path, index=False)\n",
    "print(f\"Cleaned data saved to: {output_path}\")\n",
    "print(f\"Total records: {len(df)}\")"
   ]
  },
  {
   "cell_type": "markdown",
   "metadata": {},
   "source": [
    "---\n",
    "## Summary\n",
    "\n",
    "### Data Cleaning & Feature Engineering Completed!\n",
    "\n",
    "**Steps Performed:**\n",
    "1. ✅ Checked for redundant columns\n",
    "2. ✅ Renamed columns to snake_case\n",
    "3. ✅ Removed duplicates\n",
    "4. ✅ Handled missing values\n",
    "5. ✅ Cleaned all columns:\n",
    "   - RecordID, MonthEnd (datetime)\n",
    "   - Department (standardized)\n",
    "   - Numeric columns validated\n",
    "6. ✅ **Feature Engineering:**\n",
    "   - **Calculated metrics**: net_change, growth_rate, turnover_rate, hire_rate\n",
    "   - **Time-based**: rolling averages, month-over-month changes\n",
    "   - **Department-level**: average headcount\n",
    "   - **Categories**: headcount size, attrition risk\n",
    "   - **Binary flags**: has_hires, has_terminations, is_growing, is_shrinking\n",
    "\n",
    "**Feature Summary:**\n",
    "- Original columns: 7\n",
    "- Final columns: 30+\n",
    "- New features: 23+"
   ]
  }
 ],
 "metadata": {
  "kernelspec": {
   "display_name": "base",
   "language": "python",
   "name": "python3"
  },
  "language_info": {
   "codemirror_mode": {
    "name": "ipython",
    "version": 3
   },
   "file_extension": ".py",
   "mimetype": "text/x-python",
   "name": "python",
   "nbconvert_exporter": "python",
   "pygments_lexer": "ipython3",
   "version": "3.12.7"
  }
 },
 "nbformat": 4,
 "nbformat_minor": 4
}
