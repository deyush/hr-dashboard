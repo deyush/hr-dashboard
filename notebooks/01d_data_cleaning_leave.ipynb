{
 "cells": [
  {
   "cell_type": "markdown",
   "metadata": {},
   "source": [
    "# HR Dashboard - Data Cleaning\n",
    "## Leave & Attendance Dataset\n",
    "\n",
    "This notebook performs data cleaning, wrangling, and feature engineering on the Leave_Attendance dataset."
   ]
  },
  {
   "cell_type": "markdown",
   "metadata": {},
   "source": [
    "### Import Libraries"
   ]
  },
  {
   "cell_type": "code",
   "execution_count": 1,
   "metadata": {},
   "outputs": [],
   "source": [
    "import pandas as pd\n",
    "import numpy as np\n",
    "import matplotlib.pyplot as plt\n",
    "import warnings\n",
    "warnings.filterwarnings('ignore')"
   ]
  },
  {
   "cell_type": "markdown",
   "metadata": {},
   "source": [
    "### Load Raw Data"
   ]
  },
  {
   "cell_type": "code",
   "execution_count": 2,
   "metadata": {},
   "outputs": [
    {
     "name": "stdout",
     "output_type": "stream",
     "text": [
      "Original dataset shape: (10000, 6)\n"
     ]
    },
    {
     "data": {
      "text/html": [
       "<div>\n",
       "<style scoped>\n",
       "    .dataframe tbody tr th:only-of-type {\n",
       "        vertical-align: middle;\n",
       "    }\n",
       "\n",
       "    .dataframe tbody tr th {\n",
       "        vertical-align: top;\n",
       "    }\n",
       "\n",
       "    .dataframe thead th {\n",
       "        text-align: right;\n",
       "    }\n",
       "</style>\n",
       "<table border=\"1\" class=\"dataframe\">\n",
       "  <thead>\n",
       "    <tr style=\"text-align: right;\">\n",
       "      <th></th>\n",
       "      <th>LeaveID</th>\n",
       "      <th>EmployeeID</th>\n",
       "      <th>LeaveType</th>\n",
       "      <th>StartDate</th>\n",
       "      <th>EndDate</th>\n",
       "      <th>Days</th>\n",
       "    </tr>\n",
       "  </thead>\n",
       "  <tbody>\n",
       "    <tr>\n",
       "      <th>0</th>\n",
       "      <td>LEAVE-1</td>\n",
       "      <td>PNR-1001</td>\n",
       "      <td>Maternity/Paternity</td>\n",
       "      <td>2021-08-05</td>\n",
       "      <td>2021-08-07</td>\n",
       "      <td>3.0</td>\n",
       "    </tr>\n",
       "    <tr>\n",
       "      <th>1</th>\n",
       "      <td>LEAVE-2</td>\n",
       "      <td>PNR-1001</td>\n",
       "      <td>Vacation</td>\n",
       "      <td>2022-07-20</td>\n",
       "      <td>2022-07-22</td>\n",
       "      <td>3.0</td>\n",
       "    </tr>\n",
       "    <tr>\n",
       "      <th>2</th>\n",
       "      <td>LEAVE-3</td>\n",
       "      <td>PNR-1001</td>\n",
       "      <td>Personal Leave</td>\n",
       "      <td>2018-09-22</td>\n",
       "      <td>2018-10-01</td>\n",
       "      <td>10.0</td>\n",
       "    </tr>\n",
       "    <tr>\n",
       "      <th>3</th>\n",
       "      <td>LEAVE-3</td>\n",
       "      <td>PNR-1001</td>\n",
       "      <td>Personal Leave</td>\n",
       "      <td>2018-09-22</td>\n",
       "      <td>2018-10-01</td>\n",
       "      <td>10.0</td>\n",
       "    </tr>\n",
       "    <tr>\n",
       "      <th>4</th>\n",
       "      <td>LEAVE-5</td>\n",
       "      <td>PNR-1001</td>\n",
       "      <td>Sick Leave</td>\n",
       "      <td>2022-03-16</td>\n",
       "      <td>2022-03-16</td>\n",
       "      <td>1.0</td>\n",
       "    </tr>\n",
       "    <tr>\n",
       "      <th>5</th>\n",
       "      <td>LEAVE-6</td>\n",
       "      <td>PNR-1002</td>\n",
       "      <td>Sick Leave</td>\n",
       "      <td>2023-12-02</td>\n",
       "      <td>2023-12-06</td>\n",
       "      <td>5.0</td>\n",
       "    </tr>\n",
       "    <tr>\n",
       "      <th>6</th>\n",
       "      <td>LEAVE-7</td>\n",
       "      <td>PNR-1002</td>\n",
       "      <td>Personal Leave</td>\n",
       "      <td>2018-01-30</td>\n",
       "      <td>2018-02-03</td>\n",
       "      <td>5.0</td>\n",
       "    </tr>\n",
       "    <tr>\n",
       "      <th>7</th>\n",
       "      <td>LEAVE-8</td>\n",
       "      <td>PNR-1002</td>\n",
       "      <td>Maternity/Paternity</td>\n",
       "      <td>2023-04-19</td>\n",
       "      <td>2023-04-20</td>\n",
       "      <td>2.0</td>\n",
       "    </tr>\n",
       "    <tr>\n",
       "      <th>8</th>\n",
       "      <td>LEAVE-9</td>\n",
       "      <td>PNR-1002</td>\n",
       "      <td>Personal Leave</td>\n",
       "      <td>2022-04-21</td>\n",
       "      <td>2022-04-22</td>\n",
       "      <td>2.0</td>\n",
       "    </tr>\n",
       "    <tr>\n",
       "      <th>9</th>\n",
       "      <td>LEAVE-10</td>\n",
       "      <td>PNR-1002</td>\n",
       "      <td>Sick Leave</td>\n",
       "      <td>2020-03-07</td>\n",
       "      <td>2020-03-07</td>\n",
       "      <td>1.0</td>\n",
       "    </tr>\n",
       "  </tbody>\n",
       "</table>\n",
       "</div>"
      ],
      "text/plain": [
       "    LeaveID EmployeeID            LeaveType     StartDate     EndDate  Days\n",
       "0   LEAVE-1   PNR-1001  Maternity/Paternity    2021-08-05  2021-08-07   3.0\n",
       "1   LEAVE-2   PNR-1001             Vacation    2022-07-20  2022-07-22   3.0\n",
       "2   LEAVE-3   PNR-1001       Personal Leave    2018-09-22  2018-10-01  10.0\n",
       "3   LEAVE-3   PNR-1001       Personal Leave    2018-09-22  2018-10-01  10.0\n",
       "4   LEAVE-5   PNR-1001           Sick Leave    2022-03-16  2022-03-16   1.0\n",
       "5   LEAVE-6   PNR-1002           Sick Leave    2023-12-02  2023-12-06   5.0\n",
       "6   LEAVE-7   PNR-1002       Personal Leave   2018-01-30   2018-02-03   5.0\n",
       "7   LEAVE-8   PNR-1002  Maternity/Paternity    2023-04-19  2023-04-20   2.0\n",
       "8   LEAVE-9   PNR-1002       Personal Leave    2022-04-21  2022-04-22   2.0\n",
       "9  LEAVE-10   PNR-1002           Sick Leave   2020-03-07   2020-03-07   1.0"
      ]
     },
     "execution_count": 2,
     "metadata": {},
     "output_type": "execute_result"
    }
   ],
   "source": [
    "# Load the Leave & Attendance dataset\n",
    "df = pd.read_csv('../data/raw/Leave_Attendance.csv')\n",
    "print(f\"Original dataset shape: {df.shape}\")\n",
    "df.head(10)"
   ]
  },
  {
   "cell_type": "markdown",
   "metadata": {},
   "source": [
    "### Initial Data Exploration"
   ]
  },
  {
   "cell_type": "code",
   "execution_count": 3,
   "metadata": {},
   "outputs": [
    {
     "name": "stdout",
     "output_type": "stream",
     "text": [
      "Dataset Info:\n",
      "<class 'pandas.core.frame.DataFrame'>\n",
      "RangeIndex: 10000 entries, 0 to 9999\n",
      "Data columns (total 6 columns):\n",
      " #   Column      Non-Null Count  Dtype  \n",
      "---  ------      --------------  -----  \n",
      " 0   LeaveID     9659 non-null   object \n",
      " 1   EmployeeID  9632 non-null   object \n",
      " 2   LeaveType   9627 non-null   object \n",
      " 3   StartDate   9637 non-null   object \n",
      " 4   EndDate     9601 non-null   object \n",
      " 5   Days        9718 non-null   float64\n",
      "dtypes: float64(1), object(5)\n",
      "memory usage: 468.9+ KB\n",
      "\n",
      "==================================================\n",
      "\n",
      "Basic Statistics:\n"
     ]
    },
    {
     "data": {
      "text/html": [
       "<div>\n",
       "<style scoped>\n",
       "    .dataframe tbody tr th:only-of-type {\n",
       "        vertical-align: middle;\n",
       "    }\n",
       "\n",
       "    .dataframe tbody tr th {\n",
       "        vertical-align: top;\n",
       "    }\n",
       "\n",
       "    .dataframe thead th {\n",
       "        text-align: right;\n",
       "    }\n",
       "</style>\n",
       "<table border=\"1\" class=\"dataframe\">\n",
       "  <thead>\n",
       "    <tr style=\"text-align: right;\">\n",
       "      <th></th>\n",
       "      <th>Days</th>\n",
       "    </tr>\n",
       "  </thead>\n",
       "  <tbody>\n",
       "    <tr>\n",
       "      <th>count</th>\n",
       "      <td>9718.000000</td>\n",
       "    </tr>\n",
       "    <tr>\n",
       "      <th>mean</th>\n",
       "      <td>4.177403</td>\n",
       "    </tr>\n",
       "    <tr>\n",
       "      <th>std</th>\n",
       "      <td>3.182814</td>\n",
       "    </tr>\n",
       "    <tr>\n",
       "      <th>min</th>\n",
       "      <td>1.000000</td>\n",
       "    </tr>\n",
       "    <tr>\n",
       "      <th>25%</th>\n",
       "      <td>2.000000</td>\n",
       "    </tr>\n",
       "    <tr>\n",
       "      <th>50%</th>\n",
       "      <td>3.000000</td>\n",
       "    </tr>\n",
       "    <tr>\n",
       "      <th>75%</th>\n",
       "      <td>5.000000</td>\n",
       "    </tr>\n",
       "    <tr>\n",
       "      <th>max</th>\n",
       "      <td>10.000000</td>\n",
       "    </tr>\n",
       "  </tbody>\n",
       "</table>\n",
       "</div>"
      ],
      "text/plain": [
       "              Days\n",
       "count  9718.000000\n",
       "mean      4.177403\n",
       "std       3.182814\n",
       "min       1.000000\n",
       "25%       2.000000\n",
       "50%       3.000000\n",
       "75%       5.000000\n",
       "max      10.000000"
      ]
     },
     "execution_count": 3,
     "metadata": {},
     "output_type": "execute_result"
    }
   ],
   "source": [
    "# Display basic information\n",
    "print(\"Dataset Info:\")\n",
    "df.info()\n",
    "print(\"\\n\" + \"=\"*50)\n",
    "print(\"\\nBasic Statistics:\")\n",
    "df.describe()"
   ]
  },
  {
   "cell_type": "code",
   "execution_count": 4,
   "metadata": {},
   "outputs": [
    {
     "name": "stdout",
     "output_type": "stream",
     "text": [
      "Missing Values:\n",
      "            Missing_Count  Percentage\n",
      "LeaveID               341        3.41\n",
      "EmployeeID            368        3.68\n",
      "LeaveType             373        3.73\n",
      "StartDate             363        3.63\n",
      "EndDate               399        3.99\n",
      "Days                  282        2.82\n"
     ]
    }
   ],
   "source": [
    "# Check for missing values\n",
    "print(\"Missing Values:\")\n",
    "missing = df.isnull().sum()\n",
    "missing_percent = (df.isnull().sum() / len(df)) * 100\n",
    "missing_df = pd.DataFrame({'Missing_Count': missing, 'Percentage': missing_percent})\n",
    "print(missing_df)"
   ]
  },
  {
   "cell_type": "code",
   "execution_count": 5,
   "metadata": {},
   "outputs": [
    {
     "name": "stdout",
     "output_type": "stream",
     "text": [
      "Total duplicate rows: 300\n"
     ]
    }
   ],
   "source": [
    "# Check for duplicates\n",
    "print(f\"Total duplicate rows: {df.duplicated().sum()}\")"
   ]
  },
  {
   "cell_type": "markdown",
   "metadata": {},
   "source": [
    "---\n",
    "## Data Cleaning Steps"
   ]
  },
  {
   "cell_type": "markdown",
   "metadata": {},
   "source": [
    "### Step 1: Delete Redundant Columns"
   ]
  },
  {
   "cell_type": "code",
   "execution_count": 6,
   "metadata": {},
   "outputs": [
    {
     "name": "stdout",
     "output_type": "stream",
     "text": [
      "All columns are relevant for analysis.\n",
      "Columns: ['LeaveID', 'EmployeeID', 'LeaveType', 'StartDate', 'EndDate', 'Days']\n"
     ]
    }
   ],
   "source": [
    "# Check for redundant columns\n",
    "print(\"All columns are relevant for analysis.\")\n",
    "print(f\"Columns: {list(df.columns)}\")"
   ]
  },
  {
   "cell_type": "markdown",
   "metadata": {},
   "source": [
    "### Step 2: Drop / Rename the Columns"
   ]
  },
  {
   "cell_type": "code",
   "execution_count": 7,
   "metadata": {},
   "outputs": [
    {
     "name": "stdout",
     "output_type": "stream",
     "text": [
      "Renamed columns:\n",
      "['leaveid', 'employeeid', 'leavetype', 'startdate', 'enddate', 'days']\n"
     ]
    }
   ],
   "source": [
    "# Rename columns for consistency (snake_case)\n",
    "df.columns = df.columns.str.lower().str.replace(' ', '_')\n",
    "print(\"Renamed columns:\")\n",
    "print(list(df.columns))"
   ]
  },
  {
   "cell_type": "markdown",
   "metadata": {},
   "source": [
    "### Step 3: Remove Duplicates"
   ]
  },
  {
   "cell_type": "code",
   "execution_count": 8,
   "metadata": {},
   "outputs": [
    {
     "name": "stdout",
     "output_type": "stream",
     "text": [
      "Rows before removing duplicates: 10000\n",
      "Rows after removing duplicates: 9700\n"
     ]
    }
   ],
   "source": [
    "# Remove duplicate rows\n",
    "print(f\"Rows before removing duplicates: {len(df)}\")\n",
    "df = df.drop_duplicates()\n",
    "print(f\"Rows after removing duplicates: {len(df)}\")"
   ]
  },
  {
   "cell_type": "markdown",
   "metadata": {},
   "source": [
    "### Step 4: Remove the NaN Values from the Dataset"
   ]
  },
  {
   "cell_type": "code",
   "execution_count": 9,
   "metadata": {},
   "outputs": [
    {
     "name": "stdout",
     "output_type": "stream",
     "text": [
      "Missing values before cleaning:\n",
      "leaveid       341\n",
      "employeeid    368\n",
      "leavetype     373\n",
      "startdate     363\n",
      "enddate       399\n",
      "days          282\n",
      "dtype: int64\n",
      "\n",
      "Total rows: 9700\n"
     ]
    }
   ],
   "source": [
    "# Check missing values before cleaning\n",
    "print(\"Missing values before cleaning:\")\n",
    "print(df.isnull().sum())\n",
    "print(f\"\\nTotal rows: {len(df)}\")"
   ]
  },
  {
   "cell_type": "code",
   "execution_count": 10,
   "metadata": {},
   "outputs": [
    {
     "name": "stdout",
     "output_type": "stream",
     "text": [
      "Rows after removing missing critical fields: 8608\n"
     ]
    }
   ],
   "source": [
    "# Remove rows where critical columns are missing\n",
    "df = df.dropna(subset=['employeeid', 'startdate', 'enddate'])\n",
    "print(f\"Rows after removing missing critical fields: {len(df)}\")"
   ]
  },
  {
   "cell_type": "code",
   "execution_count": 11,
   "metadata": {},
   "outputs": [
    {
     "name": "stdout",
     "output_type": "stream",
     "text": [
      "\n",
      "Missing values after cleaning:\n",
      "leaveid       297\n",
      "employeeid      0\n",
      "leavetype       0\n",
      "startdate       0\n",
      "enddate         0\n",
      "days          260\n",
      "dtype: int64\n"
     ]
    }
   ],
   "source": [
    "# Fill missing LeaveType with 'Unknown'\n",
    "df['leavetype'] = df['leavetype'].fillna('Unknown')\n",
    "print(\"\\nMissing values after cleaning:\")\n",
    "print(df.isnull().sum())"
   ]
  },
  {
   "cell_type": "markdown",
   "metadata": {},
   "source": [
    "### Step 5: Clean Individual Columns"
   ]
  },
  {
   "cell_type": "markdown",
   "metadata": {},
   "source": [
    "#### 5.1 Clean LeaveID Column"
   ]
  },
  {
   "cell_type": "code",
   "execution_count": 12,
   "metadata": {},
   "outputs": [
    {
     "name": "stdout",
     "output_type": "stream",
     "text": [
      "Sample LeaveID values:\n",
      "0        LEAVE-1\n",
      "1        LEAVE-2\n",
      "2        LEAVE-3\n",
      "4        LEAVE-5\n",
      "5        LEAVE-6\n",
      "6        LEAVE-7\n",
      "7        LEAVE-8\n",
      "8        LEAVE-9\n",
      "9       LEAVE-10\n",
      "10      LEAVE-11\n",
      "11     LEAVE-12 \n",
      "12      LEAVE-13\n",
      "13      LEAVE-14\n",
      "14      LEAVE-15\n",
      "15      LEAVE-16\n",
      "16      LEAVE-17\n",
      "17      LEAVE-18\n",
      "19      LEAVE-20\n",
      "20      LEAVE-21\n",
      "22           NaN\n",
      "Name: leaveid, dtype: object\n",
      "\n",
      "Missing LeaveID: 297\n"
     ]
    }
   ],
   "source": [
    "# Check LeaveID\n",
    "print(\"Sample LeaveID values:\")\n",
    "print(df['leaveid'].head(20))\n",
    "print(f\"\\nMissing LeaveID: {df['leaveid'].isnull().sum()}\")"
   ]
  },
  {
   "cell_type": "code",
   "execution_count": 13,
   "metadata": {},
   "outputs": [
    {
     "name": "stdout",
     "output_type": "stream",
     "text": [
      "Generated 297 new LeaveIDs\n"
     ]
    }
   ],
   "source": [
    "# Generate missing LeaveIDs\n",
    "existing_ids = df['leaveid'].dropna()\n",
    "max_id = existing_ids.str.extract(r'(\\d+)')[0].astype(float).max()\n",
    "missing_count = df['leaveid'].isnull().sum()\n",
    "if missing_count > 0:\n",
    "    new_ids = [f\"LEAVE-{int(max_id) + i + 1}\" for i in range(missing_count)]\n",
    "    df.loc[df['leaveid'].isnull(), 'leaveid'] = new_ids\n",
    "print(f\"Generated {missing_count} new LeaveIDs\")"
   ]
  },
  {
   "cell_type": "markdown",
   "metadata": {},
   "source": [
    "#### 5.2 Clean EmployeeID Column"
   ]
  },
  {
   "cell_type": "code",
   "execution_count": 14,
   "metadata": {},
   "outputs": [
    {
     "name": "stdout",
     "output_type": "stream",
     "text": [
      "EmployeeID cleaned\n",
      "Unique employees: 2000\n"
     ]
    }
   ],
   "source": [
    "# Clean EmployeeID\n",
    "df['employeeid'] = df['employeeid'].str.strip()\n",
    "print(\"EmployeeID cleaned\")\n",
    "print(f\"Unique employees: {df['employeeid'].nunique()}\")"
   ]
  },
  {
   "cell_type": "markdown",
   "metadata": {},
   "source": [
    "#### 5.3 Clean LeaveType Column"
   ]
  },
  {
   "cell_type": "code",
   "execution_count": 15,
   "metadata": {},
   "outputs": [
    {
     "name": "stdout",
     "output_type": "stream",
     "text": [
      "LeaveType value counts (before):\n",
      "leavetype\n",
      "Vacation                 2027\n",
      "Personal Leave           1978\n",
      "Sick Leave               1940\n",
      "Maternity/Paternity      1897\n",
      "Unknown                   332\n",
      " Maternity/Paternity      113\n",
      " Personal Leave           110\n",
      " Vacation                 107\n",
      " Sick Leave               104\n",
      "Name: count, dtype: int64\n"
     ]
    }
   ],
   "source": [
    "# Check LeaveType values\n",
    "print(\"LeaveType value counts (before):\")\n",
    "print(df['leavetype'].value_counts())"
   ]
  },
  {
   "cell_type": "code",
   "execution_count": 16,
   "metadata": {},
   "outputs": [
    {
     "name": "stdout",
     "output_type": "stream",
     "text": [
      "\n",
      "LeaveType value counts (after):\n",
      "leavetype\n",
      "Vacation               2134\n",
      "Personal Leave         2088\n",
      "Sick Leave             2044\n",
      "Maternity/Paternity    2010\n",
      "Unknown                 332\n",
      "Name: count, dtype: int64\n"
     ]
    }
   ],
   "source": [
    "# Clean LeaveType\n",
    "df['leavetype'] = df['leavetype'].str.strip().str.title()\n",
    "print(\"\\nLeaveType value counts (after):\")\n",
    "print(df['leavetype'].value_counts())"
   ]
  },
  {
   "cell_type": "markdown",
   "metadata": {},
   "source": [
    "#### 5.4 Clean Date Columns"
   ]
  },
  {
   "cell_type": "code",
   "execution_count": 17,
   "metadata": {},
   "outputs": [
    {
     "name": "stdout",
     "output_type": "stream",
     "text": [
      "StartDate converted to datetime\n",
      "Date range: 2018-01-01 00:00:00 to 2025-10-28 00:00:00\n"
     ]
    }
   ],
   "source": [
    "# Convert StartDate to datetime\n",
    "df['startdate'] = df['startdate'].str.strip()\n",
    "df['startdate'] = pd.to_datetime(df['startdate'], errors='coerce')\n",
    "print(f\"StartDate converted to datetime\")\n",
    "print(f\"Date range: {df['startdate'].min()} to {df['startdate'].max()}\")"
   ]
  },
  {
   "cell_type": "code",
   "execution_count": 18,
   "metadata": {},
   "outputs": [
    {
     "name": "stdout",
     "output_type": "stream",
     "text": [
      "EndDate converted to datetime\n",
      "Date range: 2018-01-01 00:00:00 to 2025-11-06 00:00:00\n"
     ]
    }
   ],
   "source": [
    "# Convert EndDate to datetime\n",
    "df['enddate'] = df['enddate'].str.strip()\n",
    "df['enddate'] = pd.to_datetime(df['enddate'], errors='coerce')\n",
    "print(f\"EndDate converted to datetime\")\n",
    "print(f\"Date range: {df['enddate'].min()} to {df['enddate'].max()}\")"
   ]
  },
  {
   "cell_type": "code",
   "execution_count": 19,
   "metadata": {},
   "outputs": [
    {
     "name": "stdout",
     "output_type": "stream",
     "text": [
      "Removed 0 rows with invalid dates\n"
     ]
    }
   ],
   "source": [
    "# Remove invalid dates\n",
    "rows_before = len(df)\n",
    "df = df.dropna(subset=['startdate', 'enddate'])\n",
    "print(f\"Removed {rows_before - len(df)} rows with invalid dates\")"
   ]
  },
  {
   "cell_type": "code",
   "execution_count": 20,
   "metadata": {},
   "outputs": [
    {
     "name": "stdout",
     "output_type": "stream",
     "text": [
      "Extracted date features\n"
     ]
    }
   ],
   "source": [
    "# Extract date features\n",
    "df['leave_year'] = df['startdate'].dt.year\n",
    "df['leave_month'] = df['startdate'].dt.month\n",
    "df['leave_quarter'] = df['startdate'].dt.quarter\n",
    "df['leave_day_of_week'] = df['startdate'].dt.day_name()\n",
    "df['leave_month_name'] = df['startdate'].dt.strftime('%B')\n",
    "print(\"Extracted date features\")"
   ]
  },
  {
   "cell_type": "markdown",
   "metadata": {},
   "source": [
    "#### 5.5 Clean Days Column"
   ]
  },
  {
   "cell_type": "code",
   "execution_count": 21,
   "metadata": {},
   "outputs": [
    {
     "name": "stdout",
     "output_type": "stream",
     "text": [
      "Days statistics:\n",
      "count    8348.000000\n",
      "mean        4.163512\n",
      "std         3.191087\n",
      "min         1.000000\n",
      "25%         2.000000\n",
      "50%         3.000000\n",
      "75%         5.000000\n",
      "max        10.000000\n",
      "Name: days, dtype: float64\n",
      "\n",
      "Missing Days: 260\n"
     ]
    }
   ],
   "source": [
    "# Check Days column\n",
    "print(\"Days statistics:\")\n",
    "print(df['days'].describe())\n",
    "print(f\"\\nMissing Days: {df['days'].isnull().sum()}\")"
   ]
  },
  {
   "cell_type": "code",
   "execution_count": 22,
   "metadata": {},
   "outputs": [
    {
     "name": "stdout",
     "output_type": "stream",
     "text": [
      "\n",
      "Missing Days after calculation: 0\n"
     ]
    }
   ],
   "source": [
    "# Calculate days if missing\n",
    "df['calculated_days'] = (df['enddate'] - df['startdate']).dt.days + 1\n",
    "df['days'] = df['days'].fillna(df['calculated_days'])\n",
    "print(f\"\\nMissing Days after calculation: {df['days'].isnull().sum()}\")"
   ]
  },
  {
   "cell_type": "code",
   "execution_count": 23,
   "metadata": {},
   "outputs": [
    {
     "name": "stdout",
     "output_type": "stream",
     "text": [
      "\n",
      "Negative or zero days: 0\n",
      "Days > 365: 0\n",
      "Rows after removing invalid days: 8608\n"
     ]
    }
   ],
   "source": [
    "# Validate days (should be positive and reasonable)\n",
    "print(f\"\\nNegative or zero days: {(df['days'] <= 0).sum()}\")\n",
    "print(f\"Days > 365: {(df['days'] > 365).sum()}\")\n",
    "# Remove invalid\n",
    "df = df[(df['days'] > 0) & (df['days'] <= 365)]\n",
    "print(f\"Rows after removing invalid days: {len(df)}\")"
   ]
  },
  {
   "cell_type": "markdown",
   "metadata": {},
   "source": [
    "### Step 6: Check for Some More Transformations"
   ]
  },
  {
   "cell_type": "markdown",
   "metadata": {},
   "source": [
    "#### 6.1 Create Leave Duration Categories"
   ]
  },
  {
   "cell_type": "code",
   "execution_count": 24,
   "metadata": {},
   "outputs": [
    {
     "name": "stdout",
     "output_type": "stream",
     "text": [
      "Created 'leave_duration_category' feature\n",
      "\n",
      "Leave duration distribution:\n",
      "leave_duration_category\n",
      "Single Day             1783\n",
      "Short (2-3 days)       3445\n",
      "Medium (4-7 days)      1665\n",
      "Long (8-14 days)       1715\n",
      "Extended (15+ days)       0\n",
      "Name: count, dtype: int64\n"
     ]
    }
   ],
   "source": [
    "# Create leave duration categories\n",
    "df['leave_duration_category'] = pd.cut(\n",
    "    df['days'],\n",
    "    bins=[0, 1, 3, 7, 14, 365],\n",
    "    labels=['Single Day', 'Short (2-3 days)', 'Medium (4-7 days)', 'Long (8-14 days)', 'Extended (15+ days)']\n",
    ")\n",
    "print(\"Created 'leave_duration_category' feature\")\n",
    "print(\"\\nLeave duration distribution:\")\n",
    "print(df['leave_duration_category'].value_counts().sort_index())"
   ]
  },
  {
   "cell_type": "markdown",
   "metadata": {},
   "source": [
    "#### 6.2 Create Leave Type Binary Flags"
   ]
  },
  {
   "cell_type": "code",
   "execution_count": 25,
   "metadata": {},
   "outputs": [
    {
     "name": "stdout",
     "output_type": "stream",
     "text": [
      "Created leave type binary flags\n"
     ]
    }
   ],
   "source": [
    "# Create binary flags for leave types\n",
    "df['is_sick_leave'] = (df['leavetype'] == 'Sick Leave').astype(int)\n",
    "df['is_vacation'] = (df['leavetype'] == 'Vacation').astype(int)\n",
    "df['is_personal'] = (df['leavetype'] == 'Personal Leave').astype(int)\n",
    "df['is_maternity_paternity'] = (df['leavetype'] == 'Maternity/Paternity').astype(int)\n",
    "print(\"Created leave type binary flags\")"
   ]
  },
  {
   "cell_type": "markdown",
   "metadata": {},
   "source": [
    "#### 6.3 Create Employee-Level Aggregations"
   ]
  },
  {
   "cell_type": "code",
   "execution_count": 26,
   "metadata": {},
   "outputs": [
    {
     "name": "stdout",
     "output_type": "stream",
     "text": [
      "Created employee-level leave metrics\n"
     ]
    }
   ],
   "source": [
    "# Calculate total leave days per employee\n",
    "df['total_leave_days'] = df.groupby('employeeid')['days'].transform('sum')\n",
    "df['leave_count'] = df.groupby('employeeid')['employeeid'].transform('count')\n",
    "df['avg_leave_duration'] = df.groupby('employeeid')['days'].transform('mean').round(1)\n",
    "print(\"Created employee-level leave metrics\")"
   ]
  },
  {
   "cell_type": "code",
   "execution_count": 27,
   "metadata": {},
   "outputs": [
    {
     "name": "stdout",
     "output_type": "stream",
     "text": [
      "Created leave type counts per employee\n"
     ]
    }
   ],
   "source": [
    "# Count leave types per employee\n",
    "df['sick_leave_count'] = df.groupby('employeeid')['is_sick_leave'].transform('sum')\n",
    "df['vacation_count'] = df.groupby('employeeid')['is_vacation'].transform('sum')\n",
    "df['personal_leave_count'] = df.groupby('employeeid')['is_personal'].transform('sum')\n",
    "df['maternity_paternity_count'] = df.groupby('employeeid')['is_maternity_paternity'].transform('sum')\n",
    "print(\"Created leave type counts per employee\")"
   ]
  },
  {
   "cell_type": "markdown",
   "metadata": {},
   "source": [
    "#### 6.4 Create Time-Based Features"
   ]
  },
  {
   "cell_type": "code",
   "execution_count": 28,
   "metadata": {},
   "outputs": [
    {
     "name": "stdout",
     "output_type": "stream",
     "text": [
      "Created 'days_since_last_leave' feature\n"
     ]
    }
   ],
   "source": [
    "# Calculate time between leaves\n",
    "df = df.sort_values(['employeeid', 'startdate'])\n",
    "df['prev_leave_end'] = df.groupby('employeeid')['enddate'].shift(1)\n",
    "df['days_since_last_leave'] = (df['startdate'] - df['prev_leave_end']).dt.days\n",
    "print(\"Created 'days_since_last_leave' feature\")"
   ]
  },
  {
   "cell_type": "code",
   "execution_count": 29,
   "metadata": {},
   "outputs": [
    {
     "name": "stdout",
     "output_type": "stream",
     "text": [
      "Created 'leave_sequence' feature\n"
     ]
    }
   ],
   "source": [
    "# Create leave frequency indicator\n",
    "df['leave_sequence'] = df.groupby('employeeid').cumcount() + 1\n",
    "print(\"Created 'leave_sequence' feature\")"
   ]
  },
  {
   "cell_type": "markdown",
   "metadata": {},
   "source": [
    "#### 6.5 Create Seasonal Features"
   ]
  },
  {
   "cell_type": "code",
   "execution_count": 30,
   "metadata": {},
   "outputs": [
    {
     "name": "stdout",
     "output_type": "stream",
     "text": [
      "Created 'season' feature\n",
      "\n",
      "Leave distribution by season:\n",
      "season\n",
      "Spring    2257\n",
      "Summer    2165\n",
      "Fall      2126\n",
      "Winter    2060\n",
      "Name: count, dtype: int64\n"
     ]
    }
   ],
   "source": [
    "# Create season feature\n",
    "def get_season(month):\n",
    "    if month in [12, 1, 2]:\n",
    "        return 'Winter'\n",
    "    elif month in [3, 4, 5]:\n",
    "        return 'Spring'\n",
    "    elif month in [6, 7, 8]:\n",
    "        return 'Summer'\n",
    "    else:\n",
    "        return 'Fall'\n",
    "\n",
    "df['season'] = df['leave_month'].apply(get_season)\n",
    "print(\"Created 'season' feature\")\n",
    "print(\"\\nLeave distribution by season:\")\n",
    "print(df['season'].value_counts())"
   ]
  },
  {
   "cell_type": "markdown",
   "metadata": {},
   "source": [
    "#### 6.6 Create Weekend/Weekday Flags"
   ]
  },
  {
   "cell_type": "code",
   "execution_count": 31,
   "metadata": {},
   "outputs": [
    {
     "name": "stdout",
     "output_type": "stream",
     "text": [
      "Created weekend/weekday flags\n"
     ]
    }
   ],
   "source": [
    "# Check if leave starts on weekend\n",
    "df['starts_on_weekend'] = df['startdate'].dt.dayofweek.isin([5, 6]).astype(int)\n",
    "df['starts_on_monday'] = (df['startdate'].dt.dayofweek == 0).astype(int)\n",
    "df['starts_on_friday'] = (df['startdate'].dt.dayofweek == 4).astype(int)\n",
    "print(\"Created weekend/weekday flags\")"
   ]
  },
  {
   "cell_type": "markdown",
   "metadata": {},
   "source": [
    "#### 6.7 Create Leave Pattern Features"
   ]
  },
  {
   "cell_type": "code",
   "execution_count": 32,
   "metadata": {},
   "outputs": [
    {
     "name": "stdout",
     "output_type": "stream",
     "text": [
      "Annual leave summary:\n",
      "            count      mean       std  min  25%  50%   75%   max\n",
      "leave_year                                                      \n",
      "2018        890.0  5.031461  4.086126  1.0  2.0  3.0   7.0  25.0\n",
      "2019        846.0  5.343972  4.202691  1.0  2.0  4.0  10.0  20.0\n",
      "2020        878.0  5.448747  4.352642  1.0  2.0  4.0  10.0  30.0\n",
      "2021        879.0  5.281001  4.146738  1.0  2.0  4.0  10.0  23.0\n",
      "2022        882.0  5.462585  4.221353  1.0  2.0  5.0  10.0  25.0\n",
      "2023        865.0  5.497110  4.078263  1.0  2.0  5.0  10.0  22.0\n",
      "2024        875.0  4.924571  4.054410  1.0  2.0  3.0   8.0  25.0\n",
      "2025        725.0  4.946207  3.830833  1.0  2.0  3.0   8.0  20.0\n"
     ]
    }
   ],
   "source": [
    "# Identify frequent leave takers (>10 days per year)\n",
    "annual_leave = df.groupby(['employeeid', 'leave_year'])['days'].sum().reset_index()\n",
    "annual_leave['high_leave_usage'] = (annual_leave['days'] > 10).astype(int)\n",
    "print(\"Annual leave summary:\")\n",
    "print(annual_leave.groupby('leave_year')['days'].describe())"
   ]
  },
  {
   "cell_type": "markdown",
   "metadata": {},
   "source": [
    "#### 6.8 Sort Data"
   ]
  },
  {
   "cell_type": "code",
   "execution_count": 33,
   "metadata": {},
   "outputs": [
    {
     "name": "stdout",
     "output_type": "stream",
     "text": [
      "Data sorted by EmployeeID and StartDate\n"
     ]
    },
    {
     "data": {
      "text/html": [
       "<div>\n",
       "<style scoped>\n",
       "    .dataframe tbody tr th:only-of-type {\n",
       "        vertical-align: middle;\n",
       "    }\n",
       "\n",
       "    .dataframe tbody tr th {\n",
       "        vertical-align: top;\n",
       "    }\n",
       "\n",
       "    .dataframe thead th {\n",
       "        text-align: right;\n",
       "    }\n",
       "</style>\n",
       "<table border=\"1\" class=\"dataframe\">\n",
       "  <thead>\n",
       "    <tr style=\"text-align: right;\">\n",
       "      <th></th>\n",
       "      <th>leaveid</th>\n",
       "      <th>employeeid</th>\n",
       "      <th>leavetype</th>\n",
       "      <th>startdate</th>\n",
       "      <th>enddate</th>\n",
       "      <th>days</th>\n",
       "      <th>leave_year</th>\n",
       "      <th>leave_month</th>\n",
       "      <th>leave_quarter</th>\n",
       "      <th>leave_day_of_week</th>\n",
       "      <th>...</th>\n",
       "      <th>vacation_count</th>\n",
       "      <th>personal_leave_count</th>\n",
       "      <th>maternity_paternity_count</th>\n",
       "      <th>prev_leave_end</th>\n",
       "      <th>days_since_last_leave</th>\n",
       "      <th>leave_sequence</th>\n",
       "      <th>season</th>\n",
       "      <th>starts_on_weekend</th>\n",
       "      <th>starts_on_monday</th>\n",
       "      <th>starts_on_friday</th>\n",
       "    </tr>\n",
       "  </thead>\n",
       "  <tbody>\n",
       "    <tr>\n",
       "      <th>0</th>\n",
       "      <td>LEAVE-3</td>\n",
       "      <td>PNR-1001</td>\n",
       "      <td>Personal Leave</td>\n",
       "      <td>2018-09-22</td>\n",
       "      <td>2018-10-01</td>\n",
       "      <td>10.0</td>\n",
       "      <td>2018</td>\n",
       "      <td>9</td>\n",
       "      <td>3</td>\n",
       "      <td>Saturday</td>\n",
       "      <td>...</td>\n",
       "      <td>1</td>\n",
       "      <td>1</td>\n",
       "      <td>1</td>\n",
       "      <td>NaT</td>\n",
       "      <td>NaN</td>\n",
       "      <td>1</td>\n",
       "      <td>Fall</td>\n",
       "      <td>1</td>\n",
       "      <td>0</td>\n",
       "      <td>0</td>\n",
       "    </tr>\n",
       "    <tr>\n",
       "      <th>1</th>\n",
       "      <td>LEAVE-1</td>\n",
       "      <td>PNR-1001</td>\n",
       "      <td>Maternity/Paternity</td>\n",
       "      <td>2021-08-05</td>\n",
       "      <td>2021-08-07</td>\n",
       "      <td>3.0</td>\n",
       "      <td>2021</td>\n",
       "      <td>8</td>\n",
       "      <td>3</td>\n",
       "      <td>Thursday</td>\n",
       "      <td>...</td>\n",
       "      <td>1</td>\n",
       "      <td>1</td>\n",
       "      <td>1</td>\n",
       "      <td>2018-10-01</td>\n",
       "      <td>1039.0</td>\n",
       "      <td>2</td>\n",
       "      <td>Summer</td>\n",
       "      <td>0</td>\n",
       "      <td>0</td>\n",
       "      <td>0</td>\n",
       "    </tr>\n",
       "    <tr>\n",
       "      <th>2</th>\n",
       "      <td>LEAVE-5</td>\n",
       "      <td>PNR-1001</td>\n",
       "      <td>Sick Leave</td>\n",
       "      <td>2022-03-16</td>\n",
       "      <td>2022-03-16</td>\n",
       "      <td>1.0</td>\n",
       "      <td>2022</td>\n",
       "      <td>3</td>\n",
       "      <td>1</td>\n",
       "      <td>Wednesday</td>\n",
       "      <td>...</td>\n",
       "      <td>1</td>\n",
       "      <td>1</td>\n",
       "      <td>1</td>\n",
       "      <td>2021-08-07</td>\n",
       "      <td>221.0</td>\n",
       "      <td>3</td>\n",
       "      <td>Spring</td>\n",
       "      <td>0</td>\n",
       "      <td>0</td>\n",
       "      <td>0</td>\n",
       "    </tr>\n",
       "    <tr>\n",
       "      <th>3</th>\n",
       "      <td>LEAVE-2</td>\n",
       "      <td>PNR-1001</td>\n",
       "      <td>Vacation</td>\n",
       "      <td>2022-07-20</td>\n",
       "      <td>2022-07-22</td>\n",
       "      <td>3.0</td>\n",
       "      <td>2022</td>\n",
       "      <td>7</td>\n",
       "      <td>3</td>\n",
       "      <td>Wednesday</td>\n",
       "      <td>...</td>\n",
       "      <td>1</td>\n",
       "      <td>1</td>\n",
       "      <td>1</td>\n",
       "      <td>2022-03-16</td>\n",
       "      <td>126.0</td>\n",
       "      <td>4</td>\n",
       "      <td>Summer</td>\n",
       "      <td>0</td>\n",
       "      <td>0</td>\n",
       "      <td>0</td>\n",
       "    </tr>\n",
       "    <tr>\n",
       "      <th>4</th>\n",
       "      <td>LEAVE-7</td>\n",
       "      <td>PNR-1002</td>\n",
       "      <td>Personal Leave</td>\n",
       "      <td>2018-01-30</td>\n",
       "      <td>2018-02-03</td>\n",
       "      <td>5.0</td>\n",
       "      <td>2018</td>\n",
       "      <td>1</td>\n",
       "      <td>1</td>\n",
       "      <td>Tuesday</td>\n",
       "      <td>...</td>\n",
       "      <td>0</td>\n",
       "      <td>2</td>\n",
       "      <td>1</td>\n",
       "      <td>NaT</td>\n",
       "      <td>NaN</td>\n",
       "      <td>1</td>\n",
       "      <td>Winter</td>\n",
       "      <td>0</td>\n",
       "      <td>0</td>\n",
       "      <td>0</td>\n",
       "    </tr>\n",
       "    <tr>\n",
       "      <th>5</th>\n",
       "      <td>LEAVE-10</td>\n",
       "      <td>PNR-1002</td>\n",
       "      <td>Sick Leave</td>\n",
       "      <td>2020-03-07</td>\n",
       "      <td>2020-03-07</td>\n",
       "      <td>1.0</td>\n",
       "      <td>2020</td>\n",
       "      <td>3</td>\n",
       "      <td>1</td>\n",
       "      <td>Saturday</td>\n",
       "      <td>...</td>\n",
       "      <td>0</td>\n",
       "      <td>2</td>\n",
       "      <td>1</td>\n",
       "      <td>2018-02-03</td>\n",
       "      <td>763.0</td>\n",
       "      <td>2</td>\n",
       "      <td>Spring</td>\n",
       "      <td>1</td>\n",
       "      <td>0</td>\n",
       "      <td>0</td>\n",
       "    </tr>\n",
       "    <tr>\n",
       "      <th>6</th>\n",
       "      <td>LEAVE-9</td>\n",
       "      <td>PNR-1002</td>\n",
       "      <td>Personal Leave</td>\n",
       "      <td>2022-04-21</td>\n",
       "      <td>2022-04-22</td>\n",
       "      <td>2.0</td>\n",
       "      <td>2022</td>\n",
       "      <td>4</td>\n",
       "      <td>2</td>\n",
       "      <td>Thursday</td>\n",
       "      <td>...</td>\n",
       "      <td>0</td>\n",
       "      <td>2</td>\n",
       "      <td>1</td>\n",
       "      <td>2020-03-07</td>\n",
       "      <td>775.0</td>\n",
       "      <td>3</td>\n",
       "      <td>Spring</td>\n",
       "      <td>0</td>\n",
       "      <td>0</td>\n",
       "      <td>0</td>\n",
       "    </tr>\n",
       "    <tr>\n",
       "      <th>7</th>\n",
       "      <td>LEAVE-8</td>\n",
       "      <td>PNR-1002</td>\n",
       "      <td>Maternity/Paternity</td>\n",
       "      <td>2023-04-19</td>\n",
       "      <td>2023-04-20</td>\n",
       "      <td>2.0</td>\n",
       "      <td>2023</td>\n",
       "      <td>4</td>\n",
       "      <td>2</td>\n",
       "      <td>Wednesday</td>\n",
       "      <td>...</td>\n",
       "      <td>0</td>\n",
       "      <td>2</td>\n",
       "      <td>1</td>\n",
       "      <td>2022-04-22</td>\n",
       "      <td>362.0</td>\n",
       "      <td>4</td>\n",
       "      <td>Spring</td>\n",
       "      <td>0</td>\n",
       "      <td>0</td>\n",
       "      <td>0</td>\n",
       "    </tr>\n",
       "    <tr>\n",
       "      <th>8</th>\n",
       "      <td>LEAVE-6</td>\n",
       "      <td>PNR-1002</td>\n",
       "      <td>Sick Leave</td>\n",
       "      <td>2023-12-02</td>\n",
       "      <td>2023-12-06</td>\n",
       "      <td>5.0</td>\n",
       "      <td>2023</td>\n",
       "      <td>12</td>\n",
       "      <td>4</td>\n",
       "      <td>Saturday</td>\n",
       "      <td>...</td>\n",
       "      <td>0</td>\n",
       "      <td>2</td>\n",
       "      <td>1</td>\n",
       "      <td>2023-04-20</td>\n",
       "      <td>226.0</td>\n",
       "      <td>5</td>\n",
       "      <td>Winter</td>\n",
       "      <td>1</td>\n",
       "      <td>0</td>\n",
       "      <td>0</td>\n",
       "    </tr>\n",
       "    <tr>\n",
       "      <th>9</th>\n",
       "      <td>LEAVE-14</td>\n",
       "      <td>PNR-1003</td>\n",
       "      <td>Maternity/Paternity</td>\n",
       "      <td>2018-07-09</td>\n",
       "      <td>2018-07-10</td>\n",
       "      <td>2.0</td>\n",
       "      <td>2018</td>\n",
       "      <td>7</td>\n",
       "      <td>3</td>\n",
       "      <td>Monday</td>\n",
       "      <td>...</td>\n",
       "      <td>1</td>\n",
       "      <td>0</td>\n",
       "      <td>3</td>\n",
       "      <td>NaT</td>\n",
       "      <td>NaN</td>\n",
       "      <td>1</td>\n",
       "      <td>Summer</td>\n",
       "      <td>0</td>\n",
       "      <td>1</td>\n",
       "      <td>0</td>\n",
       "    </tr>\n",
       "  </tbody>\n",
       "</table>\n",
       "<p>10 rows × 31 columns</p>\n",
       "</div>"
      ],
      "text/plain": [
       "    leaveid employeeid            leavetype  startdate    enddate  days  \\\n",
       "0   LEAVE-3   PNR-1001       Personal Leave 2018-09-22 2018-10-01  10.0   \n",
       "1   LEAVE-1   PNR-1001  Maternity/Paternity 2021-08-05 2021-08-07   3.0   \n",
       "2   LEAVE-5   PNR-1001           Sick Leave 2022-03-16 2022-03-16   1.0   \n",
       "3   LEAVE-2   PNR-1001             Vacation 2022-07-20 2022-07-22   3.0   \n",
       "4   LEAVE-7   PNR-1002       Personal Leave 2018-01-30 2018-02-03   5.0   \n",
       "5  LEAVE-10   PNR-1002           Sick Leave 2020-03-07 2020-03-07   1.0   \n",
       "6   LEAVE-9   PNR-1002       Personal Leave 2022-04-21 2022-04-22   2.0   \n",
       "7   LEAVE-8   PNR-1002  Maternity/Paternity 2023-04-19 2023-04-20   2.0   \n",
       "8   LEAVE-6   PNR-1002           Sick Leave 2023-12-02 2023-12-06   5.0   \n",
       "9  LEAVE-14   PNR-1003  Maternity/Paternity 2018-07-09 2018-07-10   2.0   \n",
       "\n",
       "   leave_year  leave_month  leave_quarter leave_day_of_week  ...  \\\n",
       "0        2018            9              3          Saturday  ...   \n",
       "1        2021            8              3          Thursday  ...   \n",
       "2        2022            3              1         Wednesday  ...   \n",
       "3        2022            7              3         Wednesday  ...   \n",
       "4        2018            1              1           Tuesday  ...   \n",
       "5        2020            3              1          Saturday  ...   \n",
       "6        2022            4              2          Thursday  ...   \n",
       "7        2023            4              2         Wednesday  ...   \n",
       "8        2023           12              4          Saturday  ...   \n",
       "9        2018            7              3            Monday  ...   \n",
       "\n",
       "  vacation_count  personal_leave_count maternity_paternity_count  \\\n",
       "0              1                     1                         1   \n",
       "1              1                     1                         1   \n",
       "2              1                     1                         1   \n",
       "3              1                     1                         1   \n",
       "4              0                     2                         1   \n",
       "5              0                     2                         1   \n",
       "6              0                     2                         1   \n",
       "7              0                     2                         1   \n",
       "8              0                     2                         1   \n",
       "9              1                     0                         3   \n",
       "\n",
       "   prev_leave_end  days_since_last_leave  leave_sequence  season  \\\n",
       "0             NaT                    NaN               1    Fall   \n",
       "1      2018-10-01                 1039.0               2  Summer   \n",
       "2      2021-08-07                  221.0               3  Spring   \n",
       "3      2022-03-16                  126.0               4  Summer   \n",
       "4             NaT                    NaN               1  Winter   \n",
       "5      2018-02-03                  763.0               2  Spring   \n",
       "6      2020-03-07                  775.0               3  Spring   \n",
       "7      2022-04-22                  362.0               4  Spring   \n",
       "8      2023-04-20                  226.0               5  Winter   \n",
       "9             NaT                    NaN               1  Summer   \n",
       "\n",
       "   starts_on_weekend  starts_on_monday  starts_on_friday  \n",
       "0                  1                 0                 0  \n",
       "1                  0                 0                 0  \n",
       "2                  0                 0                 0  \n",
       "3                  0                 0                 0  \n",
       "4                  0                 0                 0  \n",
       "5                  1                 0                 0  \n",
       "6                  0                 0                 0  \n",
       "7                  0                 0                 0  \n",
       "8                  1                 0                 0  \n",
       "9                  0                 1                 0  \n",
       "\n",
       "[10 rows x 31 columns]"
      ]
     },
     "execution_count": 33,
     "metadata": {},
     "output_type": "execute_result"
    }
   ],
   "source": [
    "# Sort by EmployeeID and StartDate\n",
    "df = df.sort_values(['employeeid', 'startdate']).reset_index(drop=True)\n",
    "print(\"Data sorted by EmployeeID and StartDate\")\n",
    "df.head(10)"
   ]
  },
  {
   "cell_type": "markdown",
   "metadata": {},
   "source": [
    "#### 6.9 Final Data Quality Check"
   ]
  },
  {
   "cell_type": "code",
   "execution_count": 34,
   "metadata": {},
   "outputs": [
    {
     "name": "stdout",
     "output_type": "stream",
     "text": [
      "============================================================\n",
      "FINAL DATA QUALITY SUMMARY\n",
      "============================================================\n",
      "\n",
      "Final shape: (8608, 31)\n",
      "\n",
      "Columns: ['leaveid', 'employeeid', 'leavetype', 'startdate', 'enddate', 'days', 'leave_year', 'leave_month', 'leave_quarter', 'leave_day_of_week', 'leave_month_name', 'calculated_days', 'leave_duration_category', 'is_sick_leave', 'is_vacation', 'is_personal', 'is_maternity_paternity', 'total_leave_days', 'leave_count', 'avg_leave_duration', 'sick_leave_count', 'vacation_count', 'personal_leave_count', 'maternity_paternity_count', 'prev_leave_end', 'days_since_last_leave', 'leave_sequence', 'season', 'starts_on_weekend', 'starts_on_monday', 'starts_on_friday']\n",
      "\n",
      "Missing values:\n",
      "leaveid                         0\n",
      "employeeid                      0\n",
      "leavetype                       0\n",
      "startdate                       0\n",
      "enddate                         0\n",
      "days                            0\n",
      "leave_year                      0\n",
      "leave_month                     0\n",
      "leave_quarter                   0\n",
      "leave_day_of_week               0\n",
      "leave_month_name                0\n",
      "calculated_days                 0\n",
      "leave_duration_category         0\n",
      "is_sick_leave                   0\n",
      "is_vacation                     0\n",
      "is_personal                     0\n",
      "is_maternity_paternity          0\n",
      "total_leave_days                0\n",
      "leave_count                     0\n",
      "avg_leave_duration              0\n",
      "sick_leave_count                0\n",
      "vacation_count                  0\n",
      "personal_leave_count            0\n",
      "maternity_paternity_count       0\n",
      "prev_leave_end               2000\n",
      "days_since_last_leave        2000\n",
      "leave_sequence                  0\n",
      "season                          0\n",
      "starts_on_weekend               0\n",
      "starts_on_monday                0\n",
      "starts_on_friday                0\n",
      "dtype: int64\n",
      "\n",
      "Duplicates: 0\n"
     ]
    }
   ],
   "source": [
    "# Final summary\n",
    "print(\"=\" * 60)\n",
    "print(\"FINAL DATA QUALITY SUMMARY\")\n",
    "print(\"=\" * 60)\n",
    "print(f\"\\nFinal shape: {df.shape}\")\n",
    "print(f\"\\nColumns: {list(df.columns)}\")\n",
    "print(f\"\\nMissing values:\")\n",
    "print(df.isnull().sum())\n",
    "print(f\"\\nDuplicates: {df.duplicated().sum()}\")"
   ]
  },
  {
   "cell_type": "markdown",
   "metadata": {},
   "source": [
    "### Save Cleaned Data"
   ]
  },
  {
   "cell_type": "code",
   "execution_count": 35,
   "metadata": {},
   "outputs": [
    {
     "name": "stdout",
     "output_type": "stream",
     "text": [
      "Cleaned data saved to: ../data/processed/Leave_Attendance_cleaned.csv\n",
      "Total records: 8608\n"
     ]
    }
   ],
   "source": [
    "# Save to processed folder\n",
    "output_path = '../data/processed/Leave_Attendance_cleaned.csv'\n",
    "df.to_csv(output_path, index=False)\n",
    "print(f\"Cleaned data saved to: {output_path}\")\n",
    "print(f\"Total records: {len(df)}\")"
   ]
  },
  {
   "cell_type": "markdown",
   "metadata": {},
   "source": [
    "---\n",
    "## Summary\n",
    "\n",
    "### Data Cleaning & Feature Engineering Completed!\n",
    "\n",
    "**Steps Performed:**\n",
    "1. Checked for redundant columns\n",
    "2. Renamed columns to snake_case\n",
    "3. Removed duplicates\n",
    "4. Handled missing values\n",
    "5. Cleaned all columns:\n",
    "   - LeaveID (generated missing)\n",
    "   - EmployeeID, LeaveType\n",
    "   - StartDate, EndDate (datetime)\n",
    "   - Days (calculated and validated)\n",
    "6. **Feature Engineering:**\n",
    "   - **Duration categories**: Single day to Extended (15+ days)\n",
    "   - **Leave type flags**: Binary indicators for each type\n",
    "   - **Employee aggregations**: Total days, counts, averages\n",
    "   - **Time-based**: Days since last leave, leave sequence\n",
    "   - **Seasonal**: Season classification\n",
    "   - **Pattern flags**: Weekend starts, frequent usage\n",
    "\n",
    "**Feature Summary:**\n",
    "- Original columns: 6\n",
    "- Final columns: 35+\n",
    "- New features: 29+"
   ]
  }
 ],
 "metadata": {
  "kernelspec": {
   "display_name": "base",
   "language": "python",
   "name": "python3"
  },
  "language_info": {
   "codemirror_mode": {
    "name": "ipython",
    "version": 3
   },
   "file_extension": ".py",
   "mimetype": "text/x-python",
   "name": "python",
   "nbconvert_exporter": "python",
   "pygments_lexer": "ipython3",
   "version": "3.12.7"
  }
 },
 "nbformat": 4,
 "nbformat_minor": 4
}
