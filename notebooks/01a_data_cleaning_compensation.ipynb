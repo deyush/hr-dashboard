{
 "cells": [
  {
   "cell_type": "markdown",
   "metadata": {},
   "source": [
    "# HR Dashboard - Data Cleaning\n",
    "## Compensation History Dataset\n",
    "\n",
    "This notebook performs data cleaning and wrangling on the Compensation_History dataset."
   ]
  },
  {
   "cell_type": "markdown",
   "metadata": {},
   "source": [
    "### Import Libraries"
   ]
  },
  {
   "cell_type": "code",
   "execution_count": 81,
   "metadata": {},
   "outputs": [],
   "source": [
    "import pandas as pd\n",
    "import numpy as np\n",
    "import matplotlib.pyplot as plt\n",
    "import warnings\n",
    "warnings.filterwarnings('ignore')"
   ]
  },
  {
   "cell_type": "markdown",
   "metadata": {},
   "source": [
    "### Load Raw Data"
   ]
  },
  {
   "cell_type": "code",
   "execution_count": 82,
   "metadata": {},
   "outputs": [
    {
     "name": "stdout",
     "output_type": "stream",
     "text": [
      "Original dataset shape: (4359, 6)\n"
     ]
    },
    {
     "data": {
      "text/html": [
       "<div>\n",
       "<style scoped>\n",
       "    .dataframe tbody tr th:only-of-type {\n",
       "        vertical-align: middle;\n",
       "    }\n",
       "\n",
       "    .dataframe tbody tr th {\n",
       "        vertical-align: top;\n",
       "    }\n",
       "\n",
       "    .dataframe thead th {\n",
       "        text-align: right;\n",
       "    }\n",
       "</style>\n",
       "<table border=\"1\" class=\"dataframe\">\n",
       "  <thead>\n",
       "    <tr style=\"text-align: right;\">\n",
       "      <th></th>\n",
       "      <th>ChangeID</th>\n",
       "      <th>EmployeeID</th>\n",
       "      <th>ChangeDate</th>\n",
       "      <th>OldSalary</th>\n",
       "      <th>NewSalary</th>\n",
       "      <th>Reason</th>\n",
       "    </tr>\n",
       "  </thead>\n",
       "  <tbody>\n",
       "    <tr>\n",
       "      <th>0</th>\n",
       "      <td>COMP-1</td>\n",
       "      <td>PNR-1001</td>\n",
       "      <td>2022-05-02</td>\n",
       "      <td>63502.0</td>\n",
       "      <td>NaN</td>\n",
       "      <td>Merit</td>\n",
       "    </tr>\n",
       "    <tr>\n",
       "      <th>1</th>\n",
       "      <td>NaN</td>\n",
       "      <td>PNR-1001</td>\n",
       "      <td>2023-06-05</td>\n",
       "      <td>NaN</td>\n",
       "      <td>77522.0</td>\n",
       "      <td>Promotion</td>\n",
       "    </tr>\n",
       "    <tr>\n",
       "      <th>2</th>\n",
       "      <td>COMP-3</td>\n",
       "      <td>PNR-1001</td>\n",
       "      <td>2024-05-10</td>\n",
       "      <td>77522.0</td>\n",
       "      <td>85274.0</td>\n",
       "      <td>NaN</td>\n",
       "    </tr>\n",
       "    <tr>\n",
       "      <th>3</th>\n",
       "      <td>COMP-4</td>\n",
       "      <td>NaN</td>\n",
       "      <td>2020-11-29</td>\n",
       "      <td>55656.0</td>\n",
       "      <td>61221.0</td>\n",
       "      <td>Promotion</td>\n",
       "    </tr>\n",
       "    <tr>\n",
       "      <th>4</th>\n",
       "      <td>COMP-5</td>\n",
       "      <td>PNR-1002</td>\n",
       "      <td>2021-12-05</td>\n",
       "      <td>61221.0</td>\n",
       "      <td>67955.0</td>\n",
       "      <td>Promotion</td>\n",
       "    </tr>\n",
       "    <tr>\n",
       "      <th>5</th>\n",
       "      <td>COMP-6</td>\n",
       "      <td>PNR-1002</td>\n",
       "      <td>2022-12-06</td>\n",
       "      <td>67955.0</td>\n",
       "      <td>71352.0</td>\n",
       "      <td>Merit</td>\n",
       "    </tr>\n",
       "    <tr>\n",
       "      <th>6</th>\n",
       "      <td>COMP-7</td>\n",
       "      <td>PNR-1004</td>\n",
       "      <td>NaN</td>\n",
       "      <td>49257.0</td>\n",
       "      <td>55167.0</td>\n",
       "      <td>Merit</td>\n",
       "    </tr>\n",
       "    <tr>\n",
       "      <th>7</th>\n",
       "      <td>COMP-7</td>\n",
       "      <td>PNR-1004</td>\n",
       "      <td>2020-12-26</td>\n",
       "      <td>49257.0</td>\n",
       "      <td>55167.0</td>\n",
       "      <td>Merit</td>\n",
       "    </tr>\n",
       "    <tr>\n",
       "      <th>8</th>\n",
       "      <td>COMP-9</td>\n",
       "      <td>NaN</td>\n",
       "      <td>2023-08-05</td>\n",
       "      <td>101658.0</td>\n",
       "      <td>113856.0</td>\n",
       "      <td>Promotion</td>\n",
       "    </tr>\n",
       "    <tr>\n",
       "      <th>9</th>\n",
       "      <td>COMP-10</td>\n",
       "      <td>PNR-1005</td>\n",
       "      <td>NaN</td>\n",
       "      <td>NaN</td>\n",
       "      <td>121825.0</td>\n",
       "      <td>Merit</td>\n",
       "    </tr>\n",
       "  </tbody>\n",
       "</table>\n",
       "</div>"
      ],
      "text/plain": [
       "   ChangeID  EmployeeID    ChangeDate  OldSalary  NewSalary       Reason\n",
       "0    COMP-1    PNR-1001   2022-05-02     63502.0        NaN        Merit\n",
       "1       NaN   PNR-1001     2023-06-05        NaN    77522.0    Promotion\n",
       "2    COMP-3    PNR-1001    2024-05-10    77522.0    85274.0          NaN\n",
       "3    COMP-4         NaN    2020-11-29    55656.0    61221.0    Promotion\n",
       "4   COMP-5     PNR-1002   2021-12-05     61221.0    67955.0   Promotion \n",
       "5    COMP-6    PNR-1002    2022-12-06    67955.0    71352.0        Merit\n",
       "6    COMP-7   PNR-1004            NaN    49257.0    55167.0        Merit\n",
       "7    COMP-7    PNR-1004    2020-12-26    49257.0    55167.0        Merit\n",
       "8   COMP-9          NaN    2023-08-05   101658.0   113856.0    Promotion\n",
       "9   COMP-10    PNR-1005           NaN        NaN   121825.0        Merit"
      ]
     },
     "execution_count": 82,
     "metadata": {},
     "output_type": "execute_result"
    }
   ],
   "source": [
    "# Load the Compensation History dataset\n",
    "df = pd.read_csv('../data/raw/Compensation_History.csv')\n",
    "print(f\"Original dataset shape: {df.shape}\")\n",
    "df.head(10)"
   ]
  },
  {
   "cell_type": "markdown",
   "metadata": {},
   "source": [
    "### Initial Data Exploration"
   ]
  },
  {
   "cell_type": "code",
   "execution_count": 83,
   "metadata": {},
   "outputs": [
    {
     "name": "stdout",
     "output_type": "stream",
     "text": [
      "Dataset Info:\n",
      "<class 'pandas.core.frame.DataFrame'>\n",
      "RangeIndex: 4359 entries, 0 to 4358\n",
      "Data columns (total 6 columns):\n",
      " #   Column      Non-Null Count  Dtype  \n",
      "---  ------      --------------  -----  \n",
      " 0   ChangeID    3890 non-null   object \n",
      " 1   EmployeeID  3851 non-null   object \n",
      " 2   ChangeDate  3904 non-null   object \n",
      " 3   OldSalary   4018 non-null   float64\n",
      " 4   NewSalary   4008 non-null   float64\n",
      " 5   Reason      3892 non-null   object \n",
      "dtypes: float64(2), object(4)\n",
      "memory usage: 204.5+ KB\n",
      "\n",
      "==================================================\n",
      "\n",
      "Basic Statistics:\n"
     ]
    },
    {
     "data": {
      "text/html": [
       "<div>\n",
       "<style scoped>\n",
       "    .dataframe tbody tr th:only-of-type {\n",
       "        vertical-align: middle;\n",
       "    }\n",
       "\n",
       "    .dataframe tbody tr th {\n",
       "        vertical-align: top;\n",
       "    }\n",
       "\n",
       "    .dataframe thead th {\n",
       "        text-align: right;\n",
       "    }\n",
       "</style>\n",
       "<table border=\"1\" class=\"dataframe\">\n",
       "  <thead>\n",
       "    <tr style=\"text-align: right;\">\n",
       "      <th></th>\n",
       "      <th>OldSalary</th>\n",
       "      <th>NewSalary</th>\n",
       "    </tr>\n",
       "  </thead>\n",
       "  <tbody>\n",
       "    <tr>\n",
       "      <th>count</th>\n",
       "      <td>4018.000000</td>\n",
       "      <td>4008.000000</td>\n",
       "    </tr>\n",
       "    <tr>\n",
       "      <th>mean</th>\n",
       "      <td>79528.125933</td>\n",
       "      <td>87046.357036</td>\n",
       "    </tr>\n",
       "    <tr>\n",
       "      <th>std</th>\n",
       "      <td>32500.926417</td>\n",
       "      <td>35567.891886</td>\n",
       "    </tr>\n",
       "    <tr>\n",
       "      <th>min</th>\n",
       "      <td>44068.000000</td>\n",
       "      <td>46608.000000</td>\n",
       "    </tr>\n",
       "    <tr>\n",
       "      <th>25%</th>\n",
       "      <td>56566.000000</td>\n",
       "      <td>61978.000000</td>\n",
       "    </tr>\n",
       "    <tr>\n",
       "      <th>50%</th>\n",
       "      <td>65581.000000</td>\n",
       "      <td>72016.000000</td>\n",
       "    </tr>\n",
       "    <tr>\n",
       "      <th>75%</th>\n",
       "      <td>100670.000000</td>\n",
       "      <td>109970.250000</td>\n",
       "    </tr>\n",
       "    <tr>\n",
       "      <th>max</th>\n",
       "      <td>177246.000000</td>\n",
       "      <td>199883.000000</td>\n",
       "    </tr>\n",
       "  </tbody>\n",
       "</table>\n",
       "</div>"
      ],
      "text/plain": [
       "           OldSalary      NewSalary\n",
       "count    4018.000000    4008.000000\n",
       "mean    79528.125933   87046.357036\n",
       "std     32500.926417   35567.891886\n",
       "min     44068.000000   46608.000000\n",
       "25%     56566.000000   61978.000000\n",
       "50%     65581.000000   72016.000000\n",
       "75%    100670.000000  109970.250000\n",
       "max    177246.000000  199883.000000"
      ]
     },
     "execution_count": 83,
     "metadata": {},
     "output_type": "execute_result"
    }
   ],
   "source": [
    "# Display basic information\n",
    "print(\"Dataset Info:\")\n",
    "df.info()\n",
    "print(\"\\n\" + \"=\"*50)\n",
    "print(\"\\nBasic Statistics:\")\n",
    "df.describe()"
   ]
  },
  {
   "cell_type": "code",
   "execution_count": 84,
   "metadata": {},
   "outputs": [
    {
     "name": "stdout",
     "output_type": "stream",
     "text": [
      "Missing Values:\n",
      "            Missing_Count  Percentage\n",
      "ChangeID              469   10.759348\n",
      "EmployeeID            508   11.654049\n",
      "ChangeDate            455   10.438174\n",
      "OldSalary             341    7.822895\n",
      "NewSalary             351    8.052306\n",
      "Reason                467   10.713466\n"
     ]
    }
   ],
   "source": [
    "# Check for missing values\n",
    "print(\"Missing Values:\")\n",
    "missing = df.isnull().sum()\n",
    "missing_percent = (df.isnull().sum() / len(df)) * 100\n",
    "missing_df = pd.DataFrame({'Missing_Count': missing, 'Percentage': missing_percent})\n",
    "print(missing_df)"
   ]
  },
  {
   "cell_type": "code",
   "execution_count": 85,
   "metadata": {},
   "outputs": [
    {
     "name": "stdout",
     "output_type": "stream",
     "text": [
      "Total duplicate rows: 136\n",
      "Duplicate ChangeID values: 883\n"
     ]
    }
   ],
   "source": [
    "# Check for duplicates\n",
    "print(f\"Total duplicate rows: {df.duplicated().sum()}\")\n",
    "print(f\"Duplicate ChangeID values: {df['ChangeID'].duplicated().sum()}\")"
   ]
  },
  {
   "cell_type": "markdown",
   "metadata": {},
   "source": [
    "---\n",
    "## Data Cleaning Steps"
   ]
  },
  {
   "cell_type": "markdown",
   "metadata": {},
   "source": [
    "### Step 1: Delete Redundant Columns"
   ]
  },
  {
   "cell_type": "code",
   "execution_count": 86,
   "metadata": {},
   "outputs": [
    {
     "name": "stdout",
     "output_type": "stream",
     "text": [
      "All columns are relevant for analysis.\n",
      "Columns: ['ChangeID', 'EmployeeID', 'ChangeDate', 'OldSalary', 'NewSalary', 'Reason']\n"
     ]
    }
   ],
   "source": [
    "# Check for redundant columns\n",
    "# For Compensation_History, all columns appear to be relevant\n",
    "# No redundant columns to delete\n",
    "print(\"All columns are relevant for analysis.\")\n",
    "print(f\"Columns: {list(df.columns)}\")"
   ]
  },
  {
   "cell_type": "markdown",
   "metadata": {},
   "source": [
    "### Step 2: Drop / Rename the Columns"
   ]
  },
  {
   "cell_type": "code",
   "execution_count": 87,
   "metadata": {},
   "outputs": [
    {
     "name": "stdout",
     "output_type": "stream",
     "text": [
      "Renamed columns:\n",
      "['changeid', 'employeeid', 'changedate', 'oldsalary', 'newsalary', 'reason']\n"
     ]
    }
   ],
   "source": [
    "# Rename columns for consistency (snake_case)\n",
    "df.columns = df.columns.str.lower().str.replace(' ', '_')\n",
    "print(\"Renamed columns:\")\n",
    "print(list(df.columns))"
   ]
  },
  {
   "cell_type": "markdown",
   "metadata": {},
   "source": [
    "### Step 3: Remove Duplicates"
   ]
  },
  {
   "cell_type": "code",
   "execution_count": 88,
   "metadata": {},
   "outputs": [
    {
     "name": "stdout",
     "output_type": "stream",
     "text": [
      "Rows before removing duplicates: 4359\n",
      "Rows after removing duplicates: 4223\n",
      "Duplicates removed: 136\n"
     ]
    }
   ],
   "source": [
    "# Remove duplicate rows\n",
    "print(f\"Rows before removing duplicates: {len(df)}\")\n",
    "df = df.drop_duplicates()\n",
    "print(f\"Rows after removing duplicates: {len(df)}\")\n",
    "print(f\"Duplicates removed: {4359 - len(df)}\")"
   ]
  },
  {
   "cell_type": "markdown",
   "metadata": {},
   "source": [
    "### Step 4: Remove the NaN Values from the Dataset"
   ]
  },
  {
   "cell_type": "code",
   "execution_count": 89,
   "metadata": {},
   "outputs": [
    {
     "name": "stdout",
     "output_type": "stream",
     "text": [
      "Missing values before cleaning:\n",
      "changeid      469\n",
      "employeeid    508\n",
      "changedate    455\n",
      "oldsalary     341\n",
      "newsalary     351\n",
      "reason        467\n",
      "dtype: int64\n",
      "\n",
      "Total rows: 4223\n"
     ]
    }
   ],
   "source": [
    "# Check missing values before cleaning\n",
    "print(\"Missing values before cleaning:\")\n",
    "print(df.isnull().sum())\n",
    "print(f\"\\nTotal rows: {len(df)}\")"
   ]
  },
  {
   "cell_type": "code",
   "execution_count": 90,
   "metadata": {},
   "outputs": [
    {
     "name": "stdout",
     "output_type": "stream",
     "text": [
      "Rows after removing missing EmployeeID and ChangeDate: 3326\n"
     ]
    }
   ],
   "source": [
    "# Remove rows where critical columns are missing\n",
    "# Critical columns: EmployeeID, ChangeDate\n",
    "df = df.dropna(subset=['employeeid', 'changedate'])\n",
    "print(f\"Rows after removing missing EmployeeID and ChangeDate: {len(df)}\")"
   ]
  },
  {
   "cell_type": "code",
   "execution_count": 91,
   "metadata": {},
   "outputs": [
    {
     "name": "stdout",
     "output_type": "stream",
     "text": [
      "Rows after removing records with no salary data: 3302\n"
     ]
    }
   ],
   "source": [
    "# For salary columns, we need at least one salary value\n",
    "# Remove rows where both OldSalary and NewSalary are missing\n",
    "df = df.dropna(subset=['oldsalary', 'newsalary'], how='all')\n",
    "print(f\"Rows after removing records with no salary data: {len(df)}\")"
   ]
  },
  {
   "cell_type": "code",
   "execution_count": 92,
   "metadata": {},
   "outputs": [
    {
     "name": "stdout",
     "output_type": "stream",
     "text": [
      "\n",
      "Missing values after cleaning:\n",
      "changeid      356\n",
      "employeeid      0\n",
      "changedate      0\n",
      "oldsalary     220\n",
      "newsalary     242\n",
      "reason          0\n",
      "dtype: int64\n"
     ]
    }
   ],
   "source": [
    "# Fill missing Reason with 'Unknown'\n",
    "df['reason'] = df['reason'].fillna('Unknown')\n",
    "print(\"\\nMissing values after cleaning:\")\n",
    "print(df.isnull().sum())"
   ]
  },
  {
   "cell_type": "markdown",
   "metadata": {},
   "source": [
    "### Step 5: Clean Individual Columns"
   ]
  },
  {
   "cell_type": "markdown",
   "metadata": {},
   "source": [
    "#### 5.1 Clean ChangeID Column"
   ]
  },
  {
   "cell_type": "code",
   "execution_count": 93,
   "metadata": {},
   "outputs": [
    {
     "name": "stdout",
     "output_type": "stream",
     "text": [
      "Sample ChangeID values:\n",
      "0        COMP-1\n",
      "1           NaN\n",
      "2        COMP-3\n",
      "4       COMP-5 \n",
      "5        COMP-6\n",
      "7        COMP-7\n",
      "10      COMP-11\n",
      "13     COMP-14 \n",
      "15      COMP-16\n",
      "17      COMP-18\n",
      "18      COMP-19\n",
      "19      COMP-20\n",
      "20     COMP-21 \n",
      "21      COMP-22\n",
      "22      COMP-23\n",
      "23          NaN\n",
      "24      COMP-25\n",
      "27      COMP-28\n",
      "28      COMP-29\n",
      "29      COMP-30\n",
      "Name: changeid, dtype: object\n",
      "\n",
      "Missing ChangeID: 356\n"
     ]
    }
   ],
   "source": [
    "# Check ChangeID format\n",
    "print(\"Sample ChangeID values:\")\n",
    "print(df['changeid'].head(20))\n",
    "print(f\"\\nMissing ChangeID: {df['changeid'].isnull().sum()}\")"
   ]
  },
  {
   "cell_type": "code",
   "execution_count": 94,
   "metadata": {},
   "outputs": [
    {
     "name": "stdout",
     "output_type": "stream",
     "text": [
      "Generated 356 new ChangeIDs\n",
      "Missing ChangeID after cleaning: 0\n"
     ]
    }
   ],
   "source": [
    "# Generate ChangeID for missing values\n",
    "# Find the maximum number in existing ChangeIDs\n",
    "existing_ids = df['changeid'].dropna()\n",
    "max_id = existing_ids.str.extract(r'(\\d+)')[0].astype(float).max()\n",
    "\n",
    "# Fill missing ChangeIDs\n",
    "missing_count = df['changeid'].isnull().sum()\n",
    "if missing_count > 0:\n",
    "    new_ids = [f\"COMP-{int(max_id) + i + 1}\" for i in range(missing_count)]\n",
    "    df.loc[df['changeid'].isnull(), 'changeid'] = new_ids\n",
    "    \n",
    "print(f\"Generated {missing_count} new ChangeIDs\")\n",
    "print(f\"Missing ChangeID after cleaning: {df['changeid'].isnull().sum()}\")"
   ]
  },
  {
   "cell_type": "markdown",
   "metadata": {},
   "source": [
    "#### 5.2 Clean EmployeeID Column"
   ]
  },
  {
   "cell_type": "code",
   "execution_count": 95,
   "metadata": {},
   "outputs": [
    {
     "name": "stdout",
     "output_type": "stream",
     "text": [
      "Sample EmployeeID values:\n",
      "employeeid\n",
      "PNR-1352    5\n",
      "PNR-2673    5\n",
      "PNR-1241    5\n",
      "PNR-2249    4\n",
      "PNR-1032    4\n",
      "PNR-1038    4\n",
      "PNR-1554    4\n",
      "PNR-2311    4\n",
      "PNR-1245    4\n",
      "PNR-2167    4\n",
      "Name: count, dtype: int64\n",
      "\n",
      "Unique employees: 1917\n"
     ]
    }
   ],
   "source": [
    "# Check EmployeeID format\n",
    "print(\"Sample EmployeeID values:\")\n",
    "print(df['employeeid'].value_counts().head(10))\n",
    "print(f\"\\nUnique employees: {df['employeeid'].nunique()}\")"
   ]
  },
  {
   "cell_type": "code",
   "execution_count": 96,
   "metadata": {},
   "outputs": [
    {
     "name": "stdout",
     "output_type": "stream",
     "text": [
      "EmployeeID cleaned (whitespace removed)\n"
     ]
    }
   ],
   "source": [
    "# Remove any whitespace from EmployeeID\n",
    "df['employeeid'] = df['employeeid'].str.strip()\n",
    "print(\"EmployeeID cleaned (whitespace removed)\")"
   ]
  },
  {
   "cell_type": "markdown",
   "metadata": {},
   "source": [
    "#### 5.3 Clean ChangeDate Column"
   ]
  },
  {
   "cell_type": "code",
   "execution_count": 97,
   "metadata": {},
   "outputs": [
    {
     "name": "stdout",
     "output_type": "stream",
     "text": [
      "ChangeDate converted to datetime format\n",
      "Date range: 2018-11-06 00:00:00 to 2025-10-29 00:00:00\n",
      "Invalid dates (NaT): 0\n"
     ]
    }
   ],
   "source": [
    "# Convert ChangeDate to datetime\n",
    "# First, strip any whitespace from the date strings\n",
    "df['changedate'] = df['changedate'].str.strip()\n",
    "df['changedate'] = pd.to_datetime(df['changedate'], errors='coerce')\n",
    "print(\"ChangeDate converted to datetime format\")\n",
    "print(f\"Date range: {df['changedate'].min()} to {df['changedate'].max()}\")\n",
    "print(f\"Invalid dates (NaT): {df['changedate'].isnull().sum()}\")"
   ]
  },
  {
   "cell_type": "code",
   "execution_count": 98,
   "metadata": {},
   "outputs": [
    {
     "name": "stdout",
     "output_type": "stream",
     "text": [
      "Removed 0 rows with invalid dates\n",
      "Rows remaining: 3302\n"
     ]
    }
   ],
   "source": [
    "# Remove rows with invalid dates (NaT values)\n",
    "rows_before = len(df)\n",
    "df = df.dropna(subset=['changedate'])\n",
    "rows_after = len(df)\n",
    "print(f\"Removed {rows_before - rows_after} rows with invalid dates\")\n",
    "print(f\"Rows remaining: {rows_after}\")"
   ]
  },
  {
   "cell_type": "code",
   "execution_count": 99,
   "metadata": {},
   "outputs": [
    {
     "name": "stdout",
     "output_type": "stream",
     "text": [
      "\n",
      "Extracted date features: change_year, change_month, change_quarter\n"
     ]
    }
   ],
   "source": [
    "# Extract additional date features\n",
    "df['change_year'] = df['changedate'].dt.year\n",
    "df['change_month'] = df['changedate'].dt.month\n",
    "df['change_quarter'] = df['changedate'].dt.quarter\n",
    "print(\"\\nExtracted date features: change_year, change_month, change_quarter\")"
   ]
  },
  {
   "cell_type": "markdown",
   "metadata": {},
   "source": [
    "#### 5.4 Clean Salary Columns"
   ]
  },
  {
   "cell_type": "code",
   "execution_count": 100,
   "metadata": {},
   "outputs": [
    {
     "name": "stdout",
     "output_type": "stream",
     "text": [
      "OldSalary statistics:\n",
      "count      3082.000000\n",
      "mean      79473.285529\n",
      "std       32492.957906\n",
      "min       44068.000000\n",
      "25%       56684.250000\n",
      "50%       65359.500000\n",
      "75%      101134.250000\n",
      "max      176361.000000\n",
      "Name: oldsalary, dtype: float64\n",
      "\n",
      "NewSalary statistics:\n",
      "count      3060.000000\n",
      "mean      86865.699020\n",
      "std       35547.031913\n",
      "min       46608.000000\n",
      "25%       61983.000000\n",
      "50%       71634.500000\n",
      "75%      109793.000000\n",
      "max      199883.000000\n",
      "Name: newsalary, dtype: float64\n"
     ]
    }
   ],
   "source": [
    "# Check salary statistics\n",
    "print(\"OldSalary statistics:\")\n",
    "print(df['oldsalary'].describe())\n",
    "print(\"\\nNewSalary statistics:\")\n",
    "print(df['newsalary'].describe())"
   ]
  },
  {
   "cell_type": "code",
   "execution_count": 101,
   "metadata": {},
   "outputs": [
    {
     "name": "stdout",
     "output_type": "stream",
     "text": [
      "Negative OldSalary: 0\n",
      "Negative NewSalary: 0\n",
      "Zero OldSalary: 0\n",
      "Zero NewSalary: 0\n"
     ]
    }
   ],
   "source": [
    "# Check for negative or zero salaries\n",
    "print(f\"Negative OldSalary: {(df['oldsalary'] < 0).sum()}\")\n",
    "print(f\"Negative NewSalary: {(df['newsalary'] < 0).sum()}\")\n",
    "print(f\"Zero OldSalary: {(df['oldsalary'] == 0).sum()}\")\n",
    "print(f\"Zero NewSalary: {(df['newsalary'] == 0).sum()}\")"
   ]
  },
  {
   "cell_type": "code",
   "execution_count": 102,
   "metadata": {},
   "outputs": [
    {
     "name": "stdout",
     "output_type": "stream",
     "text": [
      "Rows after removing negative salaries: 3302\n"
     ]
    }
   ],
   "source": [
    "# Remove rows with negative salaries (if any)\n",
    "df = df[(df['oldsalary'] >= 0) | (df['oldsalary'].isnull())]\n",
    "df = df[(df['newsalary'] >= 0) | (df['newsalary'].isnull())]\n",
    "print(f\"Rows after removing negative salaries: {len(df)}\")"
   ]
  },
  {
   "cell_type": "markdown",
   "metadata": {},
   "source": [
    "#### 5.5 Clean Reason Column"
   ]
  },
  {
   "cell_type": "code",
   "execution_count": 103,
   "metadata": {},
   "outputs": [
    {
     "name": "stdout",
     "output_type": "stream",
     "text": [
      "Reason value counts:\n",
      "reason\n",
      "Promotion      1307\n",
      "Merit          1272\n",
      "Unknown         372\n",
      " Promotion      182\n",
      " Merit          169\n",
      "Name: count, dtype: int64\n"
     ]
    }
   ],
   "source": [
    "# Check Reason values\n",
    "print(\"Reason value counts:\")\n",
    "print(df['reason'].value_counts())"
   ]
  },
  {
   "cell_type": "code",
   "execution_count": 104,
   "metadata": {},
   "outputs": [
    {
     "name": "stdout",
     "output_type": "stream",
     "text": [
      "\n",
      "Reason values after standardization:\n",
      "reason\n",
      "Promotion    1489\n",
      "Merit        1441\n",
      "Unknown       372\n",
      "Name: count, dtype: int64\n"
     ]
    }
   ],
   "source": [
    "# Standardize Reason values (remove extra spaces, capitalize)\n",
    "df['reason'] = df['reason'].str.strip().str.title()\n",
    "print(\"\\nReason values after standardization:\")\n",
    "print(df['reason'].value_counts())"
   ]
  },
  {
   "cell_type": "markdown",
   "metadata": {},
   "source": [
    "### Step 6: Check for Some More Transformations"
   ]
  },
  {
   "cell_type": "markdown",
   "metadata": {},
   "source": [
    "#### 6.1 Create Calculated Columns"
   ]
  },
  {
   "cell_type": "code",
   "execution_count": 105,
   "metadata": {},
   "outputs": [
    {
     "name": "stdout",
     "output_type": "stream",
     "text": [
      "Created 'salary_change' column\n"
     ]
    }
   ],
   "source": [
    "# Calculate salary change amount\n",
    "df['salary_change'] = df['newsalary'] - df['oldsalary']\n",
    "print(\"Created 'salary_change' column\")"
   ]
  },
  {
   "cell_type": "code",
   "execution_count": 106,
   "metadata": {},
   "outputs": [
    {
     "name": "stdout",
     "output_type": "stream",
     "text": [
      "Created 'salary_direction' feature\n",
      "\n",
      "Salary direction distribution:\n",
      "salary_direction\n",
      "Increase    2840\n",
      "Unknown      462\n",
      "Name: count, dtype: int64\n"
     ]
    }
   ],
   "source": [
    "# Create salary increase/decrease flag\n",
    "df['salary_direction'] = df['salary_change'].apply(\n",
    "    lambda x: 'Increase' if x > 0 else ('Decrease' if x < 0 else 'No Change') if pd.notnull(x) else 'Unknown'\n",
    ")\n",
    "print(\"Created 'salary_direction' feature\")\n",
    "print(\"\\nSalary direction distribution:\")\n",
    "print(df['salary_direction'].value_counts())"
   ]
  },
  {
   "cell_type": "code",
   "execution_count": 107,
   "metadata": {},
   "outputs": [
    {
     "ename": "KeyError",
     "evalue": "'salary_change_pct'",
     "output_type": "error",
     "traceback": [
      "\u001b[1;31m---------------------------------------------------------------------------\u001b[0m",
      "\u001b[1;31mKeyError\u001b[0m                                  Traceback (most recent call last)",
      "File \u001b[1;32mc:\\Users\\deyus\\anaconda3\\Lib\\site-packages\\pandas\\core\\indexes\\base.py:3805\u001b[0m, in \u001b[0;36mIndex.get_loc\u001b[1;34m(self, key)\u001b[0m\n\u001b[0;32m   3804\u001b[0m \u001b[38;5;28;01mtry\u001b[39;00m:\n\u001b[1;32m-> 3805\u001b[0m     \u001b[38;5;28;01mreturn\u001b[39;00m \u001b[38;5;28mself\u001b[39m\u001b[38;5;241m.\u001b[39m_engine\u001b[38;5;241m.\u001b[39mget_loc(casted_key)\n\u001b[0;32m   3806\u001b[0m \u001b[38;5;28;01mexcept\u001b[39;00m \u001b[38;5;167;01mKeyError\u001b[39;00m \u001b[38;5;28;01mas\u001b[39;00m err:\n",
      "File \u001b[1;32mindex.pyx:167\u001b[0m, in \u001b[0;36mpandas._libs.index.IndexEngine.get_loc\u001b[1;34m()\u001b[0m\n",
      "File \u001b[1;32mindex.pyx:196\u001b[0m, in \u001b[0;36mpandas._libs.index.IndexEngine.get_loc\u001b[1;34m()\u001b[0m\n",
      "File \u001b[1;32mpandas\\\\_libs\\\\hashtable_class_helper.pxi:7081\u001b[0m, in \u001b[0;36mpandas._libs.hashtable.PyObjectHashTable.get_item\u001b[1;34m()\u001b[0m\n",
      "File \u001b[1;32mpandas\\\\_libs\\\\hashtable_class_helper.pxi:7089\u001b[0m, in \u001b[0;36mpandas._libs.hashtable.PyObjectHashTable.get_item\u001b[1;34m()\u001b[0m\n",
      "\u001b[1;31mKeyError\u001b[0m: 'salary_change_pct'",
      "\nThe above exception was the direct cause of the following exception:\n",
      "\u001b[1;31mKeyError\u001b[0m                                  Traceback (most recent call last)",
      "Cell \u001b[1;32mIn[107], line 3\u001b[0m\n\u001b[0;32m      1\u001b[0m \u001b[38;5;66;03m# Create salary change magnitude categories\u001b[39;00m\n\u001b[0;32m      2\u001b[0m df[\u001b[38;5;124m'\u001b[39m\u001b[38;5;124mchange_magnitude\u001b[39m\u001b[38;5;124m'\u001b[39m] \u001b[38;5;241m=\u001b[39m pd\u001b[38;5;241m.\u001b[39mcut(\n\u001b[1;32m----> 3\u001b[0m     df[\u001b[38;5;124m'\u001b[39m\u001b[38;5;124msalary_change_pct\u001b[39m\u001b[38;5;124m'\u001b[39m],\n\u001b[0;32m      4\u001b[0m     bins\u001b[38;5;241m=\u001b[39m[\u001b[38;5;241m-\u001b[39mnp\u001b[38;5;241m.\u001b[39minf, \u001b[38;5;241m5\u001b[39m, \u001b[38;5;241m10\u001b[39m, \u001b[38;5;241m15\u001b[39m, np\u001b[38;5;241m.\u001b[39minf],\n\u001b[0;32m      5\u001b[0m     labels\u001b[38;5;241m=\u001b[39m[\u001b[38;5;124m'\u001b[39m\u001b[38;5;124mSmall (≤5\u001b[39m\u001b[38;5;124m%\u001b[39m\u001b[38;5;124m)\u001b[39m\u001b[38;5;124m'\u001b[39m, \u001b[38;5;124m'\u001b[39m\u001b[38;5;124mMedium (5-10\u001b[39m\u001b[38;5;124m%\u001b[39m\u001b[38;5;124m)\u001b[39m\u001b[38;5;124m'\u001b[39m, \u001b[38;5;124m'\u001b[39m\u001b[38;5;124mLarge (10-15\u001b[39m\u001b[38;5;124m%\u001b[39m\u001b[38;5;124m)\u001b[39m\u001b[38;5;124m'\u001b[39m, \u001b[38;5;124m'\u001b[39m\u001b[38;5;124mVery Large (>15\u001b[39m\u001b[38;5;124m%\u001b[39m\u001b[38;5;124m)\u001b[39m\u001b[38;5;124m'\u001b[39m]\n\u001b[0;32m      6\u001b[0m )\n\u001b[0;32m      7\u001b[0m \u001b[38;5;28mprint\u001b[39m(\u001b[38;5;124m\"\u001b[39m\u001b[38;5;124mCreated \u001b[39m\u001b[38;5;124m'\u001b[39m\u001b[38;5;124mchange_magnitude\u001b[39m\u001b[38;5;124m'\u001b[39m\u001b[38;5;124m feature\u001b[39m\u001b[38;5;124m\"\u001b[39m)\n\u001b[0;32m      8\u001b[0m \u001b[38;5;28mprint\u001b[39m(\u001b[38;5;124m\"\u001b[39m\u001b[38;5;130;01m\\n\u001b[39;00m\u001b[38;5;124mChange magnitude distribution:\u001b[39m\u001b[38;5;124m\"\u001b[39m)\n",
      "File \u001b[1;32mc:\\Users\\deyus\\anaconda3\\Lib\\site-packages\\pandas\\core\\frame.py:4102\u001b[0m, in \u001b[0;36mDataFrame.__getitem__\u001b[1;34m(self, key)\u001b[0m\n\u001b[0;32m   4100\u001b[0m \u001b[38;5;28;01mif\u001b[39;00m \u001b[38;5;28mself\u001b[39m\u001b[38;5;241m.\u001b[39mcolumns\u001b[38;5;241m.\u001b[39mnlevels \u001b[38;5;241m>\u001b[39m \u001b[38;5;241m1\u001b[39m:\n\u001b[0;32m   4101\u001b[0m     \u001b[38;5;28;01mreturn\u001b[39;00m \u001b[38;5;28mself\u001b[39m\u001b[38;5;241m.\u001b[39m_getitem_multilevel(key)\n\u001b[1;32m-> 4102\u001b[0m indexer \u001b[38;5;241m=\u001b[39m \u001b[38;5;28mself\u001b[39m\u001b[38;5;241m.\u001b[39mcolumns\u001b[38;5;241m.\u001b[39mget_loc(key)\n\u001b[0;32m   4103\u001b[0m \u001b[38;5;28;01mif\u001b[39;00m is_integer(indexer):\n\u001b[0;32m   4104\u001b[0m     indexer \u001b[38;5;241m=\u001b[39m [indexer]\n",
      "File \u001b[1;32mc:\\Users\\deyus\\anaconda3\\Lib\\site-packages\\pandas\\core\\indexes\\base.py:3812\u001b[0m, in \u001b[0;36mIndex.get_loc\u001b[1;34m(self, key)\u001b[0m\n\u001b[0;32m   3807\u001b[0m     \u001b[38;5;28;01mif\u001b[39;00m \u001b[38;5;28misinstance\u001b[39m(casted_key, \u001b[38;5;28mslice\u001b[39m) \u001b[38;5;129;01mor\u001b[39;00m (\n\u001b[0;32m   3808\u001b[0m         \u001b[38;5;28misinstance\u001b[39m(casted_key, abc\u001b[38;5;241m.\u001b[39mIterable)\n\u001b[0;32m   3809\u001b[0m         \u001b[38;5;129;01mand\u001b[39;00m \u001b[38;5;28many\u001b[39m(\u001b[38;5;28misinstance\u001b[39m(x, \u001b[38;5;28mslice\u001b[39m) \u001b[38;5;28;01mfor\u001b[39;00m x \u001b[38;5;129;01min\u001b[39;00m casted_key)\n\u001b[0;32m   3810\u001b[0m     ):\n\u001b[0;32m   3811\u001b[0m         \u001b[38;5;28;01mraise\u001b[39;00m InvalidIndexError(key)\n\u001b[1;32m-> 3812\u001b[0m     \u001b[38;5;28;01mraise\u001b[39;00m \u001b[38;5;167;01mKeyError\u001b[39;00m(key) \u001b[38;5;28;01mfrom\u001b[39;00m \u001b[38;5;21;01merr\u001b[39;00m\n\u001b[0;32m   3813\u001b[0m \u001b[38;5;28;01mexcept\u001b[39;00m \u001b[38;5;167;01mTypeError\u001b[39;00m:\n\u001b[0;32m   3814\u001b[0m     \u001b[38;5;66;03m# If we have a listlike key, _check_indexing_error will raise\u001b[39;00m\n\u001b[0;32m   3815\u001b[0m     \u001b[38;5;66;03m#  InvalidIndexError. Otherwise we fall through and re-raise\u001b[39;00m\n\u001b[0;32m   3816\u001b[0m     \u001b[38;5;66;03m#  the TypeError.\u001b[39;00m\n\u001b[0;32m   3817\u001b[0m     \u001b[38;5;28mself\u001b[39m\u001b[38;5;241m.\u001b[39m_check_indexing_error(key)\n",
      "\u001b[1;31mKeyError\u001b[0m: 'salary_change_pct'"
     ]
    }
   ],
   "source": [
    "# Create salary change magnitude categories\n",
    "df['change_magnitude'] = pd.cut(\n",
    "    df['salary_change_pct'],\n",
    "    bins=[-np.inf, 5, 10, 15, np.inf],\n",
    "    labels=['Small (≤5%)', 'Medium (5-10%)', 'Large (10-15%)', 'Very Large (>15%)']\n",
    ")\n",
    "print(\"Created 'change_magnitude' feature\")\n",
    "print(\"\\nChange magnitude distribution:\")\n",
    "print(df['change_magnitude'].value_counts().sort_index())"
   ]
  },
  {
   "cell_type": "code",
   "execution_count": null,
   "metadata": {},
   "outputs": [],
   "source": [
    "# Calculate time between salary changes per employee\n",
    "df['prev_change_date'] = df.groupby('employeeid')['changedate'].shift(1)\n",
    "df['days_since_last_change'] = (df['changedate'] - df['prev_change_date']).dt.days\n",
    "df['months_since_last_change'] = (df['days_since_last_change'] / 30.44).round(1)\n",
    "\n",
    "print(\"Created time-based features:\")\n",
    "print(f\"- days_since_last_change\")\n",
    "print(f\"- months_since_last_change\")\n",
    "print(f\"\\nMonths since last change statistics:\")\n",
    "print(df['months_since_last_change'].describe())"
   ]
  },
  {
   "cell_type": "code",
   "execution_count": null,
   "metadata": {},
   "outputs": [],
   "source": [
    "# Calculate cumulative salary changes per employee\n",
    "df['change_number'] = df.groupby('employeeid').cumcount() + 1\n",
    "df['total_changes'] = df.groupby('employeeid')['employeeid'].transform('count')\n",
    "\n",
    "print(\"Created employee-level features:\")\n",
    "print(f\"- change_number (sequence of changes)\")\n",
    "print(f\"- total_changes (total compensation changes per employee)\")\n",
    "print(f\"\\nEmployees with most compensation changes:\")\n",
    "print(df.groupby('employeeid')['total_changes'].first().sort_values(ascending=False).head(10))"
   ]
  },
  {
   "cell_type": "code",
   "execution_count": null,
   "metadata": {},
   "outputs": [],
   "source": [
    "# Calculate first and current salary for each employee\n",
    "df['first_salary'] = df.groupby('employeeid')['oldsalary'].transform('first')\n",
    "df['current_salary'] = df.groupby('employeeid')['newsalary'].transform('last')\n",
    "\n",
    "# Calculate total salary growth\n",
    "df['total_salary_growth'] = df['current_salary'] - df['first_salary']\n",
    "df['total_growth_pct'] = ((df['current_salary'] - df['first_salary']) / df['first_salary'] * 100).round(2)\n",
    "\n",
    "print(\"Created cumulative growth features:\")\n",
    "print(f\"- first_salary, current_salary\")\n",
    "print(f\"- total_salary_growth, total_growth_pct\")\n",
    "print(f\"\\nTotal growth percentage statistics:\")\n",
    "print(df['total_growth_pct'].describe())"
   ]
  },
  {
   "cell_type": "code",
   "execution_count": null,
   "metadata": {},
   "outputs": [],
   "source": [
    "# Create reason-based features\n",
    "df['is_promotion'] = (df['reason'] == 'Promotion').astype(int)\n",
    "df['is_merit'] = (df['reason'] == 'Merit').astype(int)\n",
    "\n",
    "# Count promotions and merit increases per employee\n",
    "df['total_promotions'] = df.groupby('employeeid')['is_promotion'].transform('sum')\n",
    "df['total_merit_increases'] = df.groupby('employeeid')['is_merit'].transform('sum')\n",
    "\n",
    "print(\"Created reason-based features:\")\n",
    "print(f\"- is_promotion, is_merit (binary flags)\")\n",
    "print(f\"- total_promotions, total_merit_increases per employee\")\n",
    "print(f\"\\nPromotion vs Merit distribution:\")\n",
    "print(df[['is_promotion', 'is_merit']].sum())"
   ]
  },
  {
   "cell_type": "code",
   "execution_count": null,
   "metadata": {},
   "outputs": [
    {
     "name": "stdout",
     "output_type": "stream",
     "text": [
      "Created 'salary_change_pct' column\n",
      "\n",
      "Salary change percentage statistics:\n",
      "count    2840.000000\n",
      "mean       10.009155\n",
      "std         2.849999\n",
      "min         5.000000\n",
      "25%         8.000000\n",
      "50%        10.000000\n",
      "75%        12.000000\n",
      "max        15.000000\n",
      "Name: salary_change_pct, dtype: float64\n"
     ]
    }
   ],
   "source": [
    "# Calculate salary change percentage\n",
    "df['salary_change_pct'] = ((df['newsalary'] - df['oldsalary']) / df['oldsalary'] * 100).round(2)\n",
    "print(\"Created 'salary_change_pct' column\")\n",
    "print(f\"\\nSalary change percentage statistics:\")\n",
    "print(df['salary_change_pct'].describe())"
   ]
  },
  {
   "cell_type": "markdown",
   "metadata": {},
   "source": [
    "#### 6.2 Identify Outliers"
   ]
  },
  {
   "cell_type": "code",
   "execution_count": null,
   "metadata": {},
   "outputs": [
    {
     "name": "stdout",
     "output_type": "stream",
     "text": [
      "Outliers in NewSalary:\n",
      "Number of outliers: 28\n",
      "Percentage: 0.85%\n"
     ]
    }
   ],
   "source": [
    "# Check for salary outliers using IQR method\n",
    "def find_outliers(column):\n",
    "    Q1 = column.quantile(0.25)\n",
    "    Q3 = column.quantile(0.75)\n",
    "    IQR = Q3 - Q1\n",
    "    lower_bound = Q1 - 1.5 * IQR\n",
    "    upper_bound = Q3 + 1.5 * IQR\n",
    "    outliers = column[(column < lower_bound) | (column > upper_bound)]\n",
    "    return outliers\n",
    "\n",
    "print(\"Outliers in NewSalary:\")\n",
    "outliers_new = find_outliers(df['newsalary'].dropna())\n",
    "print(f\"Number of outliers: {len(outliers_new)}\")\n",
    "print(f\"Percentage: {len(outliers_new)/len(df)*100:.2f}%\")"
   ]
  },
  {
   "cell_type": "code",
   "execution_count": null,
   "metadata": {},
   "outputs": [
    {
     "data": {
      "image/png": "[encoded data removed]",
      "text/plain": [
       "<Figure size 1400x500 with 2 Axes>"
      ]
     },
     "metadata": {},
     "output_type": "display_data"
    }
   ],
   "source": [
    "# Visualize salary distribution\n",
    "fig, axes = plt.subplots(1, 2, figsize=(14, 5))\n",
    "\n",
    "axes[0].hist(df['newsalary'].dropna(), bins=50, edgecolor='black')\n",
    "axes[0].set_title('Distribution of New Salary')\n",
    "axes[0].set_xlabel('Salary')\n",
    "axes[0].set_ylabel('Frequency')\n",
    "\n",
    "axes[1].boxplot(df['newsalary'].dropna())\n",
    "axes[1].set_title('Boxplot of New Salary')\n",
    "axes[1].set_ylabel('Salary')\n",
    "\n",
    "plt.tight_layout()\n",
    "plt.show()"
   ]
  },
  {
   "cell_type": "markdown",
   "metadata": {},
   "source": [
    "#### 6.3 Sort Data"
   ]
  },
  {
   "cell_type": "code",
   "execution_count": null,
   "metadata": {},
   "outputs": [
    {
     "name": "stdout",
     "output_type": "stream",
     "text": [
      "Data sorted by EmployeeID and ChangeDate\n"
     ]
    },
    {
     "data": {
      "text/html": [
       "<div>\n",
       "<style scoped>\n",
       "    .dataframe tbody tr th:only-of-type {\n",
       "        vertical-align: middle;\n",
       "    }\n",
       "\n",
       "    .dataframe tbody tr th {\n",
       "        vertical-align: top;\n",
       "    }\n",
       "\n",
       "    .dataframe thead th {\n",
       "        text-align: right;\n",
       "    }\n",
       "</style>\n",
       "<table border=\"1\" class=\"dataframe\">\n",
       "  <thead>\n",
       "    <tr style=\"text-align: right;\">\n",
       "      <th></th>\n",
       "      <th>changeid</th>\n",
       "      <th>employeeid</th>\n",
       "      <th>changedate</th>\n",
       "      <th>oldsalary</th>\n",
       "      <th>newsalary</th>\n",
       "      <th>reason</th>\n",
       "      <th>change_year</th>\n",
       "      <th>change_month</th>\n",
       "      <th>change_quarter</th>\n",
       "      <th>salary_change</th>\n",
       "      <th>salary_change_pct</th>\n",
       "    </tr>\n",
       "  </thead>\n",
       "  <tbody>\n",
       "    <tr>\n",
       "      <th>0</th>\n",
       "      <td>COMP-1</td>\n",
       "      <td>PNR-1001</td>\n",
       "      <td>2022-05-02</td>\n",
       "      <td>63502.0</td>\n",
       "      <td>NaN</td>\n",
       "      <td>Merit</td>\n",
       "      <td>2022</td>\n",
       "      <td>5</td>\n",
       "      <td>2</td>\n",
       "      <td>NaN</td>\n",
       "      <td>NaN</td>\n",
       "    </tr>\n",
       "    <tr>\n",
       "      <th>1</th>\n",
       "      <td>COMP-4360</td>\n",
       "      <td>PNR-1001</td>\n",
       "      <td>2023-06-05</td>\n",
       "      <td>NaN</td>\n",
       "      <td>77522.0</td>\n",
       "      <td>Promotion</td>\n",
       "      <td>2023</td>\n",
       "      <td>6</td>\n",
       "      <td>2</td>\n",
       "      <td>NaN</td>\n",
       "      <td>NaN</td>\n",
       "    </tr>\n",
       "    <tr>\n",
       "      <th>2</th>\n",
       "      <td>COMP-3</td>\n",
       "      <td>PNR-1001</td>\n",
       "      <td>2024-05-10</td>\n",
       "      <td>77522.0</td>\n",
       "      <td>85274.0</td>\n",
       "      <td>Unknown</td>\n",
       "      <td>2024</td>\n",
       "      <td>5</td>\n",
       "      <td>2</td>\n",
       "      <td>7752.0</td>\n",
       "      <td>10.0</td>\n",
       "    </tr>\n",
       "    <tr>\n",
       "      <th>3</th>\n",
       "      <td>COMP-5</td>\n",
       "      <td>PNR-1002</td>\n",
       "      <td>2021-12-05</td>\n",
       "      <td>61221.0</td>\n",
       "      <td>67955.0</td>\n",
       "      <td>Promotion</td>\n",
       "      <td>2021</td>\n",
       "      <td>12</td>\n",
       "      <td>4</td>\n",
       "      <td>6734.0</td>\n",
       "      <td>11.0</td>\n",
       "    </tr>\n",
       "    <tr>\n",
       "      <th>4</th>\n",
       "      <td>COMP-6</td>\n",
       "      <td>PNR-1002</td>\n",
       "      <td>2022-12-06</td>\n",
       "      <td>67955.0</td>\n",
       "      <td>71352.0</td>\n",
       "      <td>Merit</td>\n",
       "      <td>2022</td>\n",
       "      <td>12</td>\n",
       "      <td>4</td>\n",
       "      <td>3397.0</td>\n",
       "      <td>5.0</td>\n",
       "    </tr>\n",
       "    <tr>\n",
       "      <th>5</th>\n",
       "      <td>COMP-7</td>\n",
       "      <td>PNR-1004</td>\n",
       "      <td>2020-12-26</td>\n",
       "      <td>49257.0</td>\n",
       "      <td>55167.0</td>\n",
       "      <td>Merit</td>\n",
       "      <td>2020</td>\n",
       "      <td>12</td>\n",
       "      <td>4</td>\n",
       "      <td>5910.0</td>\n",
       "      <td>12.0</td>\n",
       "    </tr>\n",
       "    <tr>\n",
       "      <th>6</th>\n",
       "      <td>COMP-11</td>\n",
       "      <td>PNR-1005</td>\n",
       "      <td>2025-07-19</td>\n",
       "      <td>121825.0</td>\n",
       "      <td>140098.0</td>\n",
       "      <td>Merit</td>\n",
       "      <td>2025</td>\n",
       "      <td>7</td>\n",
       "      <td>3</td>\n",
       "      <td>18273.0</td>\n",
       "      <td>15.0</td>\n",
       "    </tr>\n",
       "    <tr>\n",
       "      <th>7</th>\n",
       "      <td>COMP-14</td>\n",
       "      <td>PNR-1008</td>\n",
       "      <td>2024-06-13</td>\n",
       "      <td>63293.0</td>\n",
       "      <td>69622.0</td>\n",
       "      <td>Merit</td>\n",
       "      <td>2024</td>\n",
       "      <td>6</td>\n",
       "      <td>2</td>\n",
       "      <td>6329.0</td>\n",
       "      <td>10.0</td>\n",
       "    </tr>\n",
       "    <tr>\n",
       "      <th>8</th>\n",
       "      <td>COMP-16</td>\n",
       "      <td>PNR-1009</td>\n",
       "      <td>2023-03-01</td>\n",
       "      <td>47854.0</td>\n",
       "      <td>54553.0</td>\n",
       "      <td>Promotion</td>\n",
       "      <td>2023</td>\n",
       "      <td>3</td>\n",
       "      <td>1</td>\n",
       "      <td>6699.0</td>\n",
       "      <td>14.0</td>\n",
       "    </tr>\n",
       "    <tr>\n",
       "      <th>9</th>\n",
       "      <td>COMP-18</td>\n",
       "      <td>PNR-1009</td>\n",
       "      <td>2025-02-02</td>\n",
       "      <td>58371.0</td>\n",
       "      <td>61289.0</td>\n",
       "      <td>Merit</td>\n",
       "      <td>2025</td>\n",
       "      <td>2</td>\n",
       "      <td>1</td>\n",
       "      <td>2918.0</td>\n",
       "      <td>5.0</td>\n",
       "    </tr>\n",
       "  </tbody>\n",
       "</table>\n",
       "</div>"
      ],
      "text/plain": [
       "    changeid employeeid changedate  oldsalary  newsalary     reason  \\\n",
       "0     COMP-1   PNR-1001 2022-05-02    63502.0        NaN      Merit   \n",
       "1  COMP-4360   PNR-1001 2023-06-05        NaN    77522.0  Promotion   \n",
       "2     COMP-3   PNR-1001 2024-05-10    77522.0    85274.0    Unknown   \n",
       "3    COMP-5    PNR-1002 2021-12-05    61221.0    67955.0  Promotion   \n",
       "4     COMP-6   PNR-1002 2022-12-06    67955.0    71352.0      Merit   \n",
       "5     COMP-7   PNR-1004 2020-12-26    49257.0    55167.0      Merit   \n",
       "6    COMP-11   PNR-1005 2025-07-19   121825.0   140098.0      Merit   \n",
       "7   COMP-14    PNR-1008 2024-06-13    63293.0    69622.0      Merit   \n",
       "8    COMP-16   PNR-1009 2023-03-01    47854.0    54553.0  Promotion   \n",
       "9    COMP-18   PNR-1009 2025-02-02    58371.0    61289.0      Merit   \n",
       "\n",
       "   change_year  change_month  change_quarter  salary_change  salary_change_pct  \n",
       "0         2022             5               2            NaN                NaN  \n",
       "1         2023             6               2            NaN                NaN  \n",
       "2         2024             5               2         7752.0               10.0  \n",
       "3         2021            12               4         6734.0               11.0  \n",
       "4         2022            12               4         3397.0                5.0  \n",
       "5         2020            12               4         5910.0               12.0  \n",
       "6         2025             7               3        18273.0               15.0  \n",
       "7         2024             6               2         6329.0               10.0  \n",
       "8         2023             3               1         6699.0               14.0  \n",
       "9         2025             2               1         2918.0                5.0  "
      ]
     },
     "execution_count": 77,
     "metadata": {},
     "output_type": "execute_result"
    }
   ],
   "source": [
    "# Sort by EmployeeID and ChangeDate\n",
    "df = df.sort_values(['employeeid', 'changedate']).reset_index(drop=True)\n",
    "print(\"Data sorted by EmployeeID and ChangeDate\")\n",
    "df.head(10)"
   ]
  },
  {
   "cell_type": "markdown",
   "metadata": {},
   "source": [
    "#### 6.4 Final Data Quality Check"
   ]
  },
  {
   "cell_type": "code",
   "execution_count": null,
   "metadata": {},
   "outputs": [
    {
     "name": "stdout",
     "output_type": "stream",
     "text": [
      "============================================================\n",
      "FINAL DATA QUALITY SUMMARY\n",
      "============================================================\n",
      "\n",
      "Final dataset shape: (3302, 11)\n",
      "\n",
      "Columns: ['changeid', 'employeeid', 'changedate', 'oldsalary', 'newsalary', 'reason', 'change_year', 'change_month', 'change_quarter', 'salary_change', 'salary_change_pct']\n",
      "\n",
      "Missing values:\n",
      "changeid               0\n",
      "employeeid             0\n",
      "changedate             0\n",
      "oldsalary            220\n",
      "newsalary            242\n",
      "reason                 0\n",
      "change_year            0\n",
      "change_month           0\n",
      "change_quarter         0\n",
      "salary_change        462\n",
      "salary_change_pct    462\n",
      "dtype: int64\n",
      "\n",
      "Duplicate rows: 85\n",
      "\n",
      "Data types:\n",
      "changeid                     object\n",
      "employeeid                   object\n",
      "changedate           datetime64[ns]\n",
      "oldsalary                   float64\n",
      "newsalary                   float64\n",
      "reason                       object\n",
      "change_year                   int32\n",
      "change_month                  int32\n",
      "change_quarter                int32\n",
      "salary_change               float64\n",
      "salary_change_pct           float64\n",
      "dtype: object\n"
     ]
    }
   ],
   "source": [
    "# Final data quality summary\n",
    "print(\"=\" * 60)\n",
    "print(\"FINAL DATA QUALITY SUMMARY\")\n",
    "print(\"=\" * 60)\n",
    "print(f\"\\nFinal dataset shape: {df.shape}\")\n",
    "print(f\"\\nColumns: {list(df.columns)}\")\n",
    "print(f\"\\nMissing values:\")\n",
    "print(df.isnull().sum())\n",
    "print(f\"\\nDuplicate rows: {df.duplicated().sum()}\")\n",
    "print(f\"\\nData types:\")\n",
    "print(df.dtypes)"
   ]
  },
  {
   "cell_type": "code",
   "execution_count": null,
   "metadata": {},
   "outputs": [
    {
     "name": "stdout",
     "output_type": "stream",
     "text": [
      "\n",
      "Cleaned data sample:\n"
     ]
    },
    {
     "data": {
      "text/html": [
       "<div>\n",
       "<style scoped>\n",
       "    .dataframe tbody tr th:only-of-type {\n",
       "        vertical-align: middle;\n",
       "    }\n",
       "\n",
       "    .dataframe tbody tr th {\n",
       "        vertical-align: top;\n",
       "    }\n",
       "\n",
       "    .dataframe thead th {\n",
       "        text-align: right;\n",
       "    }\n",
       "</style>\n",
       "<table border=\"1\" class=\"dataframe\">\n",
       "  <thead>\n",
       "    <tr style=\"text-align: right;\">\n",
       "      <th></th>\n",
       "      <th>changeid</th>\n",
       "      <th>employeeid</th>\n",
       "      <th>changedate</th>\n",
       "      <th>oldsalary</th>\n",
       "      <th>newsalary</th>\n",
       "      <th>reason</th>\n",
       "      <th>change_year</th>\n",
       "      <th>change_month</th>\n",
       "      <th>change_quarter</th>\n",
       "      <th>salary_change</th>\n",
       "      <th>salary_change_pct</th>\n",
       "    </tr>\n",
       "  </thead>\n",
       "  <tbody>\n",
       "    <tr>\n",
       "      <th>0</th>\n",
       "      <td>COMP-1</td>\n",
       "      <td>PNR-1001</td>\n",
       "      <td>2022-05-02</td>\n",
       "      <td>63502.0</td>\n",
       "      <td>NaN</td>\n",
       "      <td>Merit</td>\n",
       "      <td>2022</td>\n",
       "      <td>5</td>\n",
       "      <td>2</td>\n",
       "      <td>NaN</td>\n",
       "      <td>NaN</td>\n",
       "    </tr>\n",
       "    <tr>\n",
       "      <th>1</th>\n",
       "      <td>COMP-4360</td>\n",
       "      <td>PNR-1001</td>\n",
       "      <td>2023-06-05</td>\n",
       "      <td>NaN</td>\n",
       "      <td>77522.0</td>\n",
       "      <td>Promotion</td>\n",
       "      <td>2023</td>\n",
       "      <td>6</td>\n",
       "      <td>2</td>\n",
       "      <td>NaN</td>\n",
       "      <td>NaN</td>\n",
       "    </tr>\n",
       "    <tr>\n",
       "      <th>2</th>\n",
       "      <td>COMP-3</td>\n",
       "      <td>PNR-1001</td>\n",
       "      <td>2024-05-10</td>\n",
       "      <td>77522.0</td>\n",
       "      <td>85274.0</td>\n",
       "      <td>Unknown</td>\n",
       "      <td>2024</td>\n",
       "      <td>5</td>\n",
       "      <td>2</td>\n",
       "      <td>7752.0</td>\n",
       "      <td>10.0</td>\n",
       "    </tr>\n",
       "    <tr>\n",
       "      <th>3</th>\n",
       "      <td>COMP-5</td>\n",
       "      <td>PNR-1002</td>\n",
       "      <td>2021-12-05</td>\n",
       "      <td>61221.0</td>\n",
       "      <td>67955.0</td>\n",
       "      <td>Promotion</td>\n",
       "      <td>2021</td>\n",
       "      <td>12</td>\n",
       "      <td>4</td>\n",
       "      <td>6734.0</td>\n",
       "      <td>11.0</td>\n",
       "    </tr>\n",
       "    <tr>\n",
       "      <th>4</th>\n",
       "      <td>COMP-6</td>\n",
       "      <td>PNR-1002</td>\n",
       "      <td>2022-12-06</td>\n",
       "      <td>67955.0</td>\n",
       "      <td>71352.0</td>\n",
       "      <td>Merit</td>\n",
       "      <td>2022</td>\n",
       "      <td>12</td>\n",
       "      <td>4</td>\n",
       "      <td>3397.0</td>\n",
       "      <td>5.0</td>\n",
       "    </tr>\n",
       "    <tr>\n",
       "      <th>5</th>\n",
       "      <td>COMP-7</td>\n",
       "      <td>PNR-1004</td>\n",
       "      <td>2020-12-26</td>\n",
       "      <td>49257.0</td>\n",
       "      <td>55167.0</td>\n",
       "      <td>Merit</td>\n",
       "      <td>2020</td>\n",
       "      <td>12</td>\n",
       "      <td>4</td>\n",
       "      <td>5910.0</td>\n",
       "      <td>12.0</td>\n",
       "    </tr>\n",
       "    <tr>\n",
       "      <th>6</th>\n",
       "      <td>COMP-11</td>\n",
       "      <td>PNR-1005</td>\n",
       "      <td>2025-07-19</td>\n",
       "      <td>121825.0</td>\n",
       "      <td>140098.0</td>\n",
       "      <td>Merit</td>\n",
       "      <td>2025</td>\n",
       "      <td>7</td>\n",
       "      <td>3</td>\n",
       "      <td>18273.0</td>\n",
       "      <td>15.0</td>\n",
       "    </tr>\n",
       "    <tr>\n",
       "      <th>7</th>\n",
       "      <td>COMP-14</td>\n",
       "      <td>PNR-1008</td>\n",
       "      <td>2024-06-13</td>\n",
       "      <td>63293.0</td>\n",
       "      <td>69622.0</td>\n",
       "      <td>Merit</td>\n",
       "      <td>2024</td>\n",
       "      <td>6</td>\n",
       "      <td>2</td>\n",
       "      <td>6329.0</td>\n",
       "      <td>10.0</td>\n",
       "    </tr>\n",
       "    <tr>\n",
       "      <th>8</th>\n",
       "      <td>COMP-16</td>\n",
       "      <td>PNR-1009</td>\n",
       "      <td>2023-03-01</td>\n",
       "      <td>47854.0</td>\n",
       "      <td>54553.0</td>\n",
       "      <td>Promotion</td>\n",
       "      <td>2023</td>\n",
       "      <td>3</td>\n",
       "      <td>1</td>\n",
       "      <td>6699.0</td>\n",
       "      <td>14.0</td>\n",
       "    </tr>\n",
       "    <tr>\n",
       "      <th>9</th>\n",
       "      <td>COMP-18</td>\n",
       "      <td>PNR-1009</td>\n",
       "      <td>2025-02-02</td>\n",
       "      <td>58371.0</td>\n",
       "      <td>61289.0</td>\n",
       "      <td>Merit</td>\n",
       "      <td>2025</td>\n",
       "      <td>2</td>\n",
       "      <td>1</td>\n",
       "      <td>2918.0</td>\n",
       "      <td>5.0</td>\n",
       "    </tr>\n",
       "  </tbody>\n",
       "</table>\n",
       "</div>"
      ],
      "text/plain": [
       "    changeid employeeid changedate  oldsalary  newsalary     reason  \\\n",
       "0     COMP-1   PNR-1001 2022-05-02    63502.0        NaN      Merit   \n",
       "1  COMP-4360   PNR-1001 2023-06-05        NaN    77522.0  Promotion   \n",
       "2     COMP-3   PNR-1001 2024-05-10    77522.0    85274.0    Unknown   \n",
       "3    COMP-5    PNR-1002 2021-12-05    61221.0    67955.0  Promotion   \n",
       "4     COMP-6   PNR-1002 2022-12-06    67955.0    71352.0      Merit   \n",
       "5     COMP-7   PNR-1004 2020-12-26    49257.0    55167.0      Merit   \n",
       "6    COMP-11   PNR-1005 2025-07-19   121825.0   140098.0      Merit   \n",
       "7   COMP-14    PNR-1008 2024-06-13    63293.0    69622.0      Merit   \n",
       "8    COMP-16   PNR-1009 2023-03-01    47854.0    54553.0  Promotion   \n",
       "9    COMP-18   PNR-1009 2025-02-02    58371.0    61289.0      Merit   \n",
       "\n",
       "   change_year  change_month  change_quarter  salary_change  salary_change_pct  \n",
       "0         2022             5               2            NaN                NaN  \n",
       "1         2023             6               2            NaN                NaN  \n",
       "2         2024             5               2         7752.0               10.0  \n",
       "3         2021            12               4         6734.0               11.0  \n",
       "4         2022            12               4         3397.0                5.0  \n",
       "5         2020            12               4         5910.0               12.0  \n",
       "6         2025             7               3        18273.0               15.0  \n",
       "7         2024             6               2         6329.0               10.0  \n",
       "8         2023             3               1         6699.0               14.0  \n",
       "9         2025             2               1         2918.0                5.0  "
      ]
     },
     "execution_count": 79,
     "metadata": {},
     "output_type": "execute_result"
    }
   ],
   "source": [
    "# Display cleaned data sample\n",
    "print(\"\\nCleaned data sample:\")\n",
    "df.head(10)"
   ]
  },
  {
   "cell_type": "markdown",
   "metadata": {},
   "source": [
    "### Save Cleaned Data"
   ]
  },
  {
   "cell_type": "code",
   "execution_count": null,
   "metadata": {},
   "outputs": [
    {
     "name": "stdout",
     "output_type": "stream",
     "text": [
      "Cleaned data saved to: ../data/processed/Compensation_History_cleaned.csv\n",
      "Total records saved: 3302\n"
     ]
    }
   ],
   "source": [
    "# Save cleaned data to processed folder\n",
    "output_path = '../data/processed/Compensation_History_cleaned.csv'\n",
    "df.to_csv(output_path, index=False)\n",
    "print(f\"Cleaned data saved to: {output_path}\")\n",
    "print(f\"Total records saved: {len(df)}\")"
   ]
  },
  {
   "cell_type": "markdown",
   "metadata": {},
   "source": [
    "---\n",
    "## Summary\n",
    "\n",
    "### Data Cleaning & Feature Engineering Completed Successfully!\n",
    "\n",
    "**Steps Performed:**\n",
    "1. ✅ Checked for redundant columns (none found)\n",
    "2. ✅ Renamed columns to snake_case format\n",
    "3. ✅ Removed duplicate rows\n",
    "4. ✅ Handled missing values appropriately\n",
    "5. ✅ Cleaned individual columns:\n",
    "   - Generated missing ChangeIDs\n",
    "   - Cleaned EmployeeID whitespace\n",
    "   - Converted ChangeDate to datetime\n",
    "   - Validated salary values\n",
    "   - Standardized Reason values\n",
    "6. ✅ **Created transformations & feature engineering:**\n",
    "   - **Date features**: year, month, quarter\n",
    "   - **Salary calculations**: change amount, percentage\n",
    "   - **Salary direction**: increase/decrease/no change flags\n",
    "   - **Change magnitude**: small, medium, large, very large categories\n",
    "   - **Time-based**: days/months since last change\n",
    "   - **Employee-level**: change sequence number, total changes per employee\n",
    "   - **Cumulative growth**: first salary, current salary, total growth amount & percentage\n",
    "   - **Reason-based**: promotion/merit binary flags and cumulative counts\n",
    "   - **Outlier detection**: IQR method for salary analysis\n",
    "\n",
    "**Feature Summary:**\n",
    "- Original columns: 6\n",
    "- Final columns: 25+\n",
    "- New features created: 19+\n",
    "\n",
    "**Next Steps:**\n",
    "- Perform similar cleaning on other datasets (Employee_Master, Headcount, Leave_Attendance, Recruitment_Funnel)\n",
    "- Merge datasets for comprehensive analysis\n",
    "- Begin exploratory data analysis\n",
    "- Create Power BI dashboard"
   ]
  }
 ],
 "metadata": {
  "kernelspec": {
   "display_name": "base",
   "language": "python",
   "name": "python3"
  },
  "language_info": {
   "codemirror_mode": {
    "name": "ipython",
    "version": 3
   },
   "file_extension": ".py",
   "mimetype": "text/x-python",
   "name": "python",
   "nbconvert_exporter": "python",
   "pygments_lexer": "ipython3",
   "version": "3.12.7"
  }
 },
 "nbformat": 4,
 "nbformat_minor": 4
}
