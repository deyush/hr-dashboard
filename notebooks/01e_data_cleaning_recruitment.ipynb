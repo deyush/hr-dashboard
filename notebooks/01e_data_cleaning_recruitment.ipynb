{
 "cells": [
  {
   "cell_type": "markdown",
   "metadata": {},
   "source": [
    "# HR Dashboard - Data Cleaning\n",
    "## Recruitment Funnel Dataset\n",
    "\n",
    "This notebook performs data cleaning, wrangling, and feature engineering on the Recruitment_Funnel dataset."
   ]
  },
  {
   "cell_type": "markdown",
   "metadata": {},
   "source": [
    "### Import Libraries"
   ]
  },
  {
   "cell_type": "code",
   "execution_count": 1,
   "metadata": {},
   "outputs": [],
   "source": [
    "import pandas as pd\n",
    "import numpy as np\n",
    "import matplotlib.pyplot as plt\n",
    "import warnings\n",
    "warnings.filterwarnings('ignore')"
   ]
  },
  {
   "cell_type": "markdown",
   "metadata": {},
   "source": [
    "### Load Raw Data"
   ]
  },
  {
   "cell_type": "code",
   "execution_count": 2,
   "metadata": {},
   "outputs": [
    {
     "name": "stdout",
     "output_type": "stream",
     "text": [
      "Original dataset shape: (24008, 7)\n"
     ]
    },
    {
     "data": {
      "text/html": [
       "<div>\n",
       "<style scoped>\n",
       "    .dataframe tbody tr th:only-of-type {\n",
       "        vertical-align: middle;\n",
       "    }\n",
       "\n",
       "    .dataframe tbody tr th {\n",
       "        vertical-align: top;\n",
       "    }\n",
       "\n",
       "    .dataframe thead th {\n",
       "        text-align: right;\n",
       "    }\n",
       "</style>\n",
       "<table border=\"1\" class=\"dataframe\">\n",
       "  <thead>\n",
       "    <tr style=\"text-align: right;\">\n",
       "      <th></th>\n",
       "      <th>CandidateID</th>\n",
       "      <th>PositionID</th>\n",
       "      <th>JobTitle</th>\n",
       "      <th>ApplicationDate</th>\n",
       "      <th>Source</th>\n",
       "      <th>Stage</th>\n",
       "      <th>DateatStage</th>\n",
       "    </tr>\n",
       "  </thead>\n",
       "  <tbody>\n",
       "    <tr>\n",
       "      <th>0</th>\n",
       "      <td>CAND-1</td>\n",
       "      <td>POS-1</td>\n",
       "      <td>NaN</td>\n",
       "      <td>2025-08-18</td>\n",
       "      <td>Indeed</td>\n",
       "      <td>Rejected</td>\n",
       "      <td>2025-08-18</td>\n",
       "    </tr>\n",
       "    <tr>\n",
       "      <th>1</th>\n",
       "      <td>CAND-2</td>\n",
       "      <td>POS-1</td>\n",
       "      <td>Regional Sales</td>\n",
       "      <td>2025-10-21</td>\n",
       "      <td>Employee Referral</td>\n",
       "      <td>Rejected</td>\n",
       "      <td>NaN</td>\n",
       "    </tr>\n",
       "    <tr>\n",
       "      <th>2</th>\n",
       "      <td>CAND-3</td>\n",
       "      <td>POS-1</td>\n",
       "      <td>NaN</td>\n",
       "      <td>2025-10-25</td>\n",
       "      <td>LinkedIn</td>\n",
       "      <td>Applied</td>\n",
       "      <td>2025-10-25</td>\n",
       "    </tr>\n",
       "    <tr>\n",
       "      <th>3</th>\n",
       "      <td>CAND-4</td>\n",
       "      <td>POS-1</td>\n",
       "      <td>Regional Sales</td>\n",
       "      <td>2025-10-25</td>\n",
       "      <td>Employee Referral</td>\n",
       "      <td>Screened</td>\n",
       "      <td>2025-10-29</td>\n",
       "    </tr>\n",
       "    <tr>\n",
       "      <th>4</th>\n",
       "      <td>CAND-5</td>\n",
       "      <td>POS-1</td>\n",
       "      <td>Regional Sales</td>\n",
       "      <td>2025-10-25</td>\n",
       "      <td>Job Fair</td>\n",
       "      <td>Interview 1</td>\n",
       "      <td>2025-11-04</td>\n",
       "    </tr>\n",
       "    <tr>\n",
       "      <th>5</th>\n",
       "      <td>CAND-6</td>\n",
       "      <td>POS-1</td>\n",
       "      <td>Regional Sales</td>\n",
       "      <td>NaN</td>\n",
       "      <td>Company Website</td>\n",
       "      <td>Interview 2</td>\n",
       "      <td>NaN</td>\n",
       "    </tr>\n",
       "    <tr>\n",
       "      <th>6</th>\n",
       "      <td>CAND-6</td>\n",
       "      <td>POS-1</td>\n",
       "      <td>Regional Sales</td>\n",
       "      <td>2025-10-25</td>\n",
       "      <td>Company Website</td>\n",
       "      <td>Interview 2</td>\n",
       "      <td>2025-11-06</td>\n",
       "    </tr>\n",
       "    <tr>\n",
       "      <th>7</th>\n",
       "      <td>CAND-8</td>\n",
       "      <td>POS-1</td>\n",
       "      <td>Regional Sales</td>\n",
       "      <td>2025-10-25</td>\n",
       "      <td>LinkedIn</td>\n",
       "      <td>Hired</td>\n",
       "      <td>2025-11-13</td>\n",
       "    </tr>\n",
       "    <tr>\n",
       "      <th>8</th>\n",
       "      <td>CAND-9</td>\n",
       "      <td>POS-1</td>\n",
       "      <td>Regional Sales</td>\n",
       "      <td>2025-09-25</td>\n",
       "      <td>NaN</td>\n",
       "      <td>Rejected</td>\n",
       "      <td>2025-09-25</td>\n",
       "    </tr>\n",
       "    <tr>\n",
       "      <th>9</th>\n",
       "      <td>CAND-10</td>\n",
       "      <td>POS-1</td>\n",
       "      <td>Regional Sales</td>\n",
       "      <td>2025-10-17</td>\n",
       "      <td>Indeed</td>\n",
       "      <td>NaN</td>\n",
       "      <td>2025-10-17</td>\n",
       "    </tr>\n",
       "  </tbody>\n",
       "</table>\n",
       "</div>"
      ],
      "text/plain": [
       "  CandidateID PositionID          JobTitle ApplicationDate  \\\n",
       "0     CAND-1       POS-1               NaN      2025-08-18   \n",
       "1      CAND-2      POS-1   Regional Sales       2025-10-21   \n",
       "2      CAND-3     POS-1                NaN      2025-10-25   \n",
       "3      CAND-4      POS-1    Regional Sales     2025-10-25    \n",
       "4     CAND-5       POS-1    Regional Sales      2025-10-25   \n",
       "5      CAND-6      POS-1    Regional Sales             NaN   \n",
       "6      CAND-6      POS-1    Regional Sales      2025-10-25   \n",
       "7      CAND-8      POS-1   Regional Sales       2025-10-25   \n",
       "8     CAND-9       POS-1    Regional Sales      2025-09-25   \n",
       "9     CAND-10      POS-1    Regional Sales      2025-10-17   \n",
       "\n",
       "                Source          Stage   DateatStage  \n",
       "0               Indeed       Rejected    2025-08-18  \n",
       "1   Employee Referral        Rejected           NaN  \n",
       "2             LinkedIn       Applied     2025-10-25  \n",
       "3    Employee Referral       Screened    2025-10-29  \n",
       "4             Job Fair   Interview 1     2025-11-04  \n",
       "5      Company Website    Interview 2           NaN  \n",
       "6      Company Website    Interview 2    2025-11-06  \n",
       "7             LinkedIn          Hired    2025-11-13  \n",
       "8                  NaN       Rejected    2025-09-25  \n",
       "9               Indeed            NaN   2025-10-17   "
      ]
     },
     "execution_count": 2,
     "metadata": {},
     "output_type": "execute_result"
    }
   ],
   "source": [
    "# Load the Recruitment Funnel dataset\n",
    "df = pd.read_csv('../data/raw/Recruitment_Funnel.csv')\n",
    "print(f\"Original dataset shape: {df.shape}\")\n",
    "df.head(10)"
   ]
  },
  {
   "cell_type": "markdown",
   "metadata": {},
   "source": [
    "### Initial Data Exploration"
   ]
  },
  {
   "cell_type": "code",
   "execution_count": 3,
   "metadata": {},
   "outputs": [
    {
     "name": "stdout",
     "output_type": "stream",
     "text": [
      "Dataset Info:\n",
      "<class 'pandas.core.frame.DataFrame'>\n",
      "RangeIndex: 24008 entries, 0 to 24007\n",
      "Data columns (total 7 columns):\n",
      " #   Column           Non-Null Count  Dtype \n",
      "---  ------           --------------  ----- \n",
      " 0   CandidateID      21408 non-null  object\n",
      " 1   PositionID       21385 non-null  object\n",
      " 2   JobTitle         21401 non-null  object\n",
      " 3   ApplicationDate  21315 non-null  object\n",
      " 4   Source           21359 non-null  object\n",
      " 5   Stage            21370 non-null  object\n",
      " 6   DateatStage      21413 non-null  object\n",
      "dtypes: object(7)\n",
      "memory usage: 1.3+ MB\n",
      "\n",
      "==================================================\n",
      "\n",
      "Basic Statistics:\n"
     ]
    },
    {
     "data": {
      "text/html": [
       "<div>\n",
       "<style scoped>\n",
       "    .dataframe tbody tr th:only-of-type {\n",
       "        vertical-align: middle;\n",
       "    }\n",
       "\n",
       "    .dataframe tbody tr th {\n",
       "        vertical-align: top;\n",
       "    }\n",
       "\n",
       "    .dataframe thead th {\n",
       "        text-align: right;\n",
       "    }\n",
       "</style>\n",
       "<table border=\"1\" class=\"dataframe\">\n",
       "  <thead>\n",
       "    <tr style=\"text-align: right;\">\n",
       "      <th></th>\n",
       "      <th>CandidateID</th>\n",
       "      <th>PositionID</th>\n",
       "      <th>JobTitle</th>\n",
       "      <th>ApplicationDate</th>\n",
       "      <th>Source</th>\n",
       "      <th>Stage</th>\n",
       "      <th>DateatStage</th>\n",
       "    </tr>\n",
       "  </thead>\n",
       "  <tbody>\n",
       "    <tr>\n",
       "      <th>count</th>\n",
       "      <td>21408</td>\n",
       "      <td>21385</td>\n",
       "      <td>21401</td>\n",
       "      <td>21315</td>\n",
       "      <td>21359</td>\n",
       "      <td>21370</td>\n",
       "      <td>21413</td>\n",
       "    </tr>\n",
       "    <tr>\n",
       "      <th>unique</th>\n",
       "      <td>19148</td>\n",
       "      <td>1127</td>\n",
       "      <td>14</td>\n",
       "      <td>237</td>\n",
       "      <td>10</td>\n",
       "      <td>14</td>\n",
       "      <td>285</td>\n",
       "    </tr>\n",
       "    <tr>\n",
       "      <th>top</th>\n",
       "      <td>CAND-16663</td>\n",
       "      <td>POS-118</td>\n",
       "      <td>QC</td>\n",
       "      <td>2025-09-28</td>\n",
       "      <td>LinkedIn</td>\n",
       "      <td>Rejected</td>\n",
       "      <td>2025-10-17</td>\n",
       "    </tr>\n",
       "    <tr>\n",
       "      <th>freq</th>\n",
       "      <td>2</td>\n",
       "      <td>59</td>\n",
       "      <td>3747</td>\n",
       "      <td>350</td>\n",
       "      <td>3824</td>\n",
       "      <td>5286</td>\n",
       "      <td>333</td>\n",
       "    </tr>\n",
       "  </tbody>\n",
       "</table>\n",
       "</div>"
      ],
      "text/plain": [
       "       CandidateID PositionID JobTitle ApplicationDate    Source     Stage  \\\n",
       "count        21408      21385    21401           21315     21359     21370   \n",
       "unique       19148       1127       14             237        10        14   \n",
       "top     CAND-16663    POS-118       QC      2025-09-28  LinkedIn  Rejected   \n",
       "freq             2         59     3747             350      3824      5286   \n",
       "\n",
       "       DateatStage  \n",
       "count        21413  \n",
       "unique         285  \n",
       "top     2025-10-17  \n",
       "freq           333  "
      ]
     },
     "execution_count": 3,
     "metadata": {},
     "output_type": "execute_result"
    }
   ],
   "source": [
    "# Display basic information\n",
    "print(\"Dataset Info:\")\n",
    "df.info()\n",
    "print(\"\\n\" + \"=\"*50)\n",
    "print(\"\\nBasic Statistics:\")\n",
    "df.describe()"
   ]
  },
  {
   "cell_type": "code",
   "execution_count": 4,
   "metadata": {},
   "outputs": [
    {
     "name": "stdout",
     "output_type": "stream",
     "text": [
      "Missing Values:\n",
      "                 Missing_Count  Percentage\n",
      "CandidateID               2600   10.829723\n",
      "PositionID                2623   10.925525\n",
      "JobTitle                  2607   10.858880\n",
      "ApplicationDate           2693   11.217094\n",
      "Source                    2649   11.033822\n",
      "Stage                     2638   10.988004\n",
      "DateatStage               2595   10.808897\n"
     ]
    }
   ],
   "source": [
    "# Check for missing values\n",
    "print(\"Missing Values:\")\n",
    "missing = df.isnull().sum()\n",
    "missing_percent = (df.isnull().sum() / len(df)) * 100\n",
    "missing_df = pd.DataFrame({'Missing_Count': missing, 'Percentage': missing_percent})\n",
    "print(missing_df)"
   ]
  },
  {
   "cell_type": "code",
   "execution_count": 5,
   "metadata": {},
   "outputs": [
    {
     "name": "stdout",
     "output_type": "stream",
     "text": [
      "Total duplicate rows: 376\n"
     ]
    }
   ],
   "source": [
    "# Check for duplicates\n",
    "print(f\"Total duplicate rows: {df.duplicated().sum()}\")"
   ]
  },
  {
   "cell_type": "markdown",
   "metadata": {},
   "source": [
    "---\n",
    "## Data Cleaning Steps"
   ]
  },
  {
   "cell_type": "markdown",
   "metadata": {},
   "source": [
    "### Step 1: Delete Redundant Columns"
   ]
  },
  {
   "cell_type": "code",
   "execution_count": 6,
   "metadata": {},
   "outputs": [
    {
     "name": "stdout",
     "output_type": "stream",
     "text": [
      "All columns are relevant for analysis.\n",
      "Columns: ['CandidateID', 'PositionID', 'JobTitle', 'ApplicationDate', 'Source', 'Stage', 'DateatStage']\n"
     ]
    }
   ],
   "source": [
    "# Check for redundant columns\n",
    "print(\"All columns are relevant for analysis.\")\n",
    "print(f\"Columns: {list(df.columns)}\")"
   ]
  },
  {
   "cell_type": "markdown",
   "metadata": {},
   "source": [
    "### Step 2: Drop / Rename the Columns"
   ]
  },
  {
   "cell_type": "code",
   "execution_count": 7,
   "metadata": {},
   "outputs": [
    {
     "name": "stdout",
     "output_type": "stream",
     "text": [
      "Renamed columns:\n",
      "['candidateid', 'positionid', 'jobtitle', 'applicationdate', 'source', 'stage', 'dateatstage']\n"
     ]
    }
   ],
   "source": [
    "# Rename columns for consistency (snake_case)\n",
    "df.columns = df.columns.str.lower().str.replace(' ', '_')\n",
    "print(\"Renamed columns:\")\n",
    "print(list(df.columns))"
   ]
  },
  {
   "cell_type": "markdown",
   "metadata": {},
   "source": [
    "### Step 3: Remove Duplicates"
   ]
  },
  {
   "cell_type": "code",
   "execution_count": 8,
   "metadata": {},
   "outputs": [
    {
     "name": "stdout",
     "output_type": "stream",
     "text": [
      "Rows before removing duplicates: 24008\n",
      "Rows after removing duplicates: 23632\n"
     ]
    }
   ],
   "source": [
    "# Remove duplicate rows\n",
    "print(f\"Rows before removing duplicates: {len(df)}\")\n",
    "df = df.drop_duplicates()\n",
    "print(f\"Rows after removing duplicates: {len(df)}\")"
   ]
  },
  {
   "cell_type": "markdown",
   "metadata": {},
   "source": [
    "### Step 4: Remove the NaN Values from the Dataset"
   ]
  },
  {
   "cell_type": "code",
   "execution_count": 9,
   "metadata": {},
   "outputs": [
    {
     "name": "stdout",
     "output_type": "stream",
     "text": [
      "Missing values before cleaning:\n",
      "candidateid        2600\n",
      "positionid         2623\n",
      "jobtitle           2607\n",
      "applicationdate    2693\n",
      "source             2649\n",
      "stage              2638\n",
      "dateatstage        2595\n",
      "dtype: int64\n",
      "\n",
      "Total rows: 23632\n"
     ]
    }
   ],
   "source": [
    "# Check missing values before cleaning\n",
    "print(\"Missing values before cleaning:\")\n",
    "print(df.isnull().sum())\n",
    "print(f\"\\nTotal rows: {len(df)}\")"
   ]
  },
  {
   "cell_type": "code",
   "execution_count": 10,
   "metadata": {},
   "outputs": [
    {
     "name": "stdout",
     "output_type": "stream",
     "text": [
      "Rows after removing missing critical fields: 16668\n"
     ]
    }
   ],
   "source": [
    "# Remove rows where critical columns are missing\n",
    "df = df.dropna(subset=['candidateid', 'positionid', 'applicationdate'])\n",
    "print(f\"Rows after removing missing critical fields: {len(df)}\")"
   ]
  },
  {
   "cell_type": "code",
   "execution_count": 11,
   "metadata": {},
   "outputs": [
    {
     "name": "stdout",
     "output_type": "stream",
     "text": [
      "\n",
      "Missing values after cleaning:\n",
      "candidateid           0\n",
      "positionid            0\n",
      "jobtitle              0\n",
      "applicationdate       0\n",
      "source                0\n",
      "stage                 0\n",
      "dateatstage        1686\n",
      "dtype: int64\n"
     ]
    }
   ],
   "source": [
    "# Fill missing values\n",
    "df['jobtitle'] = df['jobtitle'].fillna('Unknown')\n",
    "df['source'] = df['source'].fillna('Unknown')\n",
    "df['stage'] = df['stage'].fillna('Unknown')\n",
    "print(\"\\nMissing values after cleaning:\")\n",
    "print(df.isnull().sum())"
   ]
  },
  {
   "cell_type": "markdown",
   "metadata": {},
   "source": [
    "### Step 5: Clean Individual Columns"
   ]
  },
  {
   "cell_type": "markdown",
   "metadata": {},
   "source": [
    "#### 5.1 Clean CandidateID Column"
   ]
  },
  {
   "cell_type": "code",
   "execution_count": 12,
   "metadata": {},
   "outputs": [
    {
     "name": "stdout",
     "output_type": "stream",
     "text": [
      "CandidateID cleaned\n",
      "Unique candidates: 15003\n"
     ]
    }
   ],
   "source": [
    "# Clean CandidateID\n",
    "df['candidateid'] = df['candidateid'].str.strip()\n",
    "print(\"CandidateID cleaned\")\n",
    "print(f\"Unique candidates: {df['candidateid'].nunique()}\")"
   ]
  },
  {
   "cell_type": "markdown",
   "metadata": {},
   "source": [
    "#### 5.2 Clean PositionID Column"
   ]
  },
  {
   "cell_type": "code",
   "execution_count": 13,
   "metadata": {},
   "outputs": [
    {
     "name": "stdout",
     "output_type": "stream",
     "text": [
      "PositionID cleaned\n",
      "Unique positions: 568\n"
     ]
    }
   ],
   "source": [
    "# Clean PositionID\n",
    "df['positionid'] = df['positionid'].str.strip()\n",
    "print(\"PositionID cleaned\")\n",
    "print(f\"Unique positions: {df['positionid'].nunique()}\")"
   ]
  },
  {
   "cell_type": "markdown",
   "metadata": {},
   "source": [
    "#### 5.3 Clean JobTitle Column"
   ]
  },
  {
   "cell_type": "code",
   "execution_count": 14,
   "metadata": {},
   "outputs": [
    {
     "name": "stdout",
     "output_type": "stream",
     "text": [
      "JobTitle cleaned\n",
      "\n",
      "Top 10 job titles:\n",
      "jobtitle\n",
      "Qc                3015\n",
      "Operations        2355\n",
      "It                2023\n",
      "Marketing         1995\n",
      "Regional Sales    1907\n",
      "Research          1845\n",
      "Account           1813\n",
      "Unknown           1715\n",
      "Name: count, dtype: int64\n"
     ]
    }
   ],
   "source": [
    "# Clean JobTitle\n",
    "df['jobtitle'] = df['jobtitle'].str.strip().str.title()\n",
    "print(\"JobTitle cleaned\")\n",
    "print(f\"\\nTop 10 job titles:\")\n",
    "print(df['jobtitle'].value_counts().head(10))"
   ]
  },
  {
   "cell_type": "markdown",
   "metadata": {},
   "source": [
    "#### 5.4 Clean Date Columns"
   ]
  },
  {
   "cell_type": "code",
   "execution_count": 15,
   "metadata": {},
   "outputs": [
    {
     "name": "stdout",
     "output_type": "stream",
     "text": [
      "ApplicationDate converted to datetime\n",
      "Date range: 2025-07-01 00:00:00 to 2025-10-29 00:00:00\n"
     ]
    }
   ],
   "source": [
    "# Convert ApplicationDate to datetime\n",
    "df['applicationdate'] = df['applicationdate'].str.strip()\n",
    "df['applicationdate'] = pd.to_datetime(df['applicationdate'], errors='coerce')\n",
    "print(f\"ApplicationDate converted to datetime\")\n",
    "print(f\"Date range: {df['applicationdate'].min()} to {df['applicationdate'].max()}\")"
   ]
  },
  {
   "cell_type": "code",
   "execution_count": 16,
   "metadata": {},
   "outputs": [
    {
     "name": "stdout",
     "output_type": "stream",
     "text": [
      "DateatStage converted to datetime\n",
      "Date range: 2025-07-01 00:00:00 to 2025-11-25 00:00:00\n"
     ]
    }
   ],
   "source": [
    "# Convert DateatStage to datetime\n",
    "df['dateatstage'] = df['dateatstage'].str.strip()\n",
    "df['dateatstage'] = pd.to_datetime(df['dateatstage'], errors='coerce')\n",
    "print(f\"DateatStage converted to datetime\")\n",
    "print(f\"Date range: {df['dateatstage'].min()} to {df['dateatstage'].max()}\")"
   ]
  },
  {
   "cell_type": "code",
   "execution_count": 17,
   "metadata": {},
   "outputs": [
    {
     "name": "stdout",
     "output_type": "stream",
     "text": [
      "Removed 0 rows with invalid application dates\n"
     ]
    }
   ],
   "source": [
    "# Remove invalid dates\n",
    "rows_before = len(df)\n",
    "df = df.dropna(subset=['applicationdate'])\n",
    "print(f\"Removed {rows_before - len(df)} rows with invalid application dates\")"
   ]
  },
  {
   "cell_type": "code",
   "execution_count": 18,
   "metadata": {},
   "outputs": [
    {
     "name": "stdout",
     "output_type": "stream",
     "text": [
      "Extracted application date features\n"
     ]
    }
   ],
   "source": [
    "# Extract date features\n",
    "df['application_year'] = df['applicationdate'].dt.year\n",
    "df['application_month'] = df['applicationdate'].dt.month\n",
    "df['application_quarter'] = df['applicationdate'].dt.quarter\n",
    "df['application_month_name'] = df['applicationdate'].dt.strftime('%B')\n",
    "df['application_day_of_week'] = df['applicationdate'].dt.day_name()\n",
    "print(\"Extracted application date features\")"
   ]
  },
  {
   "cell_type": "markdown",
   "metadata": {},
   "source": [
    "#### 5.5 Clean Source Column"
   ]
  },
  {
   "cell_type": "code",
   "execution_count": 19,
   "metadata": {},
   "outputs": [
    {
     "name": "stdout",
     "output_type": "stream",
     "text": [
      "Source value counts (before):\n",
      "source\n",
      "LinkedIn               2669\n",
      "Employee Referral      2659\n",
      "Job Fair               2636\n",
      "Indeed                 2624\n",
      "Company Website        2539\n",
      "Unknown                1748\n",
      " Company Website        379\n",
      " Employee Referral      375\n",
      " Indeed                 364\n",
      " Job Fair               352\n",
      " LinkedIn               323\n",
      "Name: count, dtype: int64\n"
     ]
    }
   ],
   "source": [
    "# Check Source values\n",
    "print(\"Source value counts (before):\")\n",
    "print(df['source'].value_counts())"
   ]
  },
  {
   "cell_type": "code",
   "execution_count": 20,
   "metadata": {},
   "outputs": [
    {
     "name": "stdout",
     "output_type": "stream",
     "text": [
      "\n",
      "Source value counts (after):\n",
      "source\n",
      "Employee Referral    3034\n",
      "Linkedin             2992\n",
      "Indeed               2988\n",
      "Job Fair             2988\n",
      "Company Website      2918\n",
      "Unknown              1748\n",
      "Name: count, dtype: int64\n"
     ]
    }
   ],
   "source": [
    "# Clean Source\n",
    "df['source'] = df['source'].str.strip().str.title()\n",
    "print(\"\\nSource value counts (after):\")\n",
    "print(df['source'].value_counts())"
   ]
  },
  {
   "cell_type": "markdown",
   "metadata": {},
   "source": [
    "#### 5.6 Clean Stage Column"
   ]
  },
  {
   "cell_type": "code",
   "execution_count": 21,
   "metadata": {},
   "outputs": [
    {
     "name": "stdout",
     "output_type": "stream",
     "text": [
      "Stage value counts (before):\n",
      "stage\n",
      "Rejected         3633\n",
      "Applied          3123\n",
      "Screened         2222\n",
      "Unknown          1764\n",
      "Interview 1      1520\n",
      "Interview 2      1087\n",
      "Hired             783\n",
      "Offer             756\n",
      " Rejected         470\n",
      " Applied          457\n",
      " Screened         307\n",
      " Interview 1      206\n",
      " Interview 2      126\n",
      " Hired            109\n",
      " Offer            105\n",
      "Name: count, dtype: int64\n"
     ]
    }
   ],
   "source": [
    "# Check Stage values\n",
    "print(\"Stage value counts (before):\")\n",
    "print(df['stage'].value_counts())"
   ]
  },
  {
   "cell_type": "code",
   "execution_count": 22,
   "metadata": {},
   "outputs": [
    {
     "name": "stdout",
     "output_type": "stream",
     "text": [
      "\n",
      "Stage value counts (after):\n",
      "stage\n",
      "Rejected       4103\n",
      "Applied        3580\n",
      "Screened       2529\n",
      "Unknown        1764\n",
      "Interview 1    1726\n",
      "Interview 2    1213\n",
      "Hired           892\n",
      "Offer           861\n",
      "Name: count, dtype: int64\n"
     ]
    }
   ],
   "source": [
    "# Clean Stage\n",
    "df['stage'] = df['stage'].str.strip().str.title()\n",
    "print(\"\\nStage value counts (after):\")\n",
    "print(df['stage'].value_counts())"
   ]
  },
  {
   "cell_type": "markdown",
   "metadata": {},
   "source": [
    "### Step 6: Check for Some More Transformations"
   ]
  },
  {
   "cell_type": "markdown",
   "metadata": {},
   "source": [
    "#### 6.1 Create Stage Hierarchy Features"
   ]
  },
  {
   "cell_type": "code",
   "execution_count": 23,
   "metadata": {},
   "outputs": [
    {
     "name": "stdout",
     "output_type": "stream",
     "text": [
      "Created 'stage_number' feature\n"
     ]
    }
   ],
   "source": [
    "# Define stage order\n",
    "stage_order = {\n",
    "    'Applied': 1,\n",
    "    'Screened': 2,\n",
    "    'Interview 1': 3,\n",
    "    'Interview 2': 4,\n",
    "    'Offer': 5,\n",
    "    'Hired': 6,\n",
    "    'Rejected': 7,\n",
    "    'Unknown': 0\n",
    "}\n",
    "df['stage_number'] = df['stage'].map(stage_order)\n",
    "print(\"Created 'stage_number' feature\")"
   ]
  },
  {
   "cell_type": "markdown",
   "metadata": {},
   "source": [
    "#### 6.2 Create Stage Binary Flags"
   ]
  },
  {
   "cell_type": "code",
   "execution_count": 24,
   "metadata": {},
   "outputs": [
    {
     "name": "stdout",
     "output_type": "stream",
     "text": [
      "Created stage binary flags\n"
     ]
    }
   ],
   "source": [
    "# Create binary flags for stages\n",
    "df['is_applied'] = (df['stage'] == 'Applied').astype(int)\n",
    "df['is_screened'] = (df['stage'] == 'Screened').astype(int)\n",
    "df['is_interview1'] = (df['stage'] == 'Interview 1').astype(int)\n",
    "df['is_interview2'] = (df['stage'] == 'Interview 2').astype(int)\n",
    "df['is_offer'] = (df['stage'] == 'Offer').astype(int)\n",
    "df['is_hired'] = (df['stage'] == 'Hired').astype(int)\n",
    "df['is_rejected'] = (df['stage'] == 'Rejected').astype(int)\n",
    "print(\"Created stage binary flags\")"
   ]
  },
  {
   "cell_type": "markdown",
   "metadata": {},
   "source": [
    "#### 6.3 Create Source Binary Flags"
   ]
  },
  {
   "cell_type": "code",
   "execution_count": 25,
   "metadata": {},
   "outputs": [
    {
     "name": "stdout",
     "output_type": "stream",
     "text": [
      "Created source binary flags\n"
     ]
    }
   ],
   "source": [
    "# Create binary flags for sources\n",
    "df['is_linkedin'] = (df['source'] == 'Linkedin').astype(int)\n",
    "df['is_indeed'] = (df['source'] == 'Indeed').astype(int)\n",
    "df['is_referral'] = (df['source'] == 'Employee Referral').astype(int)\n",
    "df['is_company_website'] = (df['source'] == 'Company Website').astype(int)\n",
    "df['is_job_fair'] = (df['source'] == 'Job Fair').astype(int)\n",
    "print(\"Created source binary flags\")"
   ]
  },
  {
   "cell_type": "markdown",
   "metadata": {},
   "source": [
    "#### 6.4 Create Time-Based Features"
   ]
  },
  {
   "cell_type": "code",
   "execution_count": 26,
   "metadata": {},
   "outputs": [
    {
     "name": "stdout",
     "output_type": "stream",
     "text": [
      "Created 'days_in_process' feature\n",
      "\n",
      "Days in process statistics:\n",
      "count    16668.000000\n",
      "mean         6.157187\n",
      "std          7.129098\n",
      "min          0.000000\n",
      "25%          0.000000\n",
      "50%          4.000000\n",
      "75%         10.000000\n",
      "max         33.000000\n",
      "Name: days_in_process, dtype: float64\n"
     ]
    }
   ],
   "source": [
    "# Calculate time in recruitment process\n",
    "df['days_in_process'] = (df['dateatstage'] - df['applicationdate']).dt.days\n",
    "df['days_in_process'] = df['days_in_process'].fillna(0)\n",
    "print(\"Created 'days_in_process' feature\")\n",
    "print(f\"\\nDays in process statistics:\")\n",
    "print(df['days_in_process'].describe())"
   ]
  },
  {
   "cell_type": "markdown",
   "metadata": {},
   "source": [
    "#### 6.5 Create Position-Level Aggregations"
   ]
  },
  {
   "cell_type": "code",
   "execution_count": 27,
   "metadata": {},
   "outputs": [
    {
     "name": "stdout",
     "output_type": "stream",
     "text": [
      "Created position-level metrics\n"
     ]
    }
   ],
   "source": [
    "# Calculate position metrics\n",
    "df['applications_per_position'] = df.groupby('positionid')['candidateid'].transform('count')\n",
    "df['hires_per_position'] = df.groupby('positionid')['is_hired'].transform('sum')\n",
    "df['rejections_per_position'] = df.groupby('positionid')['is_rejected'].transform('sum')\n",
    "print(\"Created position-level metrics\")"
   ]
  },
  {
   "cell_type": "markdown",
   "metadata": {},
   "source": [
    "#### 6.6 Create Conversion Metrics"
   ]
  },
  {
   "cell_type": "code",
   "execution_count": 28,
   "metadata": {},
   "outputs": [
    {
     "name": "stdout",
     "output_type": "stream",
     "text": [
      "Position-level conversion rates:\n",
      "            total_applications  is_screened  is_interview1  is_interview2  \\\n",
      "positionid                                                                  \n",
      "POS-1                       21            2              1              1   \n",
      "POS-10                      35            8              5              2   \n",
      "POS-100                     32            2              4              1   \n",
      "POS-101                     25            2              5              2   \n",
      "POS-102                     18            0              0              0   \n",
      "POS-103                     44            8              2              6   \n",
      "POS-104                     49            6              5              4   \n",
      "POS-105                     26            2              3              0   \n",
      "POS-106                     28            4              3              2   \n",
      "POS-107                     29            8              2              2   \n",
      "\n",
      "            is_offer  is_hired  screening_rate  interview1_rate  hire_rate  \n",
      "positionid                                                                  \n",
      "POS-1              0         1            9.52             4.76       4.76  \n",
      "POS-10             2         4           22.86            14.29      11.43  \n",
      "POS-100            2         3            6.25            12.50       9.38  \n",
      "POS-101            1         2            8.00            20.00       8.00  \n",
      "POS-102            0         0            0.00             0.00       0.00  \n",
      "POS-103            3         2           18.18             4.55       4.55  \n",
      "POS-104            4         2           12.24            10.20       4.08  \n",
      "POS-105            1         2            7.69            11.54       7.69  \n",
      "POS-106            1         0           14.29            10.71       0.00  \n",
      "POS-107            1         1           27.59             6.90       3.45  \n"
     ]
    }
   ],
   "source": [
    "# Calculate conversion rates at position level\n",
    "position_stats = df.groupby('positionid').agg({\n",
    "    'candidateid': 'count',\n",
    "    'is_screened': 'sum',\n",
    "    'is_interview1': 'sum',\n",
    "    'is_interview2': 'sum',\n",
    "    'is_offer': 'sum',\n",
    "    'is_hired': 'sum'\n",
    "}).rename(columns={'candidateid': 'total_applications'})\n",
    "\n",
    "position_stats['screening_rate'] = (position_stats['is_screened'] / position_stats['total_applications'] * 100).round(2)\n",
    "position_stats['interview1_rate'] = (position_stats['is_interview1'] / position_stats['total_applications'] * 100).round(2)\n",
    "position_stats['hire_rate'] = (position_stats['is_hired'] / position_stats['total_applications'] * 100).round(2)\n",
    "\n",
    "print(\"Position-level conversion rates:\")\n",
    "print(position_stats.head(10))"
   ]
  },
  {
   "cell_type": "markdown",
   "metadata": {},
   "source": [
    "#### 6.7 Create Source Effectiveness Metrics"
   ]
  },
  {
   "cell_type": "code",
   "execution_count": 29,
   "metadata": {},
   "outputs": [
    {
     "name": "stdout",
     "output_type": "stream",
     "text": [
      "\n",
      "Source effectiveness:\n",
      "                   total_candidates  is_hired  is_rejected  hire_rate  \\\n",
      "source                                                                  \n",
      "Company Website                2918       171          729       5.86   \n",
      "Employee Referral              3034       161          781       5.31   \n",
      "Linkedin                       2992       158          691       5.28   \n",
      "Unknown                        1748        92          415       5.26   \n",
      "Indeed                         2988       156          735       5.22   \n",
      "Job Fair                       2988       154          752       5.15   \n",
      "\n",
      "                   rejection_rate  \n",
      "source                             \n",
      "Company Website             24.98  \n",
      "Employee Referral           25.74  \n",
      "Linkedin                    23.09  \n",
      "Unknown                     23.74  \n",
      "Indeed                      24.60  \n",
      "Job Fair                    25.17  \n"
     ]
    }
   ],
   "source": [
    "# Calculate source effectiveness\n",
    "source_stats = df.groupby('source').agg({\n",
    "    'candidateid': 'count',\n",
    "    'is_hired': 'sum',\n",
    "    'is_rejected': 'sum'\n",
    "}).rename(columns={'candidateid': 'total_candidates'})\n",
    "\n",
    "source_stats['hire_rate'] = (source_stats['is_hired'] / source_stats['total_candidates'] * 100).round(2)\n",
    "source_stats['rejection_rate'] = (source_stats['is_rejected'] / source_stats['total_candidates'] * 100).round(2)\n",
    "\n",
    "print(\"\\nSource effectiveness:\")\n",
    "print(source_stats.sort_values('hire_rate', ascending=False))"
   ]
  },
  {
   "cell_type": "markdown",
   "metadata": {},
   "source": [
    "#### 6.8 Create Candidate Journey Features"
   ]
  },
  {
   "cell_type": "code",
   "execution_count": 30,
   "metadata": {},
   "outputs": [
    {
     "name": "stdout",
     "output_type": "stream",
     "text": [
      "Created candidate journey features\n"
     ]
    }
   ],
   "source": [
    "# Count stages per candidate\n",
    "candidate_stages = df.groupby('candidateid').agg({\n",
    "    'stage': 'count',\n",
    "    'stage_number': 'max'\n",
    "}).rename(columns={'stage': 'stage_count', 'stage_number': 'furthest_stage'})\n",
    "\n",
    "df = df.merge(candidate_stages, on='candidateid', how='left')\n",
    "print(\"Created candidate journey features\")"
   ]
  },
  {
   "cell_type": "markdown",
   "metadata": {},
   "source": [
    "#### 6.9 Create Seasonal Features"
   ]
  },
  {
   "cell_type": "code",
   "execution_count": 31,
   "metadata": {},
   "outputs": [
    {
     "name": "stdout",
     "output_type": "stream",
     "text": [
      "Created 'application_season' feature\n",
      "\n",
      "Applications by season:\n",
      "application_season\n",
      "Fall      13063\n",
      "Summer     3605\n",
      "Name: count, dtype: int64\n"
     ]
    }
   ],
   "source": [
    "# Create season feature\n",
    "def get_season(month):\n",
    "    if month in [12, 1, 2]:\n",
    "        return 'Winter'\n",
    "    elif month in [3, 4, 5]:\n",
    "        return 'Spring'\n",
    "    elif month in [6, 7, 8]:\n",
    "        return 'Summer'\n",
    "    else:\n",
    "        return 'Fall'\n",
    "\n",
    "df['application_season'] = df['application_month'].apply(get_season)\n",
    "print(\"Created 'application_season' feature\")\n",
    "print(\"\\nApplications by season:\")\n",
    "print(df['application_season'].value_counts())"
   ]
  },
  {
   "cell_type": "markdown",
   "metadata": {},
   "source": [
    "#### 6.10 Create Success Indicators"
   ]
  },
  {
   "cell_type": "code",
   "execution_count": 32,
   "metadata": {},
   "outputs": [
    {
     "name": "stdout",
     "output_type": "stream",
     "text": [
      "Created 'recruitment_outcome' feature\n",
      "\n",
      "Recruitment outcome distribution:\n",
      "recruitment_outcome\n",
      "In Progress - Early       6109\n",
      "Rejected                  4103\n",
      "In Progress - Advanced    2939\n",
      "Unknown                   1764\n",
      "Hired                      892\n",
      "Offer Stage                861\n",
      "Name: count, dtype: int64\n"
     ]
    }
   ],
   "source": [
    "# Create success category\n",
    "def categorize_outcome(row):\n",
    "    if row['is_hired'] == 1:\n",
    "        return 'Hired'\n",
    "    elif row['is_rejected'] == 1:\n",
    "        return 'Rejected'\n",
    "    elif row['is_offer'] == 1:\n",
    "        return 'Offer Stage'\n",
    "    elif row['stage_number'] >= 3:\n",
    "        return 'In Progress - Advanced'\n",
    "    elif row['stage_number'] >= 1:\n",
    "        return 'In Progress - Early'\n",
    "    else:\n",
    "        return 'Unknown'\n",
    "\n",
    "df['recruitment_outcome'] = df.apply(categorize_outcome, axis=1)\n",
    "print(\"Created 'recruitment_outcome' feature\")\n",
    "print(\"\\nRecruitment outcome distribution:\")\n",
    "print(df['recruitment_outcome'].value_counts())"
   ]
  },
  {
   "cell_type": "markdown",
   "metadata": {},
   "source": [
    "#### 6.11 Sort Data"
   ]
  },
  {
   "cell_type": "code",
   "execution_count": 33,
   "metadata": {},
   "outputs": [
    {
     "name": "stdout",
     "output_type": "stream",
     "text": [
      "Data sorted by PositionID and ApplicationDate\n"
     ]
    },
    {
     "data": {
      "text/html": [
       "<div>\n",
       "<style scoped>\n",
       "    .dataframe tbody tr th:only-of-type {\n",
       "        vertical-align: middle;\n",
       "    }\n",
       "\n",
       "    .dataframe tbody tr th {\n",
       "        vertical-align: top;\n",
       "    }\n",
       "\n",
       "    .dataframe thead th {\n",
       "        text-align: right;\n",
       "    }\n",
       "</style>\n",
       "<table border=\"1\" class=\"dataframe\">\n",
       "  <thead>\n",
       "    <tr style=\"text-align: right;\">\n",
       "      <th></th>\n",
       "      <th>candidateid</th>\n",
       "      <th>positionid</th>\n",
       "      <th>jobtitle</th>\n",
       "      <th>applicationdate</th>\n",
       "      <th>source</th>\n",
       "      <th>stage</th>\n",
       "      <th>dateatstage</th>\n",
       "      <th>application_year</th>\n",
       "      <th>application_month</th>\n",
       "      <th>application_quarter</th>\n",
       "      <th>...</th>\n",
       "      <th>is_company_website</th>\n",
       "      <th>is_job_fair</th>\n",
       "      <th>days_in_process</th>\n",
       "      <th>applications_per_position</th>\n",
       "      <th>hires_per_position</th>\n",
       "      <th>rejections_per_position</th>\n",
       "      <th>stage_count</th>\n",
       "      <th>furthest_stage</th>\n",
       "      <th>application_season</th>\n",
       "      <th>recruitment_outcome</th>\n",
       "    </tr>\n",
       "  </thead>\n",
       "  <tbody>\n",
       "    <tr>\n",
       "      <th>0</th>\n",
       "      <td>CAND-1</td>\n",
       "      <td>POS-1</td>\n",
       "      <td>Unknown</td>\n",
       "      <td>2025-08-18</td>\n",
       "      <td>Indeed</td>\n",
       "      <td>Rejected</td>\n",
       "      <td>2025-08-18</td>\n",
       "      <td>2025</td>\n",
       "      <td>8</td>\n",
       "      <td>3</td>\n",
       "      <td>...</td>\n",
       "      <td>0</td>\n",
       "      <td>0</td>\n",
       "      <td>0.0</td>\n",
       "      <td>21</td>\n",
       "      <td>1</td>\n",
       "      <td>8</td>\n",
       "      <td>1</td>\n",
       "      <td>7</td>\n",
       "      <td>Summer</td>\n",
       "      <td>Rejected</td>\n",
       "    </tr>\n",
       "    <tr>\n",
       "      <th>1</th>\n",
       "      <td>CAND-15</td>\n",
       "      <td>POS-1</td>\n",
       "      <td>Regional Sales</td>\n",
       "      <td>2025-09-07</td>\n",
       "      <td>Employee Referral</td>\n",
       "      <td>Unknown</td>\n",
       "      <td>2025-09-07</td>\n",
       "      <td>2025</td>\n",
       "      <td>9</td>\n",
       "      <td>3</td>\n",
       "      <td>...</td>\n",
       "      <td>0</td>\n",
       "      <td>0</td>\n",
       "      <td>0.0</td>\n",
       "      <td>21</td>\n",
       "      <td>1</td>\n",
       "      <td>8</td>\n",
       "      <td>1</td>\n",
       "      <td>0</td>\n",
       "      <td>Fall</td>\n",
       "      <td>Unknown</td>\n",
       "    </tr>\n",
       "    <tr>\n",
       "      <th>2</th>\n",
       "      <td>CAND-13</td>\n",
       "      <td>POS-1</td>\n",
       "      <td>Unknown</td>\n",
       "      <td>2025-09-14</td>\n",
       "      <td>Job Fair</td>\n",
       "      <td>Rejected</td>\n",
       "      <td>2025-09-14</td>\n",
       "      <td>2025</td>\n",
       "      <td>9</td>\n",
       "      <td>3</td>\n",
       "      <td>...</td>\n",
       "      <td>0</td>\n",
       "      <td>1</td>\n",
       "      <td>0.0</td>\n",
       "      <td>21</td>\n",
       "      <td>1</td>\n",
       "      <td>8</td>\n",
       "      <td>1</td>\n",
       "      <td>7</td>\n",
       "      <td>Fall</td>\n",
       "      <td>Rejected</td>\n",
       "    </tr>\n",
       "    <tr>\n",
       "      <th>3</th>\n",
       "      <td>CAND-16</td>\n",
       "      <td>POS-1</td>\n",
       "      <td>Regional Sales</td>\n",
       "      <td>2025-09-15</td>\n",
       "      <td>Employee Referral</td>\n",
       "      <td>Applied</td>\n",
       "      <td>2025-09-15</td>\n",
       "      <td>2025</td>\n",
       "      <td>9</td>\n",
       "      <td>3</td>\n",
       "      <td>...</td>\n",
       "      <td>0</td>\n",
       "      <td>0</td>\n",
       "      <td>0.0</td>\n",
       "      <td>21</td>\n",
       "      <td>1</td>\n",
       "      <td>8</td>\n",
       "      <td>2</td>\n",
       "      <td>1</td>\n",
       "      <td>Fall</td>\n",
       "      <td>In Progress - Early</td>\n",
       "    </tr>\n",
       "    <tr>\n",
       "      <th>4</th>\n",
       "      <td>CAND-16</td>\n",
       "      <td>POS-1</td>\n",
       "      <td>Regional Sales</td>\n",
       "      <td>2025-09-15</td>\n",
       "      <td>Employee Referral</td>\n",
       "      <td>Applied</td>\n",
       "      <td>2025-09-15</td>\n",
       "      <td>2025</td>\n",
       "      <td>9</td>\n",
       "      <td>3</td>\n",
       "      <td>...</td>\n",
       "      <td>0</td>\n",
       "      <td>0</td>\n",
       "      <td>0.0</td>\n",
       "      <td>21</td>\n",
       "      <td>1</td>\n",
       "      <td>8</td>\n",
       "      <td>2</td>\n",
       "      <td>1</td>\n",
       "      <td>Fall</td>\n",
       "      <td>In Progress - Early</td>\n",
       "    </tr>\n",
       "    <tr>\n",
       "      <th>5</th>\n",
       "      <td>CAND-14</td>\n",
       "      <td>POS-1</td>\n",
       "      <td>Regional Sales</td>\n",
       "      <td>2025-09-20</td>\n",
       "      <td>Indeed</td>\n",
       "      <td>Rejected</td>\n",
       "      <td>2025-09-20</td>\n",
       "      <td>2025</td>\n",
       "      <td>9</td>\n",
       "      <td>3</td>\n",
       "      <td>...</td>\n",
       "      <td>0</td>\n",
       "      <td>0</td>\n",
       "      <td>0.0</td>\n",
       "      <td>21</td>\n",
       "      <td>1</td>\n",
       "      <td>8</td>\n",
       "      <td>1</td>\n",
       "      <td>7</td>\n",
       "      <td>Fall</td>\n",
       "      <td>Rejected</td>\n",
       "    </tr>\n",
       "    <tr>\n",
       "      <th>6</th>\n",
       "      <td>CAND-9</td>\n",
       "      <td>POS-1</td>\n",
       "      <td>Regional Sales</td>\n",
       "      <td>2025-09-25</td>\n",
       "      <td>Unknown</td>\n",
       "      <td>Rejected</td>\n",
       "      <td>2025-09-25</td>\n",
       "      <td>2025</td>\n",
       "      <td>9</td>\n",
       "      <td>3</td>\n",
       "      <td>...</td>\n",
       "      <td>0</td>\n",
       "      <td>0</td>\n",
       "      <td>0.0</td>\n",
       "      <td>21</td>\n",
       "      <td>1</td>\n",
       "      <td>8</td>\n",
       "      <td>1</td>\n",
       "      <td>7</td>\n",
       "      <td>Fall</td>\n",
       "      <td>Rejected</td>\n",
       "    </tr>\n",
       "    <tr>\n",
       "      <th>7</th>\n",
       "      <td>CAND-22</td>\n",
       "      <td>POS-1</td>\n",
       "      <td>Regional Sales</td>\n",
       "      <td>2025-10-02</td>\n",
       "      <td>Indeed</td>\n",
       "      <td>Unknown</td>\n",
       "      <td>2025-10-02</td>\n",
       "      <td>2025</td>\n",
       "      <td>10</td>\n",
       "      <td>4</td>\n",
       "      <td>...</td>\n",
       "      <td>0</td>\n",
       "      <td>0</td>\n",
       "      <td>0.0</td>\n",
       "      <td>21</td>\n",
       "      <td>1</td>\n",
       "      <td>8</td>\n",
       "      <td>2</td>\n",
       "      <td>1</td>\n",
       "      <td>Fall</td>\n",
       "      <td>Unknown</td>\n",
       "    </tr>\n",
       "    <tr>\n",
       "      <th>8</th>\n",
       "      <td>CAND-22</td>\n",
       "      <td>POS-1</td>\n",
       "      <td>Regional Sales</td>\n",
       "      <td>2025-10-02</td>\n",
       "      <td>Indeed</td>\n",
       "      <td>Applied</td>\n",
       "      <td>2025-10-02</td>\n",
       "      <td>2025</td>\n",
       "      <td>10</td>\n",
       "      <td>4</td>\n",
       "      <td>...</td>\n",
       "      <td>0</td>\n",
       "      <td>0</td>\n",
       "      <td>0.0</td>\n",
       "      <td>21</td>\n",
       "      <td>1</td>\n",
       "      <td>8</td>\n",
       "      <td>2</td>\n",
       "      <td>1</td>\n",
       "      <td>Fall</td>\n",
       "      <td>In Progress - Early</td>\n",
       "    </tr>\n",
       "    <tr>\n",
       "      <th>9</th>\n",
       "      <td>CAND-19</td>\n",
       "      <td>POS-1</td>\n",
       "      <td>Regional Sales</td>\n",
       "      <td>2025-10-03</td>\n",
       "      <td>Company Website</td>\n",
       "      <td>Screened</td>\n",
       "      <td>2025-10-08</td>\n",
       "      <td>2025</td>\n",
       "      <td>10</td>\n",
       "      <td>4</td>\n",
       "      <td>...</td>\n",
       "      <td>1</td>\n",
       "      <td>0</td>\n",
       "      <td>5.0</td>\n",
       "      <td>21</td>\n",
       "      <td>1</td>\n",
       "      <td>8</td>\n",
       "      <td>1</td>\n",
       "      <td>2</td>\n",
       "      <td>Fall</td>\n",
       "      <td>In Progress - Early</td>\n",
       "    </tr>\n",
       "  </tbody>\n",
       "</table>\n",
       "<p>10 rows × 33 columns</p>\n",
       "</div>"
      ],
      "text/plain": [
       "  candidateid positionid        jobtitle applicationdate             source  \\\n",
       "0      CAND-1      POS-1         Unknown      2025-08-18             Indeed   \n",
       "1     CAND-15      POS-1  Regional Sales      2025-09-07  Employee Referral   \n",
       "2     CAND-13      POS-1         Unknown      2025-09-14           Job Fair   \n",
       "3     CAND-16      POS-1  Regional Sales      2025-09-15  Employee Referral   \n",
       "4     CAND-16      POS-1  Regional Sales      2025-09-15  Employee Referral   \n",
       "5     CAND-14      POS-1  Regional Sales      2025-09-20             Indeed   \n",
       "6      CAND-9      POS-1  Regional Sales      2025-09-25            Unknown   \n",
       "7     CAND-22      POS-1  Regional Sales      2025-10-02             Indeed   \n",
       "8     CAND-22      POS-1  Regional Sales      2025-10-02             Indeed   \n",
       "9     CAND-19      POS-1  Regional Sales      2025-10-03    Company Website   \n",
       "\n",
       "      stage dateatstage  application_year  application_month  \\\n",
       "0  Rejected  2025-08-18              2025                  8   \n",
       "1   Unknown  2025-09-07              2025                  9   \n",
       "2  Rejected  2025-09-14              2025                  9   \n",
       "3   Applied  2025-09-15              2025                  9   \n",
       "4   Applied  2025-09-15              2025                  9   \n",
       "5  Rejected  2025-09-20              2025                  9   \n",
       "6  Rejected  2025-09-25              2025                  9   \n",
       "7   Unknown  2025-10-02              2025                 10   \n",
       "8   Applied  2025-10-02              2025                 10   \n",
       "9  Screened  2025-10-08              2025                 10   \n",
       "\n",
       "   application_quarter  ... is_company_website is_job_fair  days_in_process  \\\n",
       "0                    3  ...                  0           0              0.0   \n",
       "1                    3  ...                  0           0              0.0   \n",
       "2                    3  ...                  0           1              0.0   \n",
       "3                    3  ...                  0           0              0.0   \n",
       "4                    3  ...                  0           0              0.0   \n",
       "5                    3  ...                  0           0              0.0   \n",
       "6                    3  ...                  0           0              0.0   \n",
       "7                    4  ...                  0           0              0.0   \n",
       "8                    4  ...                  0           0              0.0   \n",
       "9                    4  ...                  1           0              5.0   \n",
       "\n",
       "   applications_per_position  hires_per_position  rejections_per_position  \\\n",
       "0                         21                   1                        8   \n",
       "1                         21                   1                        8   \n",
       "2                         21                   1                        8   \n",
       "3                         21                   1                        8   \n",
       "4                         21                   1                        8   \n",
       "5                         21                   1                        8   \n",
       "6                         21                   1                        8   \n",
       "7                         21                   1                        8   \n",
       "8                         21                   1                        8   \n",
       "9                         21                   1                        8   \n",
       "\n",
       "   stage_count  furthest_stage  application_season  recruitment_outcome  \n",
       "0            1               7              Summer             Rejected  \n",
       "1            1               0                Fall              Unknown  \n",
       "2            1               7                Fall             Rejected  \n",
       "3            2               1                Fall  In Progress - Early  \n",
       "4            2               1                Fall  In Progress - Early  \n",
       "5            1               7                Fall             Rejected  \n",
       "6            1               7                Fall             Rejected  \n",
       "7            2               1                Fall              Unknown  \n",
       "8            2               1                Fall  In Progress - Early  \n",
       "9            1               2                Fall  In Progress - Early  \n",
       "\n",
       "[10 rows x 33 columns]"
      ]
     },
     "execution_count": 33,
     "metadata": {},
     "output_type": "execute_result"
    }
   ],
   "source": [
    "# Sort by PositionID and ApplicationDate\n",
    "df = df.sort_values(['positionid', 'applicationdate']).reset_index(drop=True)\n",
    "print(\"Data sorted by PositionID and ApplicationDate\")\n",
    "df.head(10)"
   ]
  },
  {
   "cell_type": "markdown",
   "metadata": {},
   "source": [
    "#### 6.12 Final Data Quality Check"
   ]
  },
  {
   "cell_type": "code",
   "execution_count": 34,
   "metadata": {},
   "outputs": [
    {
     "name": "stdout",
     "output_type": "stream",
     "text": [
      "============================================================\n",
      "FINAL DATA QUALITY SUMMARY\n",
      "============================================================\n",
      "\n",
      "Final shape: (16668, 33)\n",
      "\n",
      "Columns: ['candidateid', 'positionid', 'jobtitle', 'applicationdate', 'source', 'stage', 'dateatstage', 'application_year', 'application_month', 'application_quarter', 'application_month_name', 'application_day_of_week', 'stage_number', 'is_applied', 'is_screened', 'is_interview1', 'is_interview2', 'is_offer', 'is_hired', 'is_rejected', 'is_linkedin', 'is_indeed', 'is_referral', 'is_company_website', 'is_job_fair', 'days_in_process', 'applications_per_position', 'hires_per_position', 'rejections_per_position', 'stage_count', 'furthest_stage', 'application_season', 'recruitment_outcome']\n",
      "\n",
      "Missing values:\n",
      "candidateid                     0\n",
      "positionid                      0\n",
      "jobtitle                        0\n",
      "applicationdate                 0\n",
      "source                          0\n",
      "stage                           0\n",
      "dateatstage                  1686\n",
      "application_year                0\n",
      "application_month               0\n",
      "application_quarter             0\n",
      "application_month_name          0\n",
      "application_day_of_week         0\n",
      "stage_number                    0\n",
      "is_applied                      0\n",
      "is_screened                     0\n",
      "is_interview1                   0\n",
      "is_interview2                   0\n",
      "is_offer                        0\n",
      "is_hired                        0\n",
      "is_rejected                     0\n",
      "is_linkedin                     0\n",
      "is_indeed                       0\n",
      "is_referral                     0\n",
      "is_company_website              0\n",
      "is_job_fair                     0\n",
      "days_in_process                 0\n",
      "applications_per_position       0\n",
      "hires_per_position              0\n",
      "rejections_per_position         0\n",
      "stage_count                     0\n",
      "furthest_stage                  0\n",
      "application_season              0\n",
      "recruitment_outcome             0\n",
      "dtype: int64\n",
      "\n",
      "Duplicates: 801\n"
     ]
    }
   ],
   "source": [
    "# Final summary\n",
    "print(\"=\" * 60)\n",
    "print(\"FINAL DATA QUALITY SUMMARY\")\n",
    "print(\"=\" * 60)\n",
    "print(f\"\\nFinal shape: {df.shape}\")\n",
    "print(f\"\\nColumns: {list(df.columns)}\")\n",
    "print(f\"\\nMissing values:\")\n",
    "print(df.isnull().sum())\n",
    "print(f\"\\nDuplicates: {df.duplicated().sum()}\")"
   ]
  },
  {
   "cell_type": "markdown",
   "metadata": {},
   "source": [
    "### Save Cleaned Data"
   ]
  },
  {
   "cell_type": "code",
   "execution_count": 35,
   "metadata": {},
   "outputs": [
    {
     "name": "stdout",
     "output_type": "stream",
     "text": [
      "Cleaned data saved to: ../data/processed/Recruitment_Funnel_cleaned.csv\n",
      "Total records: 16668\n"
     ]
    }
   ],
   "source": [
    "# Save to processed folder\n",
    "output_path = '../data/processed/Recruitment_Funnel_cleaned.csv'\n",
    "df.to_csv(output_path, index=False)\n",
    "print(f\"Cleaned data saved to: {output_path}\")\n",
    "print(f\"Total records: {len(df)}\")"
   ]
  },
  {
   "cell_type": "markdown",
   "metadata": {},
   "source": [
    "---\n",
    "## Summary\n",
    "\n",
    "### Data Cleaning & Feature Engineering Completed!\n",
    "\n",
    "**Steps Performed:**\n",
    "1. Checked for redundant columns\n",
    "2. Renamed columns to snake_case\n",
    "3. Removed duplicates\n",
    "4. Handled missing values\n",
    "5. Cleaned all columns:\n",
    "   - CandidateID, PositionID, JobTitle\n",
    "   - ApplicationDate, DateatStage (datetime)\n",
    "   - Source, Stage (standardized)\n",
    "6. **Feature Engineering:**\n",
    "   - **Stage hierarchy**: Stage numbers and ordering\n",
    "   - **Binary flags**: Stage and source indicators\n",
    "   - **Time-based**: Days in recruitment process\n",
    "   - **Position metrics**: Applications, hires, rejections per position\n",
    "   - **Conversion rates**: Screening, interview, hire rates\n",
    "   - **Source effectiveness**: Hire and rejection rates by source\n",
    "   - **Candidate journey**: Stage count, furthest stage reached\n",
    "   - **Seasonal**: Application season classification\n",
    "   - **Outcome categories**: Hired, Rejected, In Progress, etc.\n",
    "\n",
    "**Feature Summary:**\n",
    "- Original columns: 7\n",
    "- Final columns: 40+\n",
    "- New features: 33+"
   ]
  }
 ],
 "metadata": {
  "kernelspec": {
   "display_name": "base",
   "language": "python",
   "name": "python3"
  },
  "language_info": {
   "codemirror_mode": {
    "name": "ipython",
    "version": 3
   },
   "file_extension": ".py",
   "mimetype": "text/x-python",
   "name": "python",
   "nbconvert_exporter": "python",
   "pygments_lexer": "ipython3",
   "version": "3.12.7"
  }
 },
 "nbformat": 4,
 "nbformat_minor": 4
}
